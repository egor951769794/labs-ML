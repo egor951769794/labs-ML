{
 "cells": [
  {
   "cell_type": "markdown",
   "metadata": {
    "id": "8O276mkOqi9O"
   },
   "source": [
    "# Лабораторная работа 7. Понижение размерности. Отбор признаков. Извлечение признаков"
   ]
  },
  {
   "cell_type": "markdown",
   "metadata": {
    "id": "GdFLVHXmquuS"
   },
   "source": [
    "В задачах машинного обучения практически всегда приходится иметь дело с данными, которые представлены **в пространствах высокой размерности**. Примеры:\n",
    "- датафреймы с большим количеством столбцов (особенно после выполнения one-hot кодирования)\n",
    "- пиксели изображения (особенно, если мы обрабатываем изображения классическими моделями)\n",
    "- векторные представления слов / предложений / текстов (современные word2vec модели работают с пространствами размерности 300+)"
   ]
  },
  {
   "cell_type": "markdown",
   "metadata": {
    "id": "B5ZzIHM8vNK3"
   },
   "source": [
    "**Понижение размерности - это** уменьшение количества признаков (переменных, столбцов) в наборе данных"
   ]
  },
  {
   "cell_type": "markdown",
   "metadata": {
    "id": "c_MNGtKVqoRT"
   },
   "source": [
    "## Для чего имеет смысл понижать размерность данных"
   ]
  },
  {
   "cell_type": "markdown",
   "metadata": {
    "id": "6xNZEn_CsWFK"
   },
   "source": [
    "Может показаться, что чем больше информации нам известно о данных, тем лучше и тем более качественные модели мы сможем построить, однако на практике это утверждение не работает. Можно привести следующие примеры, которые могут заставить задуматься о необходимости понижения размерности данных:\n",
    "- работа с данными высокой размерности требует большого объема памяти и создает сильную нагрузку на процессор (каждый сталкивался с тем, что не получалось обучить модель на всем датасете после one-hot кодирования😀)\n",
    "- высокая размерность данных может быть причиной переобучения моделей;\n",
    "- решение задач кластеризации, а также других задач машинного обучения с помощью методов, основанных на анализе близости объектов (KMeans, DBSCAN, KNN, SVM и др.) может быть затруднено в виду так называемого **проклятия размерности** (Р. Беллман) - в пространствах высокой размерности все объекты кажутся одинаково близкими\n"
   ]
  },
  {
   "cell_type": "markdown",
   "metadata": {
    "id": "SpszGJ21u_cZ"
   },
   "source": [
    "А еще понижение размерности (в частности до 2 и 3 признаков) позволяет нам визуализировать сложные данные (в ML есть отдельная задача - визуализация данных)"
   ]
  },
  {
   "cell_type": "markdown",
   "metadata": {
    "id": "_r1st2F1vWS4"
   },
   "source": [
    "**Существуют два подхода к понижению размерности данных:**\n",
    "- отбор признаков (feature selection)\n",
    "- выделение признаков (feature extraction)"
   ]
  },
  {
   "cell_type": "markdown",
   "metadata": {
    "id": "8JK7ZWXqwcgH"
   },
   "source": [
    "Важно понимать, что в основе всех алгоритмов понижения размерности лежит понимание каждого признака как некоторой случайной величины. Если признаки зависят друг от друга, значит мы имеем дело с зависимыми случайными величинами. Данные в целом при таком подходе представляют собой совместное распределение нескольких случайных величин. **Цель понижения размерности: максимизация дисперсии (разброса) данных при переходе от высокой размерности к целевой.**"
   ]
  },
  {
   "cell_type": "markdown",
   "metadata": {
    "id": "1pg19XEwxsj2"
   },
   "source": [
    "## Загрузка данных"
   ]
  },
  {
   "cell_type": "markdown",
   "metadata": {
    "id": "ZHFthYrWxuiO"
   },
   "source": [
    "Будем работать с уже знакомыми нам данными (банк)"
   ]
  },
  {
   "cell_type": "code",
   "execution_count": null,
   "metadata": {
    "id": "o3WeL5o7x_rm"
   },
   "outputs": [],
   "source": [
    "import pandas as pd"
   ]
  },
  {
   "cell_type": "code",
   "execution_count": null,
   "metadata": {
    "colab": {
     "base_uri": "https://localhost:8080/",
     "height": 299
    },
    "id": "hgXhAUmKyBll",
    "outputId": "e5c5fae1-97fb-4437-c873-12a486fbc7ef"
   },
   "outputs": [
    {
     "data": {
      "text/html": [
       "\n",
       "  <div id=\"df-b75eeb85-b791-41dc-b6b4-70493c3322d1\">\n",
       "    <div class=\"colab-df-container\">\n",
       "      <div>\n",
       "<style scoped>\n",
       "    .dataframe tbody tr th:only-of-type {\n",
       "        vertical-align: middle;\n",
       "    }\n",
       "\n",
       "    .dataframe tbody tr th {\n",
       "        vertical-align: top;\n",
       "    }\n",
       "\n",
       "    .dataframe thead th {\n",
       "        text-align: right;\n",
       "    }\n",
       "</style>\n",
       "<table border=\"1\" class=\"dataframe\">\n",
       "  <thead>\n",
       "    <tr style=\"text-align: right;\">\n",
       "      <th></th>\n",
       "      <th>Attrition_Flag</th>\n",
       "      <th>Customer_Age</th>\n",
       "      <th>Dependent_count</th>\n",
       "      <th>Education_Level</th>\n",
       "      <th>Income_Category</th>\n",
       "      <th>Card_Category</th>\n",
       "      <th>Months_on_book</th>\n",
       "      <th>Total_Relationship_Count</th>\n",
       "      <th>Months_Inactive_12_mon</th>\n",
       "      <th>Contacts_Count_12_mon</th>\n",
       "      <th>...</th>\n",
       "      <th>Total_Trans_Amt</th>\n",
       "      <th>Total_Trans_Ct</th>\n",
       "      <th>Total_Ct_Chng_Q4_Q1</th>\n",
       "      <th>Avg_Utilization_Ratio</th>\n",
       "      <th>c_F</th>\n",
       "      <th>c_M</th>\n",
       "      <th>c_Divorced</th>\n",
       "      <th>c_Married</th>\n",
       "      <th>c_Single</th>\n",
       "      <th>c_Unknown</th>\n",
       "    </tr>\n",
       "  </thead>\n",
       "  <tbody>\n",
       "    <tr>\n",
       "      <th>0</th>\n",
       "      <td>0</td>\n",
       "      <td>45</td>\n",
       "      <td>3</td>\n",
       "      <td>2</td>\n",
       "      <td>3</td>\n",
       "      <td>0</td>\n",
       "      <td>39</td>\n",
       "      <td>5</td>\n",
       "      <td>1</td>\n",
       "      <td>3</td>\n",
       "      <td>...</td>\n",
       "      <td>1144</td>\n",
       "      <td>42</td>\n",
       "      <td>1.625</td>\n",
       "      <td>0.061</td>\n",
       "      <td>0</td>\n",
       "      <td>1</td>\n",
       "      <td>0</td>\n",
       "      <td>1</td>\n",
       "      <td>0</td>\n",
       "      <td>0</td>\n",
       "    </tr>\n",
       "    <tr>\n",
       "      <th>1</th>\n",
       "      <td>0</td>\n",
       "      <td>49</td>\n",
       "      <td>5</td>\n",
       "      <td>5</td>\n",
       "      <td>1</td>\n",
       "      <td>0</td>\n",
       "      <td>44</td>\n",
       "      <td>6</td>\n",
       "      <td>1</td>\n",
       "      <td>2</td>\n",
       "      <td>...</td>\n",
       "      <td>1291</td>\n",
       "      <td>33</td>\n",
       "      <td>3.714</td>\n",
       "      <td>0.105</td>\n",
       "      <td>1</td>\n",
       "      <td>0</td>\n",
       "      <td>0</td>\n",
       "      <td>0</td>\n",
       "      <td>1</td>\n",
       "      <td>0</td>\n",
       "    </tr>\n",
       "    <tr>\n",
       "      <th>2</th>\n",
       "      <td>0</td>\n",
       "      <td>51</td>\n",
       "      <td>3</td>\n",
       "      <td>5</td>\n",
       "      <td>4</td>\n",
       "      <td>0</td>\n",
       "      <td>36</td>\n",
       "      <td>4</td>\n",
       "      <td>1</td>\n",
       "      <td>0</td>\n",
       "      <td>...</td>\n",
       "      <td>1887</td>\n",
       "      <td>20</td>\n",
       "      <td>2.333</td>\n",
       "      <td>0.000</td>\n",
       "      <td>0</td>\n",
       "      <td>1</td>\n",
       "      <td>0</td>\n",
       "      <td>1</td>\n",
       "      <td>0</td>\n",
       "      <td>0</td>\n",
       "    </tr>\n",
       "    <tr>\n",
       "      <th>3</th>\n",
       "      <td>0</td>\n",
       "      <td>40</td>\n",
       "      <td>4</td>\n",
       "      <td>2</td>\n",
       "      <td>1</td>\n",
       "      <td>0</td>\n",
       "      <td>34</td>\n",
       "      <td>3</td>\n",
       "      <td>4</td>\n",
       "      <td>1</td>\n",
       "      <td>...</td>\n",
       "      <td>1171</td>\n",
       "      <td>20</td>\n",
       "      <td>2.333</td>\n",
       "      <td>0.760</td>\n",
       "      <td>1</td>\n",
       "      <td>0</td>\n",
       "      <td>0</td>\n",
       "      <td>0</td>\n",
       "      <td>0</td>\n",
       "      <td>1</td>\n",
       "    </tr>\n",
       "    <tr>\n",
       "      <th>4</th>\n",
       "      <td>0</td>\n",
       "      <td>40</td>\n",
       "      <td>3</td>\n",
       "      <td>1</td>\n",
       "      <td>3</td>\n",
       "      <td>0</td>\n",
       "      <td>21</td>\n",
       "      <td>5</td>\n",
       "      <td>1</td>\n",
       "      <td>0</td>\n",
       "      <td>...</td>\n",
       "      <td>816</td>\n",
       "      <td>28</td>\n",
       "      <td>2.500</td>\n",
       "      <td>0.000</td>\n",
       "      <td>0</td>\n",
       "      <td>1</td>\n",
       "      <td>0</td>\n",
       "      <td>1</td>\n",
       "      <td>0</td>\n",
       "      <td>0</td>\n",
       "    </tr>\n",
       "  </tbody>\n",
       "</table>\n",
       "<p>5 rows × 24 columns</p>\n",
       "</div>\n",
       "      <button class=\"colab-df-convert\" onclick=\"convertToInteractive('df-b75eeb85-b791-41dc-b6b4-70493c3322d1')\"\n",
       "              title=\"Convert this dataframe to an interactive table.\"\n",
       "              style=\"display:none;\">\n",
       "        \n",
       "  <svg xmlns=\"http://www.w3.org/2000/svg\" height=\"24px\"viewBox=\"0 0 24 24\"\n",
       "       width=\"24px\">\n",
       "    <path d=\"M0 0h24v24H0V0z\" fill=\"none\"/>\n",
       "    <path d=\"M18.56 5.44l.94 2.06.94-2.06 2.06-.94-2.06-.94-.94-2.06-.94 2.06-2.06.94zm-11 1L8.5 8.5l.94-2.06 2.06-.94-2.06-.94L8.5 2.5l-.94 2.06-2.06.94zm10 10l.94 2.06.94-2.06 2.06-.94-2.06-.94-.94-2.06-.94 2.06-2.06.94z\"/><path d=\"M17.41 7.96l-1.37-1.37c-.4-.4-.92-.59-1.43-.59-.52 0-1.04.2-1.43.59L10.3 9.45l-7.72 7.72c-.78.78-.78 2.05 0 2.83L4 21.41c.39.39.9.59 1.41.59.51 0 1.02-.2 1.41-.59l7.78-7.78 2.81-2.81c.8-.78.8-2.07 0-2.86zM5.41 20L4 18.59l7.72-7.72 1.47 1.35L5.41 20z\"/>\n",
       "  </svg>\n",
       "      </button>\n",
       "      \n",
       "  <style>\n",
       "    .colab-df-container {\n",
       "      display:flex;\n",
       "      flex-wrap:wrap;\n",
       "      gap: 12px;\n",
       "    }\n",
       "\n",
       "    .colab-df-convert {\n",
       "      background-color: #E8F0FE;\n",
       "      border: none;\n",
       "      border-radius: 50%;\n",
       "      cursor: pointer;\n",
       "      display: none;\n",
       "      fill: #1967D2;\n",
       "      height: 32px;\n",
       "      padding: 0 0 0 0;\n",
       "      width: 32px;\n",
       "    }\n",
       "\n",
       "    .colab-df-convert:hover {\n",
       "      background-color: #E2EBFA;\n",
       "      box-shadow: 0px 1px 2px rgba(60, 64, 67, 0.3), 0px 1px 3px 1px rgba(60, 64, 67, 0.15);\n",
       "      fill: #174EA6;\n",
       "    }\n",
       "\n",
       "    [theme=dark] .colab-df-convert {\n",
       "      background-color: #3B4455;\n",
       "      fill: #D2E3FC;\n",
       "    }\n",
       "\n",
       "    [theme=dark] .colab-df-convert:hover {\n",
       "      background-color: #434B5C;\n",
       "      box-shadow: 0px 1px 3px 1px rgba(0, 0, 0, 0.15);\n",
       "      filter: drop-shadow(0px 1px 2px rgba(0, 0, 0, 0.3));\n",
       "      fill: #FFFFFF;\n",
       "    }\n",
       "  </style>\n",
       "\n",
       "      <script>\n",
       "        const buttonEl =\n",
       "          document.querySelector('#df-b75eeb85-b791-41dc-b6b4-70493c3322d1 button.colab-df-convert');\n",
       "        buttonEl.style.display =\n",
       "          google.colab.kernel.accessAllowed ? 'block' : 'none';\n",
       "\n",
       "        async function convertToInteractive(key) {\n",
       "          const element = document.querySelector('#df-b75eeb85-b791-41dc-b6b4-70493c3322d1');\n",
       "          const dataTable =\n",
       "            await google.colab.kernel.invokeFunction('convertToInteractive',\n",
       "                                                     [key], {});\n",
       "          if (!dataTable) return;\n",
       "\n",
       "          const docLinkHtml = 'Like what you see? Visit the ' +\n",
       "            '<a target=\"_blank\" href=https://colab.research.google.com/notebooks/data_table.ipynb>data table notebook</a>'\n",
       "            + ' to learn more about interactive tables.';\n",
       "          element.innerHTML = '';\n",
       "          dataTable['output_type'] = 'display_data';\n",
       "          await google.colab.output.renderOutput(dataTable, element);\n",
       "          const docLink = document.createElement('div');\n",
       "          docLink.innerHTML = docLinkHtml;\n",
       "          element.appendChild(docLink);\n",
       "        }\n",
       "      </script>\n",
       "    </div>\n",
       "  </div>\n",
       "  "
      ],
      "text/plain": [
       "   Attrition_Flag  Customer_Age  Dependent_count  Education_Level  \\\n",
       "0               0            45                3                2   \n",
       "1               0            49                5                5   \n",
       "2               0            51                3                5   \n",
       "3               0            40                4                2   \n",
       "4               0            40                3                1   \n",
       "\n",
       "   Income_Category  Card_Category  Months_on_book  Total_Relationship_Count  \\\n",
       "0                3              0              39                         5   \n",
       "1                1              0              44                         6   \n",
       "2                4              0              36                         4   \n",
       "3                1              0              34                         3   \n",
       "4                3              0              21                         5   \n",
       "\n",
       "   Months_Inactive_12_mon  Contacts_Count_12_mon  ...  Total_Trans_Amt  \\\n",
       "0                       1                      3  ...             1144   \n",
       "1                       1                      2  ...             1291   \n",
       "2                       1                      0  ...             1887   \n",
       "3                       4                      1  ...             1171   \n",
       "4                       1                      0  ...              816   \n",
       "\n",
       "   Total_Trans_Ct  Total_Ct_Chng_Q4_Q1  Avg_Utilization_Ratio  c_F  c_M  \\\n",
       "0              42                1.625                  0.061    0    1   \n",
       "1              33                3.714                  0.105    1    0   \n",
       "2              20                2.333                  0.000    0    1   \n",
       "3              20                2.333                  0.760    1    0   \n",
       "4              28                2.500                  0.000    0    1   \n",
       "\n",
       "   c_Divorced  c_Married  c_Single  c_Unknown  \n",
       "0           0          1         0          0  \n",
       "1           0          0         1          0  \n",
       "2           0          1         0          0  \n",
       "3           0          0         0          1  \n",
       "4           0          1         0          0  \n",
       "\n",
       "[5 rows x 24 columns]"
      ]
     },
     "execution_count": 167,
     "metadata": {},
     "output_type": "execute_result"
    }
   ],
   "source": [
    "data = pd.read_csv('bank_churners_preprocessed.csv')\n",
    "data.drop(['Unnamed: 0'], axis=1, inplace=True)\n",
    "data.head()"
   ]
  },
  {
   "cell_type": "code",
   "execution_count": null,
   "metadata": {
    "colab": {
     "base_uri": "https://localhost:8080/"
    },
    "id": "ZixISMHn5l6J",
    "outputId": "4d0005e9-3114-49b0-cf68-7a0d3587b2f4"
   },
   "outputs": [
    {
     "data": {
      "text/plain": [
       "(3254, 24)"
      ]
     },
     "execution_count": 168,
     "metadata": {},
     "output_type": "execute_result"
    }
   ],
   "source": [
    "data = data.sort_values(by='Attrition_Flag', ascending=False)\n",
    "data = data[:(data[data['Attrition_Flag'] == 1].shape[0]*2)]\n",
    "data.shape"
   ]
  },
  {
   "cell_type": "code",
   "execution_count": null,
   "metadata": {
    "colab": {
     "base_uri": "https://localhost:8080/"
    },
    "id": "Ia1p4td-6qM_",
    "outputId": "dec48639-017b-4ec5-bb63-f1a7c05a383f"
   },
   "outputs": [
    {
     "data": {
      "text/plain": [
       "((1627, 24), (1627, 24))"
      ]
     },
     "execution_count": 169,
     "metadata": {},
     "output_type": "execute_result"
    }
   ],
   "source": [
    "data[data['Attrition_Flag'] == 0].shape, data[data['Attrition_Flag'] == 1].shape"
   ]
  },
  {
   "cell_type": "code",
   "execution_count": null,
   "metadata": {
    "id": "mcvG-9Lj6uzo"
   },
   "outputs": [],
   "source": [
    "data = data.sample(frac=1)"
   ]
  },
  {
   "cell_type": "markdown",
   "metadata": {
    "id": "qGVGyZmRyaim"
   },
   "source": [
    "Набор данных содержит 24 признака. Будем пытаться понизить размерность"
   ]
  },
  {
   "cell_type": "code",
   "execution_count": null,
   "metadata": {
    "id": "5KYF5wq1y8YU"
   },
   "outputs": [],
   "source": [
    "X = data.drop(['Attrition_Flag'], axis=1)\n",
    "y = data['Attrition_Flag']"
   ]
  },
  {
   "cell_type": "markdown",
   "metadata": {
    "id": "O_eWUmM3zQ2c"
   },
   "source": [
    "Тестировать модель будем с помощью ансамбля"
   ]
  },
  {
   "cell_type": "code",
   "execution_count": null,
   "metadata": {
    "id": "8kPqaP1zzF0F"
   },
   "outputs": [],
   "source": [
    "from sklearn.ensemble import BaggingClassifier\n",
    "from sklearn.model_selection import train_test_split\n",
    "from sklearn.metrics import classification_report"
   ]
  },
  {
   "cell_type": "code",
   "execution_count": null,
   "metadata": {
    "id": "c09vjCTXzxK9"
   },
   "outputs": [],
   "source": [
    "def test(X, y):\n",
    "  X_train, X_test, y_train, y_test = train_test_split(X, y, test_size=0.15, shuffle=False)\n",
    "  bag = BaggingClassifier().fit(X_train, y_train)\n",
    "  print(classification_report(y_test, bag.predict(X_test)))"
   ]
  },
  {
   "cell_type": "code",
   "execution_count": null,
   "metadata": {
    "id": "UEqEwzzU0k-U"
   },
   "outputs": [],
   "source": [
    "import numpy as np"
   ]
  },
  {
   "cell_type": "code",
   "execution_count": null,
   "metadata": {
    "id": "kVLpf7db0pos"
   },
   "outputs": [],
   "source": [
    "np.random.seed(42)"
   ]
  },
  {
   "cell_type": "code",
   "execution_count": null,
   "metadata": {
    "colab": {
     "base_uri": "https://localhost:8080/"
    },
    "id": "cm0iVIzU0bQb",
    "outputId": "9fc970f7-4165-4f7f-b03c-6eae9db66f9a"
   },
   "outputs": [
    {
     "name": "stdout",
     "output_type": "stream",
     "text": [
      "              precision    recall  f1-score   support\n",
      "\n",
      "           0       1.00      0.99      0.99       245\n",
      "           1       0.99      1.00      0.99       244\n",
      "\n",
      "    accuracy                           0.99       489\n",
      "   macro avg       0.99      0.99      0.99       489\n",
      "weighted avg       0.99      0.99      0.99       489\n",
      "\n"
     ]
    }
   ],
   "source": [
    "test(X, y)"
   ]
  },
  {
   "cell_type": "markdown",
   "metadata": {
    "id": "XIu98uIdvpl4"
   },
   "source": [
    "## 1. Отбор признаков"
   ]
  },
  {
   "cell_type": "markdown",
   "metadata": {
    "id": "FCXqYWgPvumX"
   },
   "source": [
    "Отбор признаков предполагает, что мы удаляем из набора данных признаки, которые практически не несут в себе достаточно информации об объектах. **Мы оставляем в датасете только те признаки, которые раскрывают суть данных**. Мы рассмотрим несколько методов понижения размерности путем отбора признаков"
   ]
  },
  {
   "cell_type": "markdown",
   "metadata": {
    "id": "iUBHvmlawPBP"
   },
   "source": [
    "### 1.1 Отбираем признаки с высокой дисперсией"
   ]
  },
  {
   "cell_type": "markdown",
   "metadata": {
    "id": "zGr273xhwW8X"
   },
   "source": [
    "Самый очевидный способ отбора признаков - брать признаки с высокой дисперсией. Такой подход предполагает, что мы работаем только с предикторами (игнорируем целевой признак)"
   ]
  },
  {
   "cell_type": "code",
   "execution_count": null,
   "metadata": {
    "colab": {
     "base_uri": "https://localhost:8080/",
     "height": 393
    },
    "id": "VsXJkt1C2206",
    "outputId": "5d09f469-1834-4701-d6b1-2bc1ed63a3d1"
   },
   "outputs": [
    {
     "data": {
      "text/html": [
       "\n",
       "  <div id=\"df-8a4808e9-ab07-4468-ba06-3bcd71fa8743\">\n",
       "    <div class=\"colab-df-container\">\n",
       "      <div>\n",
       "<style scoped>\n",
       "    .dataframe tbody tr th:only-of-type {\n",
       "        vertical-align: middle;\n",
       "    }\n",
       "\n",
       "    .dataframe tbody tr th {\n",
       "        vertical-align: top;\n",
       "    }\n",
       "\n",
       "    .dataframe thead th {\n",
       "        text-align: right;\n",
       "    }\n",
       "</style>\n",
       "<table border=\"1\" class=\"dataframe\">\n",
       "  <thead>\n",
       "    <tr style=\"text-align: right;\">\n",
       "      <th></th>\n",
       "      <th>Customer_Age</th>\n",
       "      <th>Dependent_count</th>\n",
       "      <th>Education_Level</th>\n",
       "      <th>Income_Category</th>\n",
       "      <th>Card_Category</th>\n",
       "      <th>Months_on_book</th>\n",
       "      <th>Total_Relationship_Count</th>\n",
       "      <th>Months_Inactive_12_mon</th>\n",
       "      <th>Contacts_Count_12_mon</th>\n",
       "      <th>Credit_Limit</th>\n",
       "      <th>...</th>\n",
       "      <th>Total_Trans_Amt</th>\n",
       "      <th>Total_Trans_Ct</th>\n",
       "      <th>Total_Ct_Chng_Q4_Q1</th>\n",
       "      <th>Avg_Utilization_Ratio</th>\n",
       "      <th>c_F</th>\n",
       "      <th>c_M</th>\n",
       "      <th>c_Divorced</th>\n",
       "      <th>c_Married</th>\n",
       "      <th>c_Single</th>\n",
       "      <th>c_Unknown</th>\n",
       "    </tr>\n",
       "  </thead>\n",
       "  <tbody>\n",
       "    <tr>\n",
       "      <th>count</th>\n",
       "      <td>3254.000000</td>\n",
       "      <td>3254.000000</td>\n",
       "      <td>3254.000000</td>\n",
       "      <td>3254.000000</td>\n",
       "      <td>3254.000000</td>\n",
       "      <td>3254.000000</td>\n",
       "      <td>3254.000000</td>\n",
       "      <td>3254.000000</td>\n",
       "      <td>3254.000000</td>\n",
       "      <td>3254.000000</td>\n",
       "      <td>...</td>\n",
       "      <td>3254.000000</td>\n",
       "      <td>3254.000000</td>\n",
       "      <td>3254.000000</td>\n",
       "      <td>3254.000000</td>\n",
       "      <td>3254.000000</td>\n",
       "      <td>3254.000000</td>\n",
       "      <td>3254.000000</td>\n",
       "      <td>3254.000000</td>\n",
       "      <td>3254.000000</td>\n",
       "      <td>3254.000000</td>\n",
       "    </tr>\n",
       "    <tr>\n",
       "      <th>mean</th>\n",
       "      <td>46.766749</td>\n",
       "      <td>2.413337</td>\n",
       "      <td>2.889367</td>\n",
       "      <td>1.890596</td>\n",
       "      <td>0.076521</td>\n",
       "      <td>36.280578</td>\n",
       "      <td>3.750461</td>\n",
       "      <td>2.555931</td>\n",
       "      <td>2.559312</td>\n",
       "      <td>7212.709004</td>\n",
       "      <td>...</td>\n",
       "      <td>4012.848187</td>\n",
       "      <td>61.529809</td>\n",
       "      <td>0.657285</td>\n",
       "      <td>0.253836</td>\n",
       "      <td>0.625077</td>\n",
       "      <td>0.374923</td>\n",
       "      <td>0.077443</td>\n",
       "      <td>0.430854</td>\n",
       "      <td>0.414567</td>\n",
       "      <td>0.077136</td>\n",
       "    </tr>\n",
       "    <tr>\n",
       "      <th>std</th>\n",
       "      <td>7.371566</td>\n",
       "      <td>1.285434</td>\n",
       "      <td>1.990770</td>\n",
       "      <td>1.417368</td>\n",
       "      <td>0.330788</td>\n",
       "      <td>7.530996</td>\n",
       "      <td>1.550401</td>\n",
       "      <td>1.012574</td>\n",
       "      <td>1.080534</td>\n",
       "      <td>8405.128963</td>\n",
       "      <td>...</td>\n",
       "      <td>2257.919060</td>\n",
       "      <td>21.237771</td>\n",
       "      <td>0.216947</td>\n",
       "      <td>0.293958</td>\n",
       "      <td>0.484177</td>\n",
       "      <td>0.484177</td>\n",
       "      <td>0.267334</td>\n",
       "      <td>0.495272</td>\n",
       "      <td>0.492723</td>\n",
       "      <td>0.266848</td>\n",
       "    </tr>\n",
       "    <tr>\n",
       "      <th>min</th>\n",
       "      <td>26.000000</td>\n",
       "      <td>0.000000</td>\n",
       "      <td>0.000000</td>\n",
       "      <td>0.000000</td>\n",
       "      <td>0.000000</td>\n",
       "      <td>13.000000</td>\n",
       "      <td>1.000000</td>\n",
       "      <td>0.000000</td>\n",
       "      <td>0.000000</td>\n",
       "      <td>1438.300000</td>\n",
       "      <td>...</td>\n",
       "      <td>510.000000</td>\n",
       "      <td>10.000000</td>\n",
       "      <td>0.000000</td>\n",
       "      <td>0.000000</td>\n",
       "      <td>0.000000</td>\n",
       "      <td>0.000000</td>\n",
       "      <td>0.000000</td>\n",
       "      <td>0.000000</td>\n",
       "      <td>0.000000</td>\n",
       "      <td>0.000000</td>\n",
       "    </tr>\n",
       "    <tr>\n",
       "      <th>25%</th>\n",
       "      <td>42.000000</td>\n",
       "      <td>1.250000</td>\n",
       "      <td>1.000000</td>\n",
       "      <td>1.000000</td>\n",
       "      <td>0.000000</td>\n",
       "      <td>32.000000</td>\n",
       "      <td>3.000000</td>\n",
       "      <td>2.000000</td>\n",
       "      <td>2.000000</td>\n",
       "      <td>2140.250000</td>\n",
       "      <td>...</td>\n",
       "      <td>2326.000000</td>\n",
       "      <td>43.000000</td>\n",
       "      <td>0.516000</td>\n",
       "      <td>0.000000</td>\n",
       "      <td>0.000000</td>\n",
       "      <td>0.000000</td>\n",
       "      <td>0.000000</td>\n",
       "      <td>0.000000</td>\n",
       "      <td>0.000000</td>\n",
       "      <td>0.000000</td>\n",
       "    </tr>\n",
       "    <tr>\n",
       "      <th>50%</th>\n",
       "      <td>47.000000</td>\n",
       "      <td>2.000000</td>\n",
       "      <td>3.000000</td>\n",
       "      <td>1.000000</td>\n",
       "      <td>0.000000</td>\n",
       "      <td>36.000000</td>\n",
       "      <td>4.000000</td>\n",
       "      <td>3.000000</td>\n",
       "      <td>3.000000</td>\n",
       "      <td>3412.000000</td>\n",
       "      <td>...</td>\n",
       "      <td>4096.000000</td>\n",
       "      <td>65.000000</td>\n",
       "      <td>0.674000</td>\n",
       "      <td>0.110500</td>\n",
       "      <td>1.000000</td>\n",
       "      <td>0.000000</td>\n",
       "      <td>0.000000</td>\n",
       "      <td>0.000000</td>\n",
       "      <td>0.000000</td>\n",
       "      <td>0.000000</td>\n",
       "    </tr>\n",
       "    <tr>\n",
       "      <th>75%</th>\n",
       "      <td>52.000000</td>\n",
       "      <td>3.000000</td>\n",
       "      <td>5.000000</td>\n",
       "      <td>3.000000</td>\n",
       "      <td>0.000000</td>\n",
       "      <td>40.000000</td>\n",
       "      <td>5.000000</td>\n",
       "      <td>3.000000</td>\n",
       "      <td>3.000000</td>\n",
       "      <td>8593.500000</td>\n",
       "      <td>...</td>\n",
       "      <td>4766.500000</td>\n",
       "      <td>79.000000</td>\n",
       "      <td>0.795750</td>\n",
       "      <td>0.502750</td>\n",
       "      <td>1.000000</td>\n",
       "      <td>1.000000</td>\n",
       "      <td>0.000000</td>\n",
       "      <td>1.000000</td>\n",
       "      <td>1.000000</td>\n",
       "      <td>0.000000</td>\n",
       "    </tr>\n",
       "    <tr>\n",
       "      <th>max</th>\n",
       "      <td>68.000000</td>\n",
       "      <td>5.000000</td>\n",
       "      <td>6.000000</td>\n",
       "      <td>5.000000</td>\n",
       "      <td>3.000000</td>\n",
       "      <td>56.000000</td>\n",
       "      <td>6.000000</td>\n",
       "      <td>6.000000</td>\n",
       "      <td>6.000000</td>\n",
       "      <td>34516.000000</td>\n",
       "      <td>...</td>\n",
       "      <td>15999.000000</td>\n",
       "      <td>127.000000</td>\n",
       "      <td>2.500000</td>\n",
       "      <td>0.999000</td>\n",
       "      <td>1.000000</td>\n",
       "      <td>1.000000</td>\n",
       "      <td>1.000000</td>\n",
       "      <td>1.000000</td>\n",
       "      <td>1.000000</td>\n",
       "      <td>1.000000</td>\n",
       "    </tr>\n",
       "  </tbody>\n",
       "</table>\n",
       "<p>8 rows × 23 columns</p>\n",
       "</div>\n",
       "      <button class=\"colab-df-convert\" onclick=\"convertToInteractive('df-8a4808e9-ab07-4468-ba06-3bcd71fa8743')\"\n",
       "              title=\"Convert this dataframe to an interactive table.\"\n",
       "              style=\"display:none;\">\n",
       "        \n",
       "  <svg xmlns=\"http://www.w3.org/2000/svg\" height=\"24px\"viewBox=\"0 0 24 24\"\n",
       "       width=\"24px\">\n",
       "    <path d=\"M0 0h24v24H0V0z\" fill=\"none\"/>\n",
       "    <path d=\"M18.56 5.44l.94 2.06.94-2.06 2.06-.94-2.06-.94-.94-2.06-.94 2.06-2.06.94zm-11 1L8.5 8.5l.94-2.06 2.06-.94-2.06-.94L8.5 2.5l-.94 2.06-2.06.94zm10 10l.94 2.06.94-2.06 2.06-.94-2.06-.94-.94-2.06-.94 2.06-2.06.94z\"/><path d=\"M17.41 7.96l-1.37-1.37c-.4-.4-.92-.59-1.43-.59-.52 0-1.04.2-1.43.59L10.3 9.45l-7.72 7.72c-.78.78-.78 2.05 0 2.83L4 21.41c.39.39.9.59 1.41.59.51 0 1.02-.2 1.41-.59l7.78-7.78 2.81-2.81c.8-.78.8-2.07 0-2.86zM5.41 20L4 18.59l7.72-7.72 1.47 1.35L5.41 20z\"/>\n",
       "  </svg>\n",
       "      </button>\n",
       "      \n",
       "  <style>\n",
       "    .colab-df-container {\n",
       "      display:flex;\n",
       "      flex-wrap:wrap;\n",
       "      gap: 12px;\n",
       "    }\n",
       "\n",
       "    .colab-df-convert {\n",
       "      background-color: #E8F0FE;\n",
       "      border: none;\n",
       "      border-radius: 50%;\n",
       "      cursor: pointer;\n",
       "      display: none;\n",
       "      fill: #1967D2;\n",
       "      height: 32px;\n",
       "      padding: 0 0 0 0;\n",
       "      width: 32px;\n",
       "    }\n",
       "\n",
       "    .colab-df-convert:hover {\n",
       "      background-color: #E2EBFA;\n",
       "      box-shadow: 0px 1px 2px rgba(60, 64, 67, 0.3), 0px 1px 3px 1px rgba(60, 64, 67, 0.15);\n",
       "      fill: #174EA6;\n",
       "    }\n",
       "\n",
       "    [theme=dark] .colab-df-convert {\n",
       "      background-color: #3B4455;\n",
       "      fill: #D2E3FC;\n",
       "    }\n",
       "\n",
       "    [theme=dark] .colab-df-convert:hover {\n",
       "      background-color: #434B5C;\n",
       "      box-shadow: 0px 1px 3px 1px rgba(0, 0, 0, 0.15);\n",
       "      filter: drop-shadow(0px 1px 2px rgba(0, 0, 0, 0.3));\n",
       "      fill: #FFFFFF;\n",
       "    }\n",
       "  </style>\n",
       "\n",
       "      <script>\n",
       "        const buttonEl =\n",
       "          document.querySelector('#df-8a4808e9-ab07-4468-ba06-3bcd71fa8743 button.colab-df-convert');\n",
       "        buttonEl.style.display =\n",
       "          google.colab.kernel.accessAllowed ? 'block' : 'none';\n",
       "\n",
       "        async function convertToInteractive(key) {\n",
       "          const element = document.querySelector('#df-8a4808e9-ab07-4468-ba06-3bcd71fa8743');\n",
       "          const dataTable =\n",
       "            await google.colab.kernel.invokeFunction('convertToInteractive',\n",
       "                                                     [key], {});\n",
       "          if (!dataTable) return;\n",
       "\n",
       "          const docLinkHtml = 'Like what you see? Visit the ' +\n",
       "            '<a target=\"_blank\" href=https://colab.research.google.com/notebooks/data_table.ipynb>data table notebook</a>'\n",
       "            + ' to learn more about interactive tables.';\n",
       "          element.innerHTML = '';\n",
       "          dataTable['output_type'] = 'display_data';\n",
       "          await google.colab.output.renderOutput(dataTable, element);\n",
       "          const docLink = document.createElement('div');\n",
       "          docLink.innerHTML = docLinkHtml;\n",
       "          element.appendChild(docLink);\n",
       "        }\n",
       "      </script>\n",
       "    </div>\n",
       "  </div>\n",
       "  "
      ],
      "text/plain": [
       "       Customer_Age  Dependent_count  Education_Level  Income_Category  \\\n",
       "count   3254.000000      3254.000000      3254.000000      3254.000000   \n",
       "mean      46.766749         2.413337         2.889367         1.890596   \n",
       "std        7.371566         1.285434         1.990770         1.417368   \n",
       "min       26.000000         0.000000         0.000000         0.000000   \n",
       "25%       42.000000         1.250000         1.000000         1.000000   \n",
       "50%       47.000000         2.000000         3.000000         1.000000   \n",
       "75%       52.000000         3.000000         5.000000         3.000000   \n",
       "max       68.000000         5.000000         6.000000         5.000000   \n",
       "\n",
       "       Card_Category  Months_on_book  Total_Relationship_Count  \\\n",
       "count    3254.000000     3254.000000               3254.000000   \n",
       "mean        0.076521       36.280578                  3.750461   \n",
       "std         0.330788        7.530996                  1.550401   \n",
       "min         0.000000       13.000000                  1.000000   \n",
       "25%         0.000000       32.000000                  3.000000   \n",
       "50%         0.000000       36.000000                  4.000000   \n",
       "75%         0.000000       40.000000                  5.000000   \n",
       "max         3.000000       56.000000                  6.000000   \n",
       "\n",
       "       Months_Inactive_12_mon  Contacts_Count_12_mon  Credit_Limit  ...  \\\n",
       "count             3254.000000            3254.000000   3254.000000  ...   \n",
       "mean                 2.555931               2.559312   7212.709004  ...   \n",
       "std                  1.012574               1.080534   8405.128963  ...   \n",
       "min                  0.000000               0.000000   1438.300000  ...   \n",
       "25%                  2.000000               2.000000   2140.250000  ...   \n",
       "50%                  3.000000               3.000000   3412.000000  ...   \n",
       "75%                  3.000000               3.000000   8593.500000  ...   \n",
       "max                  6.000000               6.000000  34516.000000  ...   \n",
       "\n",
       "       Total_Trans_Amt  Total_Trans_Ct  Total_Ct_Chng_Q4_Q1  \\\n",
       "count      3254.000000     3254.000000          3254.000000   \n",
       "mean       4012.848187       61.529809             0.657285   \n",
       "std        2257.919060       21.237771             0.216947   \n",
       "min         510.000000       10.000000             0.000000   \n",
       "25%        2326.000000       43.000000             0.516000   \n",
       "50%        4096.000000       65.000000             0.674000   \n",
       "75%        4766.500000       79.000000             0.795750   \n",
       "max       15999.000000      127.000000             2.500000   \n",
       "\n",
       "       Avg_Utilization_Ratio          c_F          c_M   c_Divorced  \\\n",
       "count            3254.000000  3254.000000  3254.000000  3254.000000   \n",
       "mean                0.253836     0.625077     0.374923     0.077443   \n",
       "std                 0.293958     0.484177     0.484177     0.267334   \n",
       "min                 0.000000     0.000000     0.000000     0.000000   \n",
       "25%                 0.000000     0.000000     0.000000     0.000000   \n",
       "50%                 0.110500     1.000000     0.000000     0.000000   \n",
       "75%                 0.502750     1.000000     1.000000     0.000000   \n",
       "max                 0.999000     1.000000     1.000000     1.000000   \n",
       "\n",
       "         c_Married     c_Single    c_Unknown  \n",
       "count  3254.000000  3254.000000  3254.000000  \n",
       "mean      0.430854     0.414567     0.077136  \n",
       "std       0.495272     0.492723     0.266848  \n",
       "min       0.000000     0.000000     0.000000  \n",
       "25%       0.000000     0.000000     0.000000  \n",
       "50%       0.000000     0.000000     0.000000  \n",
       "75%       1.000000     1.000000     0.000000  \n",
       "max       1.000000     1.000000     1.000000  \n",
       "\n",
       "[8 rows x 23 columns]"
      ]
     },
     "execution_count": 177,
     "metadata": {},
     "output_type": "execute_result"
    }
   ],
   "source": [
    "X.describe()"
   ]
  },
  {
   "cell_type": "markdown",
   "metadata": {
    "id": "0Vh46HJp3MkB"
   },
   "source": [
    "Напоминаю, что дисперсия равна квадрату std"
   ]
  },
  {
   "cell_type": "code",
   "execution_count": null,
   "metadata": {
    "id": "ENxzzdz_qA0_"
   },
   "outputs": [],
   "source": [
    "from sklearn.feature_selection import VarianceThreshold"
   ]
  },
  {
   "cell_type": "code",
   "execution_count": null,
   "metadata": {
    "colab": {
     "base_uri": "https://localhost:8080/"
    },
    "id": "zfb3YRhVytok",
    "outputId": "3b6898d6-fdf6-4ee5-fefe-c9940cf11978"
   },
   "outputs": [
    {
     "data": {
      "text/plain": [
       "(3254, 10)"
      ]
     },
     "execution_count": 179,
     "metadata": {},
     "output_type": "execute_result"
    }
   ],
   "source": [
    "# параметр - порог значения дисперсии\n",
    "# будут отобраны только те признаки, у которых дисперсия выше\n",
    "vt = VarianceThreshold(2)\n",
    "X_vt = vt.fit_transform(X)\n",
    "X_vt.shape"
   ]
  },
  {
   "cell_type": "code",
   "execution_count": null,
   "metadata": {
    "colab": {
     "base_uri": "https://localhost:8080/",
     "height": 270
    },
    "id": "EzDceod13isS",
    "outputId": "05a4fcf7-5d7d-4958-9dd8-a43c39cc2db9"
   },
   "outputs": [
    {
     "data": {
      "text/html": [
       "\n",
       "  <div id=\"df-59f9b1ce-4a19-4429-ac6a-1a6b7b78198c\">\n",
       "    <div class=\"colab-df-container\">\n",
       "      <div>\n",
       "<style scoped>\n",
       "    .dataframe tbody tr th:only-of-type {\n",
       "        vertical-align: middle;\n",
       "    }\n",
       "\n",
       "    .dataframe tbody tr th {\n",
       "        vertical-align: top;\n",
       "    }\n",
       "\n",
       "    .dataframe thead th {\n",
       "        text-align: right;\n",
       "    }\n",
       "</style>\n",
       "<table border=\"1\" class=\"dataframe\">\n",
       "  <thead>\n",
       "    <tr style=\"text-align: right;\">\n",
       "      <th></th>\n",
       "      <th>Customer_Age</th>\n",
       "      <th>Education_Level</th>\n",
       "      <th>Income_Category</th>\n",
       "      <th>Months_on_book</th>\n",
       "      <th>Total_Relationship_Count</th>\n",
       "      <th>Credit_Limit</th>\n",
       "      <th>Total_Revolving_Bal</th>\n",
       "      <th>Avg_Open_To_Buy</th>\n",
       "      <th>Total_Trans_Amt</th>\n",
       "      <th>Total_Trans_Ct</th>\n",
       "    </tr>\n",
       "  </thead>\n",
       "  <tbody>\n",
       "    <tr>\n",
       "      <th>0</th>\n",
       "      <td>42.0</td>\n",
       "      <td>3.0</td>\n",
       "      <td>2.0</td>\n",
       "      <td>30.0</td>\n",
       "      <td>5.0</td>\n",
       "      <td>1438.3</td>\n",
       "      <td>1223.0</td>\n",
       "      <td>215.3</td>\n",
       "      <td>2181.0</td>\n",
       "      <td>43.0</td>\n",
       "    </tr>\n",
       "    <tr>\n",
       "      <th>1</th>\n",
       "      <td>46.0</td>\n",
       "      <td>2.0</td>\n",
       "      <td>2.0</td>\n",
       "      <td>37.0</td>\n",
       "      <td>6.0</td>\n",
       "      <td>2375.0</td>\n",
       "      <td>1196.0</td>\n",
       "      <td>1179.0</td>\n",
       "      <td>4087.0</td>\n",
       "      <td>66.0</td>\n",
       "    </tr>\n",
       "    <tr>\n",
       "      <th>2</th>\n",
       "      <td>50.0</td>\n",
       "      <td>6.0</td>\n",
       "      <td>0.0</td>\n",
       "      <td>36.0</td>\n",
       "      <td>5.0</td>\n",
       "      <td>4045.0</td>\n",
       "      <td>0.0</td>\n",
       "      <td>4045.0</td>\n",
       "      <td>2438.0</td>\n",
       "      <td>41.0</td>\n",
       "    </tr>\n",
       "    <tr>\n",
       "      <th>3</th>\n",
       "      <td>41.0</td>\n",
       "      <td>0.0</td>\n",
       "      <td>2.0</td>\n",
       "      <td>25.0</td>\n",
       "      <td>4.0</td>\n",
       "      <td>4277.0</td>\n",
       "      <td>2186.0</td>\n",
       "      <td>2091.0</td>\n",
       "      <td>8764.0</td>\n",
       "      <td>69.0</td>\n",
       "    </tr>\n",
       "    <tr>\n",
       "      <th>4</th>\n",
       "      <td>37.0</td>\n",
       "      <td>0.0</td>\n",
       "      <td>1.0</td>\n",
       "      <td>27.0</td>\n",
       "      <td>6.0</td>\n",
       "      <td>3061.0</td>\n",
       "      <td>2517.0</td>\n",
       "      <td>544.0</td>\n",
       "      <td>5032.0</td>\n",
       "      <td>89.0</td>\n",
       "    </tr>\n",
       "  </tbody>\n",
       "</table>\n",
       "</div>\n",
       "      <button class=\"colab-df-convert\" onclick=\"convertToInteractive('df-59f9b1ce-4a19-4429-ac6a-1a6b7b78198c')\"\n",
       "              title=\"Convert this dataframe to an interactive table.\"\n",
       "              style=\"display:none;\">\n",
       "        \n",
       "  <svg xmlns=\"http://www.w3.org/2000/svg\" height=\"24px\"viewBox=\"0 0 24 24\"\n",
       "       width=\"24px\">\n",
       "    <path d=\"M0 0h24v24H0V0z\" fill=\"none\"/>\n",
       "    <path d=\"M18.56 5.44l.94 2.06.94-2.06 2.06-.94-2.06-.94-.94-2.06-.94 2.06-2.06.94zm-11 1L8.5 8.5l.94-2.06 2.06-.94-2.06-.94L8.5 2.5l-.94 2.06-2.06.94zm10 10l.94 2.06.94-2.06 2.06-.94-2.06-.94-.94-2.06-.94 2.06-2.06.94z\"/><path d=\"M17.41 7.96l-1.37-1.37c-.4-.4-.92-.59-1.43-.59-.52 0-1.04.2-1.43.59L10.3 9.45l-7.72 7.72c-.78.78-.78 2.05 0 2.83L4 21.41c.39.39.9.59 1.41.59.51 0 1.02-.2 1.41-.59l7.78-7.78 2.81-2.81c.8-.78.8-2.07 0-2.86zM5.41 20L4 18.59l7.72-7.72 1.47 1.35L5.41 20z\"/>\n",
       "  </svg>\n",
       "      </button>\n",
       "      \n",
       "  <style>\n",
       "    .colab-df-container {\n",
       "      display:flex;\n",
       "      flex-wrap:wrap;\n",
       "      gap: 12px;\n",
       "    }\n",
       "\n",
       "    .colab-df-convert {\n",
       "      background-color: #E8F0FE;\n",
       "      border: none;\n",
       "      border-radius: 50%;\n",
       "      cursor: pointer;\n",
       "      display: none;\n",
       "      fill: #1967D2;\n",
       "      height: 32px;\n",
       "      padding: 0 0 0 0;\n",
       "      width: 32px;\n",
       "    }\n",
       "\n",
       "    .colab-df-convert:hover {\n",
       "      background-color: #E2EBFA;\n",
       "      box-shadow: 0px 1px 2px rgba(60, 64, 67, 0.3), 0px 1px 3px 1px rgba(60, 64, 67, 0.15);\n",
       "      fill: #174EA6;\n",
       "    }\n",
       "\n",
       "    [theme=dark] .colab-df-convert {\n",
       "      background-color: #3B4455;\n",
       "      fill: #D2E3FC;\n",
       "    }\n",
       "\n",
       "    [theme=dark] .colab-df-convert:hover {\n",
       "      background-color: #434B5C;\n",
       "      box-shadow: 0px 1px 3px 1px rgba(0, 0, 0, 0.15);\n",
       "      filter: drop-shadow(0px 1px 2px rgba(0, 0, 0, 0.3));\n",
       "      fill: #FFFFFF;\n",
       "    }\n",
       "  </style>\n",
       "\n",
       "      <script>\n",
       "        const buttonEl =\n",
       "          document.querySelector('#df-59f9b1ce-4a19-4429-ac6a-1a6b7b78198c button.colab-df-convert');\n",
       "        buttonEl.style.display =\n",
       "          google.colab.kernel.accessAllowed ? 'block' : 'none';\n",
       "\n",
       "        async function convertToInteractive(key) {\n",
       "          const element = document.querySelector('#df-59f9b1ce-4a19-4429-ac6a-1a6b7b78198c');\n",
       "          const dataTable =\n",
       "            await google.colab.kernel.invokeFunction('convertToInteractive',\n",
       "                                                     [key], {});\n",
       "          if (!dataTable) return;\n",
       "\n",
       "          const docLinkHtml = 'Like what you see? Visit the ' +\n",
       "            '<a target=\"_blank\" href=https://colab.research.google.com/notebooks/data_table.ipynb>data table notebook</a>'\n",
       "            + ' to learn more about interactive tables.';\n",
       "          element.innerHTML = '';\n",
       "          dataTable['output_type'] = 'display_data';\n",
       "          await google.colab.output.renderOutput(dataTable, element);\n",
       "          const docLink = document.createElement('div');\n",
       "          docLink.innerHTML = docLinkHtml;\n",
       "          element.appendChild(docLink);\n",
       "        }\n",
       "      </script>\n",
       "    </div>\n",
       "  </div>\n",
       "  "
      ],
      "text/plain": [
       "   Customer_Age  Education_Level  Income_Category  Months_on_book  \\\n",
       "0          42.0              3.0              2.0            30.0   \n",
       "1          46.0              2.0              2.0            37.0   \n",
       "2          50.0              6.0              0.0            36.0   \n",
       "3          41.0              0.0              2.0            25.0   \n",
       "4          37.0              0.0              1.0            27.0   \n",
       "\n",
       "   Total_Relationship_Count  Credit_Limit  Total_Revolving_Bal  \\\n",
       "0                       5.0        1438.3               1223.0   \n",
       "1                       6.0        2375.0               1196.0   \n",
       "2                       5.0        4045.0                  0.0   \n",
       "3                       4.0        4277.0               2186.0   \n",
       "4                       6.0        3061.0               2517.0   \n",
       "\n",
       "   Avg_Open_To_Buy  Total_Trans_Amt  Total_Trans_Ct  \n",
       "0            215.3           2181.0            43.0  \n",
       "1           1179.0           4087.0            66.0  \n",
       "2           4045.0           2438.0            41.0  \n",
       "3           2091.0           8764.0            69.0  \n",
       "4            544.0           5032.0            89.0  "
      ]
     },
     "execution_count": 180,
     "metadata": {},
     "output_type": "execute_result"
    }
   ],
   "source": [
    "X_vt = pd.DataFrame(X_vt, columns=vt.get_feature_names_out())\n",
    "X_vt.head()"
   ]
  },
  {
   "cell_type": "markdown",
   "metadata": {
    "id": "xcj0Fya11G-b"
   },
   "source": [
    "Все модели для понижения размерности, как правило, реализуют общий интерфейс: fit + transform. На этапе fit модель \"обучается\" (считаются статистические функции, различные матрицы преобразования и т.д.). На этапе transform выполняется преобразование данных. При выполнении метода fit_transform модель сразу же \"обучается\" и выполняет преобразование данных"
   ]
  },
  {
   "cell_type": "code",
   "execution_count": null,
   "metadata": {
    "colab": {
     "base_uri": "https://localhost:8080/"
    },
    "id": "ozIS8w9q4BcA",
    "outputId": "11bb3afb-7bc2-44f5-be1f-5211aee804a1"
   },
   "outputs": [
    {
     "name": "stdout",
     "output_type": "stream",
     "text": [
      "              precision    recall  f1-score   support\n",
      "\n",
      "           0       0.99      0.98      0.98       245\n",
      "           1       0.98      0.99      0.98       244\n",
      "\n",
      "    accuracy                           0.98       489\n",
      "   macro avg       0.98      0.98      0.98       489\n",
      "weighted avg       0.98      0.98      0.98       489\n",
      "\n"
     ]
    }
   ],
   "source": [
    "test(X_vt, y)"
   ]
  },
  {
   "cell_type": "markdown",
   "metadata": {
    "id": "9g5XZPtw3QPC"
   },
   "source": [
    "Обратите внимание, что у нас данные не нормированы, в следствие чего дисперсия отдельных признаков может различаться на порядки. При использовании рассматриваемой стратегии отбора признаков обычно производится масштабирование данных"
   ]
  },
  {
   "cell_type": "code",
   "execution_count": null,
   "metadata": {
    "id": "bnuNSG5E4SZJ"
   },
   "outputs": [],
   "source": [
    "from sklearn.preprocessing import StandardScaler"
   ]
  },
  {
   "cell_type": "code",
   "execution_count": null,
   "metadata": {
    "colab": {
     "base_uri": "https://localhost:8080/",
     "height": 299
    },
    "id": "Xb6ggShd4XLC",
    "outputId": "31c3319e-9c3c-4049-a27d-86fac5c5a927"
   },
   "outputs": [
    {
     "data": {
      "text/html": [
       "\n",
       "  <div id=\"df-c69e9d3a-9d28-4c1f-b2a9-97b501399f9d\">\n",
       "    <div class=\"colab-df-container\">\n",
       "      <div>\n",
       "<style scoped>\n",
       "    .dataframe tbody tr th:only-of-type {\n",
       "        vertical-align: middle;\n",
       "    }\n",
       "\n",
       "    .dataframe tbody tr th {\n",
       "        vertical-align: top;\n",
       "    }\n",
       "\n",
       "    .dataframe thead th {\n",
       "        text-align: right;\n",
       "    }\n",
       "</style>\n",
       "<table border=\"1\" class=\"dataframe\">\n",
       "  <thead>\n",
       "    <tr style=\"text-align: right;\">\n",
       "      <th></th>\n",
       "      <th>Customer_Age</th>\n",
       "      <th>Dependent_count</th>\n",
       "      <th>Education_Level</th>\n",
       "      <th>Income_Category</th>\n",
       "      <th>Card_Category</th>\n",
       "      <th>Months_on_book</th>\n",
       "      <th>Total_Relationship_Count</th>\n",
       "      <th>Months_Inactive_12_mon</th>\n",
       "      <th>Contacts_Count_12_mon</th>\n",
       "      <th>Credit_Limit</th>\n",
       "      <th>...</th>\n",
       "      <th>Total_Trans_Amt</th>\n",
       "      <th>Total_Trans_Ct</th>\n",
       "      <th>Total_Ct_Chng_Q4_Q1</th>\n",
       "      <th>Avg_Utilization_Ratio</th>\n",
       "      <th>c_F</th>\n",
       "      <th>c_M</th>\n",
       "      <th>c_Divorced</th>\n",
       "      <th>c_Married</th>\n",
       "      <th>c_Single</th>\n",
       "      <th>c_Unknown</th>\n",
       "    </tr>\n",
       "  </thead>\n",
       "  <tbody>\n",
       "    <tr>\n",
       "      <th>0</th>\n",
       "      <td>-0.646739</td>\n",
       "      <td>-1.877739</td>\n",
       "      <td>0.055582</td>\n",
       "      <td>0.077200</td>\n",
       "      <td>-0.231365</td>\n",
       "      <td>-0.834092</td>\n",
       "      <td>0.806070</td>\n",
       "      <td>-0.549112</td>\n",
       "      <td>0.407906</td>\n",
       "      <td>-0.687116</td>\n",
       "      <td>...</td>\n",
       "      <td>-0.811424</td>\n",
       "      <td>-0.872627</td>\n",
       "      <td>-0.296361</td>\n",
       "      <td>2.028368</td>\n",
       "      <td>0.774470</td>\n",
       "      <td>-0.774470</td>\n",
       "      <td>-0.289731</td>\n",
       "      <td>-0.870069</td>\n",
       "      <td>1.188342</td>\n",
       "      <td>-0.289107</td>\n",
       "    </tr>\n",
       "    <tr>\n",
       "      <th>1</th>\n",
       "      <td>-0.104030</td>\n",
       "      <td>2.012597</td>\n",
       "      <td>-0.446814</td>\n",
       "      <td>0.077200</td>\n",
       "      <td>-0.231365</td>\n",
       "      <td>0.095543</td>\n",
       "      <td>1.451163</td>\n",
       "      <td>-0.549112</td>\n",
       "      <td>-1.443315</td>\n",
       "      <td>-0.575655</td>\n",
       "      <td>...</td>\n",
       "      <td>0.032846</td>\n",
       "      <td>0.210515</td>\n",
       "      <td>0.810068</td>\n",
       "      <td>0.851149</td>\n",
       "      <td>-1.291206</td>\n",
       "      <td>1.291206</td>\n",
       "      <td>-0.289731</td>\n",
       "      <td>1.149335</td>\n",
       "      <td>-0.841508</td>\n",
       "      <td>-0.289107</td>\n",
       "    </tr>\n",
       "    <tr>\n",
       "      <th>2</th>\n",
       "      <td>0.438679</td>\n",
       "      <td>-0.321604</td>\n",
       "      <td>1.562768</td>\n",
       "      <td>-1.334084</td>\n",
       "      <td>-0.231365</td>\n",
       "      <td>-0.037262</td>\n",
       "      <td>0.806070</td>\n",
       "      <td>-0.549112</td>\n",
       "      <td>1.333516</td>\n",
       "      <td>-0.376936</td>\n",
       "      <td>...</td>\n",
       "      <td>-0.697585</td>\n",
       "      <td>-0.966814</td>\n",
       "      <td>-0.891067</td>\n",
       "      <td>-0.863644</td>\n",
       "      <td>0.774470</td>\n",
       "      <td>-0.774470</td>\n",
       "      <td>-0.289731</td>\n",
       "      <td>1.149335</td>\n",
       "      <td>-0.841508</td>\n",
       "      <td>-0.289107</td>\n",
       "    </tr>\n",
       "    <tr>\n",
       "      <th>3</th>\n",
       "      <td>-0.782417</td>\n",
       "      <td>-0.321604</td>\n",
       "      <td>-1.451605</td>\n",
       "      <td>0.077200</td>\n",
       "      <td>-0.231365</td>\n",
       "      <td>-1.498117</td>\n",
       "      <td>0.160976</td>\n",
       "      <td>-0.549112</td>\n",
       "      <td>0.407906</td>\n",
       "      <td>-0.349330</td>\n",
       "      <td>...</td>\n",
       "      <td>2.104540</td>\n",
       "      <td>0.351795</td>\n",
       "      <td>0.118550</td>\n",
       "      <td>0.874965</td>\n",
       "      <td>-1.291206</td>\n",
       "      <td>1.291206</td>\n",
       "      <td>3.451478</td>\n",
       "      <td>-0.870069</td>\n",
       "      <td>-0.841508</td>\n",
       "      <td>-0.289107</td>\n",
       "    </tr>\n",
       "    <tr>\n",
       "      <th>4</th>\n",
       "      <td>-1.325125</td>\n",
       "      <td>-0.321604</td>\n",
       "      <td>-1.451605</td>\n",
       "      <td>-0.628442</td>\n",
       "      <td>-0.231365</td>\n",
       "      <td>-1.232507</td>\n",
       "      <td>1.451163</td>\n",
       "      <td>-1.536846</td>\n",
       "      <td>0.407906</td>\n",
       "      <td>-0.494025</td>\n",
       "      <td>...</td>\n",
       "      <td>0.451437</td>\n",
       "      <td>1.293658</td>\n",
       "      <td>-0.181108</td>\n",
       "      <td>1.933101</td>\n",
       "      <td>0.774470</td>\n",
       "      <td>-0.774470</td>\n",
       "      <td>-0.289731</td>\n",
       "      <td>-0.870069</td>\n",
       "      <td>1.188342</td>\n",
       "      <td>-0.289107</td>\n",
       "    </tr>\n",
       "  </tbody>\n",
       "</table>\n",
       "<p>5 rows × 23 columns</p>\n",
       "</div>\n",
       "      <button class=\"colab-df-convert\" onclick=\"convertToInteractive('df-c69e9d3a-9d28-4c1f-b2a9-97b501399f9d')\"\n",
       "              title=\"Convert this dataframe to an interactive table.\"\n",
       "              style=\"display:none;\">\n",
       "        \n",
       "  <svg xmlns=\"http://www.w3.org/2000/svg\" height=\"24px\"viewBox=\"0 0 24 24\"\n",
       "       width=\"24px\">\n",
       "    <path d=\"M0 0h24v24H0V0z\" fill=\"none\"/>\n",
       "    <path d=\"M18.56 5.44l.94 2.06.94-2.06 2.06-.94-2.06-.94-.94-2.06-.94 2.06-2.06.94zm-11 1L8.5 8.5l.94-2.06 2.06-.94-2.06-.94L8.5 2.5l-.94 2.06-2.06.94zm10 10l.94 2.06.94-2.06 2.06-.94-2.06-.94-.94-2.06-.94 2.06-2.06.94z\"/><path d=\"M17.41 7.96l-1.37-1.37c-.4-.4-.92-.59-1.43-.59-.52 0-1.04.2-1.43.59L10.3 9.45l-7.72 7.72c-.78.78-.78 2.05 0 2.83L4 21.41c.39.39.9.59 1.41.59.51 0 1.02-.2 1.41-.59l7.78-7.78 2.81-2.81c.8-.78.8-2.07 0-2.86zM5.41 20L4 18.59l7.72-7.72 1.47 1.35L5.41 20z\"/>\n",
       "  </svg>\n",
       "      </button>\n",
       "      \n",
       "  <style>\n",
       "    .colab-df-container {\n",
       "      display:flex;\n",
       "      flex-wrap:wrap;\n",
       "      gap: 12px;\n",
       "    }\n",
       "\n",
       "    .colab-df-convert {\n",
       "      background-color: #E8F0FE;\n",
       "      border: none;\n",
       "      border-radius: 50%;\n",
       "      cursor: pointer;\n",
       "      display: none;\n",
       "      fill: #1967D2;\n",
       "      height: 32px;\n",
       "      padding: 0 0 0 0;\n",
       "      width: 32px;\n",
       "    }\n",
       "\n",
       "    .colab-df-convert:hover {\n",
       "      background-color: #E2EBFA;\n",
       "      box-shadow: 0px 1px 2px rgba(60, 64, 67, 0.3), 0px 1px 3px 1px rgba(60, 64, 67, 0.15);\n",
       "      fill: #174EA6;\n",
       "    }\n",
       "\n",
       "    [theme=dark] .colab-df-convert {\n",
       "      background-color: #3B4455;\n",
       "      fill: #D2E3FC;\n",
       "    }\n",
       "\n",
       "    [theme=dark] .colab-df-convert:hover {\n",
       "      background-color: #434B5C;\n",
       "      box-shadow: 0px 1px 3px 1px rgba(0, 0, 0, 0.15);\n",
       "      filter: drop-shadow(0px 1px 2px rgba(0, 0, 0, 0.3));\n",
       "      fill: #FFFFFF;\n",
       "    }\n",
       "  </style>\n",
       "\n",
       "      <script>\n",
       "        const buttonEl =\n",
       "          document.querySelector('#df-c69e9d3a-9d28-4c1f-b2a9-97b501399f9d button.colab-df-convert');\n",
       "        buttonEl.style.display =\n",
       "          google.colab.kernel.accessAllowed ? 'block' : 'none';\n",
       "\n",
       "        async function convertToInteractive(key) {\n",
       "          const element = document.querySelector('#df-c69e9d3a-9d28-4c1f-b2a9-97b501399f9d');\n",
       "          const dataTable =\n",
       "            await google.colab.kernel.invokeFunction('convertToInteractive',\n",
       "                                                     [key], {});\n",
       "          if (!dataTable) return;\n",
       "\n",
       "          const docLinkHtml = 'Like what you see? Visit the ' +\n",
       "            '<a target=\"_blank\" href=https://colab.research.google.com/notebooks/data_table.ipynb>data table notebook</a>'\n",
       "            + ' to learn more about interactive tables.';\n",
       "          element.innerHTML = '';\n",
       "          dataTable['output_type'] = 'display_data';\n",
       "          await google.colab.output.renderOutput(dataTable, element);\n",
       "          const docLink = document.createElement('div');\n",
       "          docLink.innerHTML = docLinkHtml;\n",
       "          element.appendChild(docLink);\n",
       "        }\n",
       "      </script>\n",
       "    </div>\n",
       "  </div>\n",
       "  "
      ],
      "text/plain": [
       "   Customer_Age  Dependent_count  Education_Level  Income_Category  \\\n",
       "0     -0.646739        -1.877739         0.055582         0.077200   \n",
       "1     -0.104030         2.012597        -0.446814         0.077200   \n",
       "2      0.438679        -0.321604         1.562768        -1.334084   \n",
       "3     -0.782417        -0.321604        -1.451605         0.077200   \n",
       "4     -1.325125        -0.321604        -1.451605        -0.628442   \n",
       "\n",
       "   Card_Category  Months_on_book  Total_Relationship_Count  \\\n",
       "0      -0.231365       -0.834092                  0.806070   \n",
       "1      -0.231365        0.095543                  1.451163   \n",
       "2      -0.231365       -0.037262                  0.806070   \n",
       "3      -0.231365       -1.498117                  0.160976   \n",
       "4      -0.231365       -1.232507                  1.451163   \n",
       "\n",
       "   Months_Inactive_12_mon  Contacts_Count_12_mon  Credit_Limit  ...  \\\n",
       "0               -0.549112               0.407906     -0.687116  ...   \n",
       "1               -0.549112              -1.443315     -0.575655  ...   \n",
       "2               -0.549112               1.333516     -0.376936  ...   \n",
       "3               -0.549112               0.407906     -0.349330  ...   \n",
       "4               -1.536846               0.407906     -0.494025  ...   \n",
       "\n",
       "   Total_Trans_Amt  Total_Trans_Ct  Total_Ct_Chng_Q4_Q1  \\\n",
       "0        -0.811424       -0.872627            -0.296361   \n",
       "1         0.032846        0.210515             0.810068   \n",
       "2        -0.697585       -0.966814            -0.891067   \n",
       "3         2.104540        0.351795             0.118550   \n",
       "4         0.451437        1.293658            -0.181108   \n",
       "\n",
       "   Avg_Utilization_Ratio       c_F       c_M  c_Divorced  c_Married  c_Single  \\\n",
       "0               2.028368  0.774470 -0.774470   -0.289731  -0.870069  1.188342   \n",
       "1               0.851149 -1.291206  1.291206   -0.289731   1.149335 -0.841508   \n",
       "2              -0.863644  0.774470 -0.774470   -0.289731   1.149335 -0.841508   \n",
       "3               0.874965 -1.291206  1.291206    3.451478  -0.870069 -0.841508   \n",
       "4               1.933101  0.774470 -0.774470   -0.289731  -0.870069  1.188342   \n",
       "\n",
       "   c_Unknown  \n",
       "0  -0.289107  \n",
       "1  -0.289107  \n",
       "2  -0.289107  \n",
       "3  -0.289107  \n",
       "4  -0.289107  \n",
       "\n",
       "[5 rows x 23 columns]"
      ]
     },
     "execution_count": 183,
     "metadata": {},
     "output_type": "execute_result"
    }
   ],
   "source": [
    "scaler = StandardScaler()\n",
    "X_scaled = scaler.fit_transform(X)\n",
    "X_scaled = pd.DataFrame(X_scaled, columns=X.columns)\n",
    "X_scaled.head()"
   ]
  },
  {
   "cell_type": "code",
   "execution_count": null,
   "metadata": {
    "colab": {
     "base_uri": "https://localhost:8080/"
    },
    "id": "vNBq0ObM4mwI",
    "outputId": "bfba0265-bb89-48ea-c95b-a8c8f7401a81"
   },
   "outputs": [
    {
     "name": "stdout",
     "output_type": "stream",
     "text": [
      "(3254, 8)\n",
      "              precision    recall  f1-score   support\n",
      "\n",
      "           0       0.98      0.97      0.97       245\n",
      "           1       0.97      0.98      0.97       244\n",
      "\n",
      "    accuracy                           0.97       489\n",
      "   macro avg       0.97      0.97      0.97       489\n",
      "weighted avg       0.97      0.97      0.97       489\n",
      "\n"
     ]
    }
   ],
   "source": [
    "vt = VarianceThreshold(1)\n",
    "X_vt = vt.fit_transform(X_scaled)\n",
    "print(X_vt.shape)\n",
    "test(X_vt, y)"
   ]
  },
  {
   "cell_type": "markdown",
   "metadata": {
    "id": "GUkeeFJn4wXE"
   },
   "source": [
    "В данном случае видим, что качество полученных моделей не сильно уменьшилось - но посмотрите насколько уменьшилась размерность. Более чем в два раза в обоих случаях! При этом, возможно, было переобучение, и мы боремся с ним понимая размерность."
   ]
  },
  {
   "cell_type": "markdown",
   "metadata": {
    "id": "AsW0UVWd7kTn"
   },
   "source": [
    "### 1.2 Одномерный отбор признаков"
   ]
  },
  {
   "cell_type": "markdown",
   "metadata": {
    "id": "YN_Glif378rd"
   },
   "source": [
    "Одномерный отбор признаков предполагает, что для каждого признака оценивается степень его влияния на целевую переменную. Признаки с небольшим влиянием удаляются. В качестве оценки обычно используются статистические тесты (чаще всего [тест Фишера](https://ru.wikipedia.org/wiki/F-%D1%82%D0%B5%D1%81%D1%82))"
   ]
  },
  {
   "cell_type": "code",
   "execution_count": null,
   "metadata": {
    "id": "DJnETxy88bRe"
   },
   "outputs": [],
   "source": [
    "from sklearn.feature_selection import SelectKBest"
   ]
  },
  {
   "cell_type": "code",
   "execution_count": null,
   "metadata": {
    "colab": {
     "base_uri": "https://localhost:8080/"
    },
    "id": "Hxz41L2r8cTu",
    "outputId": "8063e802-a854-4464-a127-29a430e6b50a"
   },
   "outputs": [
    {
     "name": "stdout",
     "output_type": "stream",
     "text": [
      "              precision    recall  f1-score   support\n",
      "\n",
      "           0       0.99      0.99      0.99       245\n",
      "           1       0.99      0.99      0.99       244\n",
      "\n",
      "    accuracy                           0.99       489\n",
      "   macro avg       0.99      0.99      0.99       489\n",
      "weighted avg       0.99      0.99      0.99       489\n",
      "\n"
     ]
    }
   ],
   "source": [
    "skb = SelectKBest(k=6)\n",
    "X_skb = skb.fit_transform(X, y)\n",
    "test(X_skb, y)"
   ]
  },
  {
   "cell_type": "code",
   "execution_count": null,
   "metadata": {
    "colab": {
     "base_uri": "https://localhost:8080/",
     "height": 487
    },
    "id": "BPkmz6tA9dm2",
    "outputId": "8a5dfd15-3f95-4b4e-b145-2f367e5f5938"
   },
   "outputs": [
    {
     "data": {
      "text/html": [
       "\n",
       "  <div id=\"df-74b77f98-3e1c-46d2-991d-ecaf91f61882\">\n",
       "    <div class=\"colab-df-container\">\n",
       "      <div>\n",
       "<style scoped>\n",
       "    .dataframe tbody tr th:only-of-type {\n",
       "        vertical-align: middle;\n",
       "    }\n",
       "\n",
       "    .dataframe tbody tr th {\n",
       "        vertical-align: top;\n",
       "    }\n",
       "\n",
       "    .dataframe thead th {\n",
       "        text-align: right;\n",
       "    }\n",
       "</style>\n",
       "<table border=\"1\" class=\"dataframe\">\n",
       "  <thead>\n",
       "    <tr style=\"text-align: right;\">\n",
       "      <th></th>\n",
       "      <th>Total_Relationship_Count</th>\n",
       "      <th>Contacts_Count_12_mon</th>\n",
       "      <th>Total_Trans_Amt</th>\n",
       "      <th>Total_Trans_Ct</th>\n",
       "      <th>Total_Ct_Chng_Q4_Q1</th>\n",
       "      <th>Avg_Utilization_Ratio</th>\n",
       "    </tr>\n",
       "  </thead>\n",
       "  <tbody>\n",
       "    <tr>\n",
       "      <th>0</th>\n",
       "      <td>5.0</td>\n",
       "      <td>3.0</td>\n",
       "      <td>2181.0</td>\n",
       "      <td>43.0</td>\n",
       "      <td>0.593</td>\n",
       "      <td>0.850</td>\n",
       "    </tr>\n",
       "    <tr>\n",
       "      <th>1</th>\n",
       "      <td>6.0</td>\n",
       "      <td>1.0</td>\n",
       "      <td>4087.0</td>\n",
       "      <td>66.0</td>\n",
       "      <td>0.833</td>\n",
       "      <td>0.504</td>\n",
       "    </tr>\n",
       "    <tr>\n",
       "      <th>2</th>\n",
       "      <td>5.0</td>\n",
       "      <td>4.0</td>\n",
       "      <td>2438.0</td>\n",
       "      <td>41.0</td>\n",
       "      <td>0.464</td>\n",
       "      <td>0.000</td>\n",
       "    </tr>\n",
       "    <tr>\n",
       "      <th>3</th>\n",
       "      <td>4.0</td>\n",
       "      <td>3.0</td>\n",
       "      <td>8764.0</td>\n",
       "      <td>69.0</td>\n",
       "      <td>0.683</td>\n",
       "      <td>0.511</td>\n",
       "    </tr>\n",
       "    <tr>\n",
       "      <th>4</th>\n",
       "      <td>6.0</td>\n",
       "      <td>3.0</td>\n",
       "      <td>5032.0</td>\n",
       "      <td>89.0</td>\n",
       "      <td>0.618</td>\n",
       "      <td>0.822</td>\n",
       "    </tr>\n",
       "    <tr>\n",
       "      <th>...</th>\n",
       "      <td>...</td>\n",
       "      <td>...</td>\n",
       "      <td>...</td>\n",
       "      <td>...</td>\n",
       "      <td>...</td>\n",
       "      <td>...</td>\n",
       "    </tr>\n",
       "    <tr>\n",
       "      <th>3249</th>\n",
       "      <td>5.0</td>\n",
       "      <td>2.0</td>\n",
       "      <td>3691.0</td>\n",
       "      <td>77.0</td>\n",
       "      <td>0.510</td>\n",
       "      <td>0.000</td>\n",
       "    </tr>\n",
       "    <tr>\n",
       "      <th>3250</th>\n",
       "      <td>6.0</td>\n",
       "      <td>2.0</td>\n",
       "      <td>8642.0</td>\n",
       "      <td>77.0</td>\n",
       "      <td>0.481</td>\n",
       "      <td>0.000</td>\n",
       "    </tr>\n",
       "    <tr>\n",
       "      <th>3251</th>\n",
       "      <td>1.0</td>\n",
       "      <td>3.0</td>\n",
       "      <td>8688.0</td>\n",
       "      <td>69.0</td>\n",
       "      <td>0.769</td>\n",
       "      <td>0.087</td>\n",
       "    </tr>\n",
       "    <tr>\n",
       "      <th>3252</th>\n",
       "      <td>3.0</td>\n",
       "      <td>2.0</td>\n",
       "      <td>4220.0</td>\n",
       "      <td>79.0</td>\n",
       "      <td>0.612</td>\n",
       "      <td>0.811</td>\n",
       "    </tr>\n",
       "    <tr>\n",
       "      <th>3253</th>\n",
       "      <td>2.0</td>\n",
       "      <td>2.0</td>\n",
       "      <td>1714.0</td>\n",
       "      <td>32.0</td>\n",
       "      <td>0.391</td>\n",
       "      <td>0.530</td>\n",
       "    </tr>\n",
       "  </tbody>\n",
       "</table>\n",
       "<p>3254 rows × 6 columns</p>\n",
       "</div>\n",
       "      <button class=\"colab-df-convert\" onclick=\"convertToInteractive('df-74b77f98-3e1c-46d2-991d-ecaf91f61882')\"\n",
       "              title=\"Convert this dataframe to an interactive table.\"\n",
       "              style=\"display:none;\">\n",
       "        \n",
       "  <svg xmlns=\"http://www.w3.org/2000/svg\" height=\"24px\"viewBox=\"0 0 24 24\"\n",
       "       width=\"24px\">\n",
       "    <path d=\"M0 0h24v24H0V0z\" fill=\"none\"/>\n",
       "    <path d=\"M18.56 5.44l.94 2.06.94-2.06 2.06-.94-2.06-.94-.94-2.06-.94 2.06-2.06.94zm-11 1L8.5 8.5l.94-2.06 2.06-.94-2.06-.94L8.5 2.5l-.94 2.06-2.06.94zm10 10l.94 2.06.94-2.06 2.06-.94-2.06-.94-.94-2.06-.94 2.06-2.06.94z\"/><path d=\"M17.41 7.96l-1.37-1.37c-.4-.4-.92-.59-1.43-.59-.52 0-1.04.2-1.43.59L10.3 9.45l-7.72 7.72c-.78.78-.78 2.05 0 2.83L4 21.41c.39.39.9.59 1.41.59.51 0 1.02-.2 1.41-.59l7.78-7.78 2.81-2.81c.8-.78.8-2.07 0-2.86zM5.41 20L4 18.59l7.72-7.72 1.47 1.35L5.41 20z\"/>\n",
       "  </svg>\n",
       "      </button>\n",
       "      \n",
       "  <style>\n",
       "    .colab-df-container {\n",
       "      display:flex;\n",
       "      flex-wrap:wrap;\n",
       "      gap: 12px;\n",
       "    }\n",
       "\n",
       "    .colab-df-convert {\n",
       "      background-color: #E8F0FE;\n",
       "      border: none;\n",
       "      border-radius: 50%;\n",
       "      cursor: pointer;\n",
       "      display: none;\n",
       "      fill: #1967D2;\n",
       "      height: 32px;\n",
       "      padding: 0 0 0 0;\n",
       "      width: 32px;\n",
       "    }\n",
       "\n",
       "    .colab-df-convert:hover {\n",
       "      background-color: #E2EBFA;\n",
       "      box-shadow: 0px 1px 2px rgba(60, 64, 67, 0.3), 0px 1px 3px 1px rgba(60, 64, 67, 0.15);\n",
       "      fill: #174EA6;\n",
       "    }\n",
       "\n",
       "    [theme=dark] .colab-df-convert {\n",
       "      background-color: #3B4455;\n",
       "      fill: #D2E3FC;\n",
       "    }\n",
       "\n",
       "    [theme=dark] .colab-df-convert:hover {\n",
       "      background-color: #434B5C;\n",
       "      box-shadow: 0px 1px 3px 1px rgba(0, 0, 0, 0.15);\n",
       "      filter: drop-shadow(0px 1px 2px rgba(0, 0, 0, 0.3));\n",
       "      fill: #FFFFFF;\n",
       "    }\n",
       "  </style>\n",
       "\n",
       "      <script>\n",
       "        const buttonEl =\n",
       "          document.querySelector('#df-74b77f98-3e1c-46d2-991d-ecaf91f61882 button.colab-df-convert');\n",
       "        buttonEl.style.display =\n",
       "          google.colab.kernel.accessAllowed ? 'block' : 'none';\n",
       "\n",
       "        async function convertToInteractive(key) {\n",
       "          const element = document.querySelector('#df-74b77f98-3e1c-46d2-991d-ecaf91f61882');\n",
       "          const dataTable =\n",
       "            await google.colab.kernel.invokeFunction('convertToInteractive',\n",
       "                                                     [key], {});\n",
       "          if (!dataTable) return;\n",
       "\n",
       "          const docLinkHtml = 'Like what you see? Visit the ' +\n",
       "            '<a target=\"_blank\" href=https://colab.research.google.com/notebooks/data_table.ipynb>data table notebook</a>'\n",
       "            + ' to learn more about interactive tables.';\n",
       "          element.innerHTML = '';\n",
       "          dataTable['output_type'] = 'display_data';\n",
       "          await google.colab.output.renderOutput(dataTable, element);\n",
       "          const docLink = document.createElement('div');\n",
       "          docLink.innerHTML = docLinkHtml;\n",
       "          element.appendChild(docLink);\n",
       "        }\n",
       "      </script>\n",
       "    </div>\n",
       "  </div>\n",
       "  "
      ],
      "text/plain": [
       "      Total_Relationship_Count  Contacts_Count_12_mon  Total_Trans_Amt  \\\n",
       "0                          5.0                    3.0           2181.0   \n",
       "1                          6.0                    1.0           4087.0   \n",
       "2                          5.0                    4.0           2438.0   \n",
       "3                          4.0                    3.0           8764.0   \n",
       "4                          6.0                    3.0           5032.0   \n",
       "...                        ...                    ...              ...   \n",
       "3249                       5.0                    2.0           3691.0   \n",
       "3250                       6.0                    2.0           8642.0   \n",
       "3251                       1.0                    3.0           8688.0   \n",
       "3252                       3.0                    2.0           4220.0   \n",
       "3253                       2.0                    2.0           1714.0   \n",
       "\n",
       "      Total_Trans_Ct  Total_Ct_Chng_Q4_Q1  Avg_Utilization_Ratio  \n",
       "0               43.0                0.593                  0.850  \n",
       "1               66.0                0.833                  0.504  \n",
       "2               41.0                0.464                  0.000  \n",
       "3               69.0                0.683                  0.511  \n",
       "4               89.0                0.618                  0.822  \n",
       "...              ...                  ...                    ...  \n",
       "3249            77.0                0.510                  0.000  \n",
       "3250            77.0                0.481                  0.000  \n",
       "3251            69.0                0.769                  0.087  \n",
       "3252            79.0                0.612                  0.811  \n",
       "3253            32.0                0.391                  0.530  \n",
       "\n",
       "[3254 rows x 6 columns]"
      ]
     },
     "execution_count": 200,
     "metadata": {},
     "output_type": "execute_result"
    }
   ],
   "source": [
    "X_skb = pd.DataFrame(X_skb, columns=skb.get_feature_names_out())\n",
    "X_skb"
   ]
  },
  {
   "cell_type": "markdown",
   "metadata": {
    "id": "AES4cRrL93KN"
   },
   "source": [
    "### 1.3 Рекурсивный отбор признаков"
   ]
  },
  {
   "cell_type": "markdown",
   "metadata": {
    "id": "V4aWQoqB-MFk"
   },
   "source": [
    "Рекурсивный отбор признаков предполагает обучение множества моделей. Сначала модель обучается на всех признаках, а затем мы начинаем исключать из модели признаки с низкой значимостью. Делаем это до тех пор, пока не останется столько признаков, сколько нам нужно получить"
   ]
  },
  {
   "cell_type": "markdown",
   "metadata": {
    "id": "lgX0lXfd-qa0"
   },
   "source": [
    "Важный момент состоит в том, каким образом мы исключаем признаки. Происходит это на основе значения значимости признака. Обученные регрессионные модели и деревья решений хранят информацию о значимости признаков (коэффициенты в линейных моделях и значения значимости признаков у деревьев). Можно отсортировать признаки по этим значениям и производить отбор"
   ]
  },
  {
   "cell_type": "code",
   "execution_count": null,
   "metadata": {
    "id": "yoUvGlJO-3xs"
   },
   "outputs": [],
   "source": [
    "from sklearn.feature_selection import RFE\n",
    "from sklearn.tree import DecisionTreeClassifier"
   ]
  },
  {
   "cell_type": "code",
   "execution_count": null,
   "metadata": {
    "id": "qRlr9q3U_Ae-"
   },
   "outputs": [],
   "source": [
    "tree = DecisionTreeClassifier().fit(X, y)"
   ]
  },
  {
   "cell_type": "code",
   "execution_count": null,
   "metadata": {
    "colab": {
     "base_uri": "https://localhost:8080/",
     "height": 423
    },
    "id": "Y_sTODem-6vb",
    "outputId": "bb654fe3-1a80-4b21-9fe2-9f33baa98ca3"
   },
   "outputs": [
    {
     "data": {
      "text/html": [
       "\n",
       "  <div id=\"df-171466db-bd23-45fd-97d6-9f6509ae4cc8\">\n",
       "    <div class=\"colab-df-container\">\n",
       "      <div>\n",
       "<style scoped>\n",
       "    .dataframe tbody tr th:only-of-type {\n",
       "        vertical-align: middle;\n",
       "    }\n",
       "\n",
       "    .dataframe tbody tr th {\n",
       "        vertical-align: top;\n",
       "    }\n",
       "\n",
       "    .dataframe thead th {\n",
       "        text-align: right;\n",
       "    }\n",
       "</style>\n",
       "<table border=\"1\" class=\"dataframe\">\n",
       "  <thead>\n",
       "    <tr style=\"text-align: right;\">\n",
       "      <th></th>\n",
       "      <th>Total_Relationship_Count</th>\n",
       "      <th>Total_Trans_Amt</th>\n",
       "      <th>Total_Trans_Ct</th>\n",
       "      <th>Total_Ct_Chng_Q4_Q1</th>\n",
       "    </tr>\n",
       "  </thead>\n",
       "  <tbody>\n",
       "    <tr>\n",
       "      <th>0</th>\n",
       "      <td>5.0</td>\n",
       "      <td>2181.0</td>\n",
       "      <td>43.0</td>\n",
       "      <td>0.593</td>\n",
       "    </tr>\n",
       "    <tr>\n",
       "      <th>1</th>\n",
       "      <td>6.0</td>\n",
       "      <td>4087.0</td>\n",
       "      <td>66.0</td>\n",
       "      <td>0.833</td>\n",
       "    </tr>\n",
       "    <tr>\n",
       "      <th>2</th>\n",
       "      <td>5.0</td>\n",
       "      <td>2438.0</td>\n",
       "      <td>41.0</td>\n",
       "      <td>0.464</td>\n",
       "    </tr>\n",
       "    <tr>\n",
       "      <th>3</th>\n",
       "      <td>4.0</td>\n",
       "      <td>8764.0</td>\n",
       "      <td>69.0</td>\n",
       "      <td>0.683</td>\n",
       "    </tr>\n",
       "    <tr>\n",
       "      <th>4</th>\n",
       "      <td>6.0</td>\n",
       "      <td>5032.0</td>\n",
       "      <td>89.0</td>\n",
       "      <td>0.618</td>\n",
       "    </tr>\n",
       "    <tr>\n",
       "      <th>...</th>\n",
       "      <td>...</td>\n",
       "      <td>...</td>\n",
       "      <td>...</td>\n",
       "      <td>...</td>\n",
       "    </tr>\n",
       "    <tr>\n",
       "      <th>3249</th>\n",
       "      <td>5.0</td>\n",
       "      <td>3691.0</td>\n",
       "      <td>77.0</td>\n",
       "      <td>0.510</td>\n",
       "    </tr>\n",
       "    <tr>\n",
       "      <th>3250</th>\n",
       "      <td>6.0</td>\n",
       "      <td>8642.0</td>\n",
       "      <td>77.0</td>\n",
       "      <td>0.481</td>\n",
       "    </tr>\n",
       "    <tr>\n",
       "      <th>3251</th>\n",
       "      <td>1.0</td>\n",
       "      <td>8688.0</td>\n",
       "      <td>69.0</td>\n",
       "      <td>0.769</td>\n",
       "    </tr>\n",
       "    <tr>\n",
       "      <th>3252</th>\n",
       "      <td>3.0</td>\n",
       "      <td>4220.0</td>\n",
       "      <td>79.0</td>\n",
       "      <td>0.612</td>\n",
       "    </tr>\n",
       "    <tr>\n",
       "      <th>3253</th>\n",
       "      <td>2.0</td>\n",
       "      <td>1714.0</td>\n",
       "      <td>32.0</td>\n",
       "      <td>0.391</td>\n",
       "    </tr>\n",
       "  </tbody>\n",
       "</table>\n",
       "<p>3254 rows × 4 columns</p>\n",
       "</div>\n",
       "      <button class=\"colab-df-convert\" onclick=\"convertToInteractive('df-171466db-bd23-45fd-97d6-9f6509ae4cc8')\"\n",
       "              title=\"Convert this dataframe to an interactive table.\"\n",
       "              style=\"display:none;\">\n",
       "        \n",
       "  <svg xmlns=\"http://www.w3.org/2000/svg\" height=\"24px\"viewBox=\"0 0 24 24\"\n",
       "       width=\"24px\">\n",
       "    <path d=\"M0 0h24v24H0V0z\" fill=\"none\"/>\n",
       "    <path d=\"M18.56 5.44l.94 2.06.94-2.06 2.06-.94-2.06-.94-.94-2.06-.94 2.06-2.06.94zm-11 1L8.5 8.5l.94-2.06 2.06-.94-2.06-.94L8.5 2.5l-.94 2.06-2.06.94zm10 10l.94 2.06.94-2.06 2.06-.94-2.06-.94-.94-2.06-.94 2.06-2.06.94z\"/><path d=\"M17.41 7.96l-1.37-1.37c-.4-.4-.92-.59-1.43-.59-.52 0-1.04.2-1.43.59L10.3 9.45l-7.72 7.72c-.78.78-.78 2.05 0 2.83L4 21.41c.39.39.9.59 1.41.59.51 0 1.02-.2 1.41-.59l7.78-7.78 2.81-2.81c.8-.78.8-2.07 0-2.86zM5.41 20L4 18.59l7.72-7.72 1.47 1.35L5.41 20z\"/>\n",
       "  </svg>\n",
       "      </button>\n",
       "      \n",
       "  <style>\n",
       "    .colab-df-container {\n",
       "      display:flex;\n",
       "      flex-wrap:wrap;\n",
       "      gap: 12px;\n",
       "    }\n",
       "\n",
       "    .colab-df-convert {\n",
       "      background-color: #E8F0FE;\n",
       "      border: none;\n",
       "      border-radius: 50%;\n",
       "      cursor: pointer;\n",
       "      display: none;\n",
       "      fill: #1967D2;\n",
       "      height: 32px;\n",
       "      padding: 0 0 0 0;\n",
       "      width: 32px;\n",
       "    }\n",
       "\n",
       "    .colab-df-convert:hover {\n",
       "      background-color: #E2EBFA;\n",
       "      box-shadow: 0px 1px 2px rgba(60, 64, 67, 0.3), 0px 1px 3px 1px rgba(60, 64, 67, 0.15);\n",
       "      fill: #174EA6;\n",
       "    }\n",
       "\n",
       "    [theme=dark] .colab-df-convert {\n",
       "      background-color: #3B4455;\n",
       "      fill: #D2E3FC;\n",
       "    }\n",
       "\n",
       "    [theme=dark] .colab-df-convert:hover {\n",
       "      background-color: #434B5C;\n",
       "      box-shadow: 0px 1px 3px 1px rgba(0, 0, 0, 0.15);\n",
       "      filter: drop-shadow(0px 1px 2px rgba(0, 0, 0, 0.3));\n",
       "      fill: #FFFFFF;\n",
       "    }\n",
       "  </style>\n",
       "\n",
       "      <script>\n",
       "        const buttonEl =\n",
       "          document.querySelector('#df-171466db-bd23-45fd-97d6-9f6509ae4cc8 button.colab-df-convert');\n",
       "        buttonEl.style.display =\n",
       "          google.colab.kernel.accessAllowed ? 'block' : 'none';\n",
       "\n",
       "        async function convertToInteractive(key) {\n",
       "          const element = document.querySelector('#df-171466db-bd23-45fd-97d6-9f6509ae4cc8');\n",
       "          const dataTable =\n",
       "            await google.colab.kernel.invokeFunction('convertToInteractive',\n",
       "                                                     [key], {});\n",
       "          if (!dataTable) return;\n",
       "\n",
       "          const docLinkHtml = 'Like what you see? Visit the ' +\n",
       "            '<a target=\"_blank\" href=https://colab.research.google.com/notebooks/data_table.ipynb>data table notebook</a>'\n",
       "            + ' to learn more about interactive tables.';\n",
       "          element.innerHTML = '';\n",
       "          dataTable['output_type'] = 'display_data';\n",
       "          await google.colab.output.renderOutput(dataTable, element);\n",
       "          const docLink = document.createElement('div');\n",
       "          docLink.innerHTML = docLinkHtml;\n",
       "          element.appendChild(docLink);\n",
       "        }\n",
       "      </script>\n",
       "    </div>\n",
       "  </div>\n",
       "  "
      ],
      "text/plain": [
       "      Total_Relationship_Count  Total_Trans_Amt  Total_Trans_Ct  \\\n",
       "0                          5.0           2181.0            43.0   \n",
       "1                          6.0           4087.0            66.0   \n",
       "2                          5.0           2438.0            41.0   \n",
       "3                          4.0           8764.0            69.0   \n",
       "4                          6.0           5032.0            89.0   \n",
       "...                        ...              ...             ...   \n",
       "3249                       5.0           3691.0            77.0   \n",
       "3250                       6.0           8642.0            77.0   \n",
       "3251                       1.0           8688.0            69.0   \n",
       "3252                       3.0           4220.0            79.0   \n",
       "3253                       2.0           1714.0            32.0   \n",
       "\n",
       "      Total_Ct_Chng_Q4_Q1  \n",
       "0                   0.593  \n",
       "1                   0.833  \n",
       "2                   0.464  \n",
       "3                   0.683  \n",
       "4                   0.618  \n",
       "...                   ...  \n",
       "3249                0.510  \n",
       "3250                0.481  \n",
       "3251                0.769  \n",
       "3252                0.612  \n",
       "3253                0.391  \n",
       "\n",
       "[3254 rows x 4 columns]"
      ]
     },
     "execution_count": 214,
     "metadata": {},
     "output_type": "execute_result"
    }
   ],
   "source": [
    "rfe = RFE(estimator=tree, n_features_to_select=4, step=1).fit(X, y)\n",
    "X_rfe = pd.DataFrame(rfe.transform(X), columns=rfe.get_feature_names_out())\n",
    "X_rfe"
   ]
  },
  {
   "cell_type": "code",
   "execution_count": null,
   "metadata": {
    "colab": {
     "base_uri": "https://localhost:8080/"
    },
    "id": "D_TGIKZ0DJQx",
    "outputId": "6b652d46-6f5d-4b53-dcab-0fe5eb8af946"
   },
   "outputs": [
    {
     "name": "stdout",
     "output_type": "stream",
     "text": [
      "              precision    recall  f1-score   support\n",
      "\n",
      "           0       0.98      0.98      0.98       245\n",
      "           1       0.98      0.98      0.98       244\n",
      "\n",
      "    accuracy                           0.98       489\n",
      "   macro avg       0.98      0.98      0.98       489\n",
      "weighted avg       0.98      0.98      0.98       489\n",
      "\n"
     ]
    }
   ],
   "source": [
    "test(X_rfe, y)"
   ]
  },
  {
   "cell_type": "markdown",
   "metadata": {
    "id": "u6dgt57tDODa"
   },
   "source": [
    "Бум! Осталось 4 признака, а модель все еще могЁт!"
   ]
  },
  {
   "cell_type": "markdown",
   "metadata": {
    "id": "iIIG2Kn6Dr0R"
   },
   "source": [
    "### 1.4 Отбор признаков по их значимости"
   ]
  },
  {
   "cell_type": "markdown",
   "metadata": {
    "id": "syhOcyVLDxXg"
   },
   "source": [
    "Во многих случаях можно не использовать рекурсивный отбор, а просто взять обученное дерево и сразу же взять нужное количество признаков с самой высокой значимостью"
   ]
  },
  {
   "cell_type": "code",
   "execution_count": 6,
   "metadata": {
    "id": "9MwoFm0UD_dn"
   },
   "outputs": [],
   "source": [
    "import matplotlib.pyplot as plt"
   ]
  },
  {
   "cell_type": "code",
   "execution_count": 8,
   "metadata": {
    "colab": {
     "base_uri": "https://localhost:8080/",
     "height": 430
    },
    "id": "DnK1TULyEKVY",
    "outputId": "81a1fd5f-4cb5-4147-b48d-b632a4b8946b"
   },
   "outputs": [
    {
     "ename": "NameError",
     "evalue": "name 'tree' is not defined",
     "output_type": "error",
     "traceback": [
      "\u001b[1;31m---------------------------------------------------------------------------\u001b[0m",
      "\u001b[1;31mNameError\u001b[0m                                 Traceback (most recent call last)",
      "Cell \u001b[1;32mIn[8], line 1\u001b[0m\n\u001b[1;32m----> 1\u001b[0m plt\u001b[38;5;241m.\u001b[39mbarh(width\u001b[38;5;241m=\u001b[39m\u001b[43mtree\u001b[49m\u001b[38;5;241m.\u001b[39mfeature_importances_, y\u001b[38;5;241m=\u001b[39mX\u001b[38;5;241m.\u001b[39mcolumns);\n",
      "\u001b[1;31mNameError\u001b[0m: name 'tree' is not defined"
     ]
    }
   ],
   "source": [
    "plt.barh(width=tree.feature_importances_, y=X.columns);"
   ]
  },
  {
   "cell_type": "markdown",
   "metadata": {
    "id": "apCrkHeLExiY"
   },
   "source": [
    "Напомню еще раз, что при решении задачи регрессии с использованием линейных моделей мы можем в качестве оценки значимости признака использовать коэффициенты. Вы будете использовать этот факт при выполнении задания."
   ]
  },
  {
   "cell_type": "markdown",
   "metadata": {
    "id": "4Js8oChiFAa3"
   },
   "source": [
    "## 2. Выделение признаков"
   ]
  },
  {
   "cell_type": "markdown",
   "metadata": {
    "id": "N-MDgEiiFMrf"
   },
   "source": [
    "В отличие от отбора признаков, когда мы исключаем из датасета ненужные признаки, при выделении **мы производим преобразование данных из пространства высокой размерности в пространство низкой размерности**. Важно понимать, что при таком подходе по сути мы вводим \"новые оси\". Это означает, что признаки в целевом пространстве мы уже не сможем интерпретировать"
   ]
  },
  {
   "cell_type": "markdown",
   "metadata": {
    "id": "TMP-W7s_FkrP"
   },
   "source": [
    "### 2.1 Метод главных компонент"
   ]
  },
  {
   "cell_type": "markdown",
   "metadata": {
    "id": "jU-J-staFoAA"
   },
   "source": [
    "Метод главных компонент (Principal Component Analysis - PCA) - это один из наиболее часто используемых методов извлечения признаков, который вам потребуется реализовать самостоятельно."
   ]
  },
  {
   "cell_type": "markdown",
   "metadata": {
    "id": "3R_Mzr44GCIQ"
   },
   "source": [
    "Чтобы выполнить понижение размерности методом PCA необходимо последовательно выполнить следующие действия.\n",
    "\n",
    "1. Стандартизация данных (итерируемся по столбцам, от каждого элемента столбца отнимаем среднее по столбцу и делим на отклонение столбца - то, что делает StandartScaller).\n",
    "2. Вычисление ковариационной матрицы.\n",
    "3. Вычисление собственных векторов и собственных значений ковариационной матрицы.\n",
    "4. Сортировка пар <собственное значение, собственный вектор> по убыванию.\n",
    "5. Выбор первых k пар <собственное значение, собственный вектор>, где k - размерность целевого пространства.\n",
    "6. Матрица, составленная из k собственных векторов - матрица преобразования из данного пространства в пространство с размерностью k.\n",
    "7. Чтобы произвести понижение размерности необходимо умножить матрицу стандартизированных входных данных (результат пункта 1) на матрицу из k собственных векторов (результат пункта 6)."
   ]
  },
  {
   "cell_type": "markdown",
   "metadata": {
    "id": "W6WnzcFaQ6KJ"
   },
   "source": [
    "На основе пункта 7 можно сделать, что PCA - линейный метод понижения размерности"
   ]
  },
  {
   "cell_type": "markdown",
   "metadata": {
    "id": "LL0iHHUpImFf"
   },
   "source": [
    "Собственные значения и вектора можно посчитать с помощью numpy в одну строку"
   ]
  },
  {
   "cell_type": "markdown",
   "metadata": {
    "id": "mQPBfjs5Jpm0"
   },
   "source": [
    "При работе с numpy **следите за размерностью**. Имейте в виду, что в некоторых местах придется выполнять транспонирование матриц, даже если оно не предусмотрено в формулах (в виду особенностей представления матриц в numpy)"
   ]
  },
  {
   "cell_type": "markdown",
   "metadata": {
    "id": "1fki_zhCIkLd"
   },
   "source": [
    "Более подробно:\n",
    "- https://habr.com/ru/articles/304214/\n",
    "- https://www.turing.com/kb/guide-to-principal-component-analysis (вот здесь прям формулы, которые рекомендуется использовать)"
   ]
  },
  {
   "cell_type": "code",
   "execution_count": null,
   "metadata": {
    "id": "SWwdUX41F8h3"
   },
   "outputs": [],
   "source": [
    "from sklearn.decomposition import PCA"
   ]
  },
  {
   "cell_type": "code",
   "execution_count": null,
   "metadata": {
    "colab": {
     "base_uri": "https://localhost:8080/"
    },
    "id": "bR-GU2sHNnOC",
    "outputId": "1ce10d12-dd29-4a85-9efa-ec87c2619aae"
   },
   "outputs": [
    {
     "data": {
      "text/plain": [
       "(3254, 2)"
      ]
     },
     "execution_count": 226,
     "metadata": {},
     "output_type": "execute_result"
    }
   ],
   "source": [
    "pca = PCA(n_components=2)\n",
    "X_pca = pca.fit_transform(X, y)\n",
    "X_pca.shape"
   ]
  },
  {
   "cell_type": "markdown",
   "metadata": {
    "id": "WUtrB57jN3NC"
   },
   "source": [
    "Данные имеют размерность 2 - их можно визуализировать"
   ]
  },
  {
   "cell_type": "code",
   "execution_count": 9,
   "metadata": {
    "colab": {
     "base_uri": "https://localhost:8080/",
     "height": 431
    },
    "id": "MPwaJcpqNzOy",
    "outputId": "fa373ebe-3041-4962-91f8-940dd74fcd99"
   },
   "outputs": [
    {
     "ename": "NameError",
     "evalue": "name 'X_pca' is not defined",
     "output_type": "error",
     "traceback": [
      "\u001b[1;31m---------------------------------------------------------------------------\u001b[0m",
      "\u001b[1;31mNameError\u001b[0m                                 Traceback (most recent call last)",
      "Cell \u001b[1;32mIn[9], line 1\u001b[0m\n\u001b[1;32m----> 1\u001b[0m plt\u001b[38;5;241m.\u001b[39mscatter(\u001b[43mX_pca\u001b[49m[:,\u001b[38;5;241m0\u001b[39m], X_pca[:,\u001b[38;5;241m1\u001b[39m], c\u001b[38;5;241m=\u001b[39my);\n",
      "\u001b[1;31mNameError\u001b[0m: name 'X_pca' is not defined"
     ]
    }
   ],
   "source": [
    "plt.scatter(X_pca[:,0], X_pca[:,1], c=y);"
   ]
  },
  {
   "cell_type": "markdown",
   "metadata": {
    "id": "qIADafH7OkaV"
   },
   "source": [
    "Мы понизили размерность до 2 признаков, и теперь имеет смысл оценить, сколько информации мы потеряли"
   ]
  },
  {
   "cell_type": "code",
   "execution_count": null,
   "metadata": {
    "colab": {
     "base_uri": "https://localhost:8080/"
    },
    "id": "U1ZeOGoyOrri",
    "outputId": "647ef525-008f-43ec-9f1f-c168241921d1"
   },
   "outputs": [
    {
     "data": {
      "text/plain": [
       "0.9924448371305413"
      ]
     },
     "execution_count": 236,
     "metadata": {},
     "output_type": "execute_result"
    }
   ],
   "source": [
    "sum(pca.explained_variance_ratio_)"
   ]
  },
  {
   "cell_type": "markdown",
   "metadata": {
    "id": "kwrGdG3TOvYA"
   },
   "source": [
    "Видно, что мы сохранили более 99% информации понизив размерность до 2 - попробуем выполнить классификацию"
   ]
  },
  {
   "cell_type": "code",
   "execution_count": null,
   "metadata": {
    "colab": {
     "base_uri": "https://localhost:8080/"
    },
    "id": "tUUOqSSQO3RQ",
    "outputId": "57cb1d4e-a32b-4ce0-be67-8965865ab8c4"
   },
   "outputs": [
    {
     "name": "stdout",
     "output_type": "stream",
     "text": [
      "              precision    recall  f1-score   support\n",
      "\n",
      "           0       0.90      0.96      0.93       245\n",
      "           1       0.96      0.89      0.92       244\n",
      "\n",
      "    accuracy                           0.92       489\n",
      "   macro avg       0.93      0.92      0.92       489\n",
      "weighted avg       0.93      0.92      0.92       489\n",
      "\n"
     ]
    }
   ],
   "source": [
    "test(X_pca, y)"
   ]
  },
  {
   "cell_type": "markdown",
   "metadata": {
    "id": "wst2jGYiO_Ko"
   },
   "source": [
    "Качестве классификации понизилось, но при этом мы получили данные с размерностью 2!"
   ]
  },
  {
   "cell_type": "code",
   "execution_count": null,
   "metadata": {
    "id": "I36hD3jiPG2I"
   },
   "outputs": [],
   "source": [
    "pca_2 = PCA(n_components=3)\n",
    "X_pca_2 = pca_2.fit_transform(X, y)"
   ]
  },
  {
   "cell_type": "code",
   "execution_count": null,
   "metadata": {
    "colab": {
     "base_uri": "https://localhost:8080/"
    },
    "id": "l80tlE-NPOEQ",
    "outputId": "57d9ed9b-8aea-42dd-89e2-27ae4c14e451"
   },
   "outputs": [
    {
     "name": "stdout",
     "output_type": "stream",
     "text": [
      "              precision    recall  f1-score   support\n",
      "\n",
      "           0       0.91      0.97      0.94       245\n",
      "           1       0.97      0.90      0.93       244\n",
      "\n",
      "    accuracy                           0.94       489\n",
      "   macro avg       0.94      0.94      0.94       489\n",
      "weighted avg       0.94      0.94      0.94       489\n",
      "\n"
     ]
    }
   ],
   "source": [
    "test(X_pca_2, y)"
   ]
  },
  {
   "cell_type": "code",
   "execution_count": null,
   "metadata": {
    "colab": {
     "base_uri": "https://localhost:8080/",
     "height": 416
    },
    "id": "sRvN2mOqPRWg",
    "outputId": "1dc813c6-8660-45e9-da70-3bde9df9613b"
   },
   "outputs": [
    {
     "data": {
      "image/png": "[encoded data removed]",
      "text/plain": [
       "<Figure size 640x480 with 1 Axes>"
      ]
     },
     "metadata": {},
     "output_type": "display_data"
    }
   ],
   "source": [
    "fig = plt.figure()\n",
    "ax = fig.add_subplot(projection='3d')\n",
    "ax.scatter(X_pca_2[:,0], X_pca_2[:,1], X_pca_2[:,2], c=y);"
   ]
  },
  {
   "cell_type": "markdown",
   "metadata": {
    "id": "Nk8lr_0ZP7Cg"
   },
   "source": [
    "### 2.2 Нелинейные методы выделения признаков"
   ]
  },
  {
   "cell_type": "markdown",
   "metadata": {
    "id": "lTBRy0-XQkyX"
   },
   "source": [
    "Нелинейные методы понижения размерности предполагают, что данные должны быть расположены на нелинейной поверхности меньшей размерности, чем исходное пространство"
   ]
  },
  {
   "cell_type": "markdown",
   "metadata": {
    "id": "lzSkQ4EESHkg"
   },
   "source": [
    "Полезные материалы:\n",
    "- https://habr.com/ru/articles/267041/\n",
    "- https://medium.com/nuances-of-programming/%D0%B4%D0%BE%D1%85%D0%BE%D0%B4%D1%87%D0%B8%D0%B2%D0%BE-%D0%BE%D0%B1-%D0%BE%D0%B1%D1%83%D1%87%D0%B5%D0%BD%D0%B8%D0%B8-%D0%BD%D0%B0-%D0%BE%D1%81%D0%BD%D0%BE%D0%B2%D0%B5-%D0%BC%D0%BD%D0%BE%D0%B3%D0%BE%D0%BE%D0%B1%D1%80%D0%B0%D0%B7%D0%B8%D0%B9-%D1%81-%D0%B0%D0%BB%D0%B3%D0%BE%D1%80%D0%B8%D1%82%D0%BC%D0%B0%D0%BC%D0%B8-isomap-t-sne-%D0%B8-lle-8fbb30851953\n",
    "- https://towardsdatascience.com/isomap-embedding-an-awesome-approach-to-non-linear-dimensionality-reduction-fc7efbca47a0"
   ]
  },
  {
   "cell_type": "markdown",
   "metadata": {
    "id": "u2e0JdjEQEAI"
   },
   "source": [
    "Распространены такие алгоритмы, как t-SNE (t-distributed Stochastic Neighbor Embedding) и Isomap. Существует при этом множество других алгоритмов"
   ]
  },
  {
   "cell_type": "code",
   "execution_count": null,
   "metadata": {
    "id": "QJfea9uvQDKZ"
   },
   "outputs": [],
   "source": [
    "from sklearn.manifold import TSNE, Isomap"
   ]
  },
  {
   "cell_type": "code",
   "execution_count": null,
   "metadata": {
    "id": "puuDkwpVRm3f"
   },
   "outputs": [],
   "source": [
    "tsne = TSNE(n_components=2)\n",
    "X_tsne = tsne.fit_transform(X_scaled)"
   ]
  },
  {
   "cell_type": "code",
   "execution_count": null,
   "metadata": {
    "colab": {
     "base_uri": "https://localhost:8080/",
     "height": 431
    },
    "id": "M9VmVQnyRw63",
    "outputId": "7fd735dd-9fc8-48f8-dab5-141d166fcc91"
   },
   "outputs": [
    {
     "data": {
      "image/png": "[encoded data removed]",
      "text/plain": [
       "<Figure size 640x480 with 1 Axes>"
      ]
     },
     "metadata": {},
     "output_type": "display_data"
    }
   ],
   "source": [
    "plt.scatter(X_tsne[:,0], X_tsne[:,1], c=y);"
   ]
  },
  {
   "cell_type": "code",
   "execution_count": null,
   "metadata": {
    "colab": {
     "base_uri": "https://localhost:8080/"
    },
    "id": "RT3rIMgvSCq-",
    "outputId": "d4908b1d-a263-4ee3-ce11-4675347e8a98"
   },
   "outputs": [
    {
     "name": "stdout",
     "output_type": "stream",
     "text": [
      "              precision    recall  f1-score   support\n",
      "\n",
      "           0       0.88      0.94      0.91       245\n",
      "           1       0.93      0.88      0.90       244\n",
      "\n",
      "    accuracy                           0.91       489\n",
      "   macro avg       0.91      0.91      0.91       489\n",
      "weighted avg       0.91      0.91      0.91       489\n",
      "\n"
     ]
    }
   ],
   "source": [
    "test(X_tsne, y)"
   ]
  },
  {
   "cell_type": "code",
   "execution_count": null,
   "metadata": {
    "id": "goXhJLbVSnne"
   },
   "outputs": [],
   "source": [
    "isomap = Isomap(n_components=2)\n",
    "X_isomap = isomap.fit_transform(X_scaled)"
   ]
  },
  {
   "cell_type": "code",
   "execution_count": null,
   "metadata": {
    "colab": {
     "base_uri": "https://localhost:8080/",
     "height": 430
    },
    "id": "KU0PzQvOSvzu",
    "outputId": "923256cb-c3e1-46d1-9c04-6b73fbdee521"
   },
   "outputs": [
    {
     "data": {
      "image/png": "[encoded data removed]",
      "text/plain": [
       "<Figure size 640x480 with 1 Axes>"
      ]
     },
     "metadata": {},
     "output_type": "display_data"
    }
   ],
   "source": [
    "plt.scatter(X_isomap[:,0], X_isomap[:,1], c=y);"
   ]
  },
  {
   "cell_type": "markdown",
   "metadata": {
    "id": "JcFOYGHbS6jm"
   },
   "source": [
    "Попробуем применить к результату tSNE алгоритм KMeans"
   ]
  },
  {
   "cell_type": "code",
   "execution_count": null,
   "metadata": {
    "id": "ZHwWwt8ITDS9"
   },
   "outputs": [],
   "source": [
    "from sklearn.cluster import KMeans\n",
    "from sklearn.metrics import silhouette_score"
   ]
  },
  {
   "cell_type": "code",
   "execution_count": null,
   "metadata": {
    "colab": {
     "base_uri": "https://localhost:8080/",
     "height": 486
    },
    "id": "YZFYNkFXTMyF",
    "outputId": "9865c5fd-f682-4a33-8767-53a3111891be"
   },
   "outputs": [
    {
     "name": "stderr",
     "output_type": "stream",
     "text": [
      "/usr/local/lib/python3.10/dist-packages/sklearn/cluster/_kmeans.py:870: FutureWarning: The default value of `n_init` will change from 10 to 'auto' in 1.4. Set the value of `n_init` explicitly to suppress the warning\n",
      "  warnings.warn(\n"
     ]
    },
    {
     "data": {
      "image/png": "[encoded data removed]",
      "text/plain": [
       "<Figure size 640x480 with 1 Axes>"
      ]
     },
     "metadata": {},
     "output_type": "display_data"
    }
   ],
   "source": [
    "kmeans = KMeans(n_clusters=8).fit(X_tsne)\n",
    "plt.scatter(X_tsne[:,0], X_tsne[:,1], c=kmeans.labels_)\n",
    "plt.scatter(kmeans.cluster_centers_[:,0], kmeans.cluster_centers_[:,1], c='red', s=200);"
   ]
  },
  {
   "cell_type": "code",
   "execution_count": null,
   "metadata": {
    "colab": {
     "base_uri": "https://localhost:8080/"
    },
    "id": "Ju2k2yymU1Mk",
    "outputId": "b93c7a47-58b5-4954-debd-d0e6be4c5aa0"
   },
   "outputs": [
    {
     "data": {
      "text/plain": [
       "0.5069558"
      ]
     },
     "execution_count": 267,
     "metadata": {},
     "output_type": "execute_result"
    }
   ],
   "source": [
    "silhouette_score(X_tsne, kmeans.labels_)"
   ]
  },
  {
   "cell_type": "markdown",
   "metadata": {
    "id": "AJPxv_jzVHsc"
   },
   "source": [
    "Результат классификации - **клиентов банка можно разделить на 8 групп**, которые достаточно сильно отличаются друг от друга. Этот факт может быть использован, например если банк захочет каждой группе предлагать определенные услуги. Интерпретация групп является задачей исследователя"
   ]
  },
  {
   "cell_type": "markdown",
   "metadata": {
    "id": "KgEuxP0NVZYM"
   },
   "source": [
    "**Понижение размерности в машинном обучении играет очень важную роль**, поскольку оптимизирует вычислительные затраты, дает возможность визуализировать данные и позволяет избежать \"проклятия размерности\""
   ]
  },
  {
   "cell_type": "markdown",
   "metadata": {
    "id": "eiwxdHC-V38z"
   },
   "source": [
    "## Задания"
   ]
  },
  {
   "cell_type": "markdown",
   "metadata": {
    "id": "8cRnNAXDV6nr"
   },
   "source": [
    "1. Используйте **наборы данных для классификации и регрессии**, с помощью которых вы выполняли ЛР1-ЛР4.\n",
    "2. С помощью классов библиотеки sklearn выполните понижение размерности (**размерность выберите сами, можно разные**) с использованием всех описанных методов (VarianceThreshold, SelectKBest, RFE, PCA, tSNE, Isomap).\n",
    "3. **Выберите две модели** (одна - для регрессии и другая - для классификации).\n",
    "4. Обучите выбранные модели с использованием данных в пространстве низкой размерности - **используйте результаты выполнения пункта 3** (не забудьте, что понижать нужно и X_train и X_test - проще всего понижать X). **Сделайте вывод** о том, какие методы понижения размерности лучше всего подходят для ваших данных.\n",
    "5. **Самостоятельно реализуйте алгоритм PCA**. Выполните с его помощью понижение размерности датасета для классификации до 2 (преобразуйте данные в двумерное пространство). **Выполните визуализацию данных** (точки на плоскости).\n",
    "6. Попробуйте выполнить **кластеризацию преобразованных в пункте 5 данных с помощью вашей реализации алгоритма KMeans** из ЛР6.\n",
    "7. Используйте оригинальный датасет для регрессии (без понижения размерности). Обучите любую из линейных моделей, реализованных вами в ЛР1. **Важно: модель должна быть реализована вами, не sklearn!** Посмотрите значения коэффициентов модели, выберите несколько признаков с наибольшими значениями коэффициентов.\n"
   ]
  }
 ],
 "metadata": {
  "colab": {
   "provenance": []
  },
  "kernelspec": {
   "display_name": "Python 3 (ipykernel)",
   "language": "python",
   "name": "python3"
  },
  "language_info": {
   "codemirror_mode": {
    "name": "ipython",
    "version": 3
   },
   "file_extension": ".py",
   "mimetype": "text/x-python",
   "name": "python",
   "nbconvert_exporter": "python",
   "pygments_lexer": "ipython3",
   "version": "3.9.10"
  }
 },
 "nbformat": 4,
 "nbformat_minor": 1
}
