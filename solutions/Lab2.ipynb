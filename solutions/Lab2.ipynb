{
 "cells": [
  {
   "cell_type": "code",
   "execution_count": 1,
   "id": "ede1f8b0",
   "metadata": {},
   "outputs": [],
   "source": [
    "import numpy as np\n",
    "import pandas as pd\n",
    "\n",
    "# predict: diabetes_012"
   ]
  },
  {
   "cell_type": "markdown",
   "id": "1b8d4c37",
   "metadata": {},
   "source": [
    "# Задание 1"
   ]
  },
  {
   "cell_type": "markdown",
   "id": "0d24f307",
   "metadata": {},
   "source": [
    "Какова вероятность отправиться на прогулку если идёт дождь, при наличии следующих наблюдений?\n",
    "\n",
    "## Формула Байеса\n",
    "\n",
    "Формула Байеса позволяет «переставить причину и следствие»: по известному факту события вычислить вероятность того, что оно было вызвано данной причиной. События, отражающие действие «причин», в данном случае называют гипотезами, так как они — предполагаемые события, повлекшие данное.\n",
    "\n",
    "$P(A|B) =\\frac{P(A) \\cdot P(B | A)}{P(B)}$ (1)\n",
    "\n",
    "* $P(A)$  -- априорная вероятность гипотезы A;\n",
    "* $P(A|B)$ --  вероятность гипотезы A при наступлении события B (апостериорная вероятность);\n",
    "* $P(B|A)$ --  вероятность наступления события B при истинности гипотезы A;\n",
    "* $P(B)$ -- полная вероятность наступления события B."
   ]
  },
  {
   "cell_type": "code",
   "execution_count": 2,
   "id": "d14f77c9",
   "metadata": {},
   "outputs": [],
   "source": [
    "data = [\n",
    "        ('солнечно', True),\n",
    "        ('снег', False),\n",
    "        ('облачно', False),\n",
    "        ('дождь', False),\n",
    "        ('солнечно', True),\n",
    "        ('снег', False),\n",
    "        ('облачно', True),\n",
    "        ('снег', False),\n",
    "        ('солнечно', False),\n",
    "        ('облачно', True),\n",
    "        ('снег', True),\n",
    "        ('солнечно', True),\n",
    "        ('дождь', False),\n",
    "        ('дождь', True),\n",
    "        ('облачно', True),\n",
    "]"
   ]
  },
  {
   "cell_type": "markdown",
   "id": "aa8a9dbc",
   "metadata": {},
   "source": [
    "* A -- мужик отправился на прогулку\n",
    "* B -- идёт дождь"
   ]
  },
  {
   "cell_type": "code",
   "execution_count": 9,
   "id": "e30d6f10",
   "metadata": {},
   "outputs": [],
   "source": [
    "P_A = sum(i[1] for i in data) / len(data)\n",
    "P_B = sum(i[0] == 'дождь' for i in data) / len(data)\n",
    "P_BA = sum(i[0] == 'дождь' and i[1] for i in data) / sum(i[1] for i in data)"
   ]
  },
  {
   "cell_type": "code",
   "execution_count": 10,
   "id": "ceed6fe7",
   "metadata": {},
   "outputs": [
    {
     "name": "stdout",
     "output_type": "stream",
     "text": [
      "0.3333333333333333\n"
     ]
    }
   ],
   "source": [
    "result = P_A * P_BA / P_B\n",
    "print(result)\n"
   ]
  },
  {
   "cell_type": "markdown",
   "id": "d7d0bf98",
   "metadata": {},
   "source": [
    "### Задание 2\n",
    "\n",
    "- загрузите датасет для классификации, проведите предобработку, выделите целевой признак и предикторы, разбейте данные на обучающую и тестовую выборку;\n",
    "- Масштабируйте числовые признаки\n",
    "- В случае дисбаланса проведите балансировку\n",
    "- решите задачу классификации на ваших данных с использованием рассмотренных моделей sklearn: knn, NB, Logistic Regression, SVM. Не забудьте подобрать гиперпараметры.\n",
    "- вычислите значения метрик Accuracy, Precision, Recall, F1, ROC AUC score\n"
   ]
  },
  {
   "cell_type": "markdown",
   "id": "1fc992bb",
   "metadata": {},
   "source": [
    "## Загрузка датасета"
   ]
  },
  {
   "cell_type": "code",
   "execution_count": 206,
   "id": "06afb986",
   "metadata": {},
   "outputs": [
    {
     "data": {
      "text/html": [
       "<div>\n",
       "<style scoped>\n",
       "    .dataframe tbody tr th:only-of-type {\n",
       "        vertical-align: middle;\n",
       "    }\n",
       "\n",
       "    .dataframe tbody tr th {\n",
       "        vertical-align: top;\n",
       "    }\n",
       "\n",
       "    .dataframe thead th {\n",
       "        text-align: right;\n",
       "    }\n",
       "</style>\n",
       "<table border=\"1\" class=\"dataframe\">\n",
       "  <thead>\n",
       "    <tr style=\"text-align: right;\">\n",
       "      <th></th>\n",
       "      <th>Diabetes_012</th>\n",
       "      <th>HighBP</th>\n",
       "      <th>HighChol</th>\n",
       "      <th>CholCheck</th>\n",
       "      <th>BMI</th>\n",
       "      <th>Smoker</th>\n",
       "      <th>Stroke</th>\n",
       "      <th>HeartDiseaseorAttack</th>\n",
       "      <th>PhysActivity</th>\n",
       "      <th>Fruits</th>\n",
       "      <th>...</th>\n",
       "      <th>AnyHealthcare</th>\n",
       "      <th>NoDocbcCost</th>\n",
       "      <th>GenHlth</th>\n",
       "      <th>MentHlth</th>\n",
       "      <th>PhysHlth</th>\n",
       "      <th>DiffWalk</th>\n",
       "      <th>Sex</th>\n",
       "      <th>Age</th>\n",
       "      <th>Education</th>\n",
       "      <th>Income</th>\n",
       "    </tr>\n",
       "  </thead>\n",
       "  <tbody>\n",
       "    <tr>\n",
       "      <th>103380</th>\n",
       "      <td>0.0</td>\n",
       "      <td>0.0</td>\n",
       "      <td>0.0</td>\n",
       "      <td>1.0</td>\n",
       "      <td>22.0</td>\n",
       "      <td>1.0</td>\n",
       "      <td>0.0</td>\n",
       "      <td>0.0</td>\n",
       "      <td>1.0</td>\n",
       "      <td>0.0</td>\n",
       "      <td>...</td>\n",
       "      <td>1.0</td>\n",
       "      <td>0.0</td>\n",
       "      <td>3.0</td>\n",
       "      <td>0.0</td>\n",
       "      <td>0.0</td>\n",
       "      <td>0.0</td>\n",
       "      <td>0.0</td>\n",
       "      <td>9.0</td>\n",
       "      <td>5.0</td>\n",
       "      <td>8.0</td>\n",
       "    </tr>\n",
       "    <tr>\n",
       "      <th>76776</th>\n",
       "      <td>0.0</td>\n",
       "      <td>1.0</td>\n",
       "      <td>0.0</td>\n",
       "      <td>1.0</td>\n",
       "      <td>29.0</td>\n",
       "      <td>0.0</td>\n",
       "      <td>0.0</td>\n",
       "      <td>0.0</td>\n",
       "      <td>1.0</td>\n",
       "      <td>0.0</td>\n",
       "      <td>...</td>\n",
       "      <td>1.0</td>\n",
       "      <td>0.0</td>\n",
       "      <td>2.0</td>\n",
       "      <td>0.0</td>\n",
       "      <td>0.0</td>\n",
       "      <td>0.0</td>\n",
       "      <td>1.0</td>\n",
       "      <td>6.0</td>\n",
       "      <td>5.0</td>\n",
       "      <td>8.0</td>\n",
       "    </tr>\n",
       "    <tr>\n",
       "      <th>42585</th>\n",
       "      <td>2.0</td>\n",
       "      <td>1.0</td>\n",
       "      <td>0.0</td>\n",
       "      <td>1.0</td>\n",
       "      <td>28.0</td>\n",
       "      <td>0.0</td>\n",
       "      <td>0.0</td>\n",
       "      <td>0.0</td>\n",
       "      <td>1.0</td>\n",
       "      <td>1.0</td>\n",
       "      <td>...</td>\n",
       "      <td>1.0</td>\n",
       "      <td>0.0</td>\n",
       "      <td>1.0</td>\n",
       "      <td>0.0</td>\n",
       "      <td>0.0</td>\n",
       "      <td>0.0</td>\n",
       "      <td>0.0</td>\n",
       "      <td>9.0</td>\n",
       "      <td>6.0</td>\n",
       "      <td>6.0</td>\n",
       "    </tr>\n",
       "    <tr>\n",
       "      <th>248205</th>\n",
       "      <td>0.0</td>\n",
       "      <td>0.0</td>\n",
       "      <td>1.0</td>\n",
       "      <td>1.0</td>\n",
       "      <td>25.0</td>\n",
       "      <td>0.0</td>\n",
       "      <td>0.0</td>\n",
       "      <td>0.0</td>\n",
       "      <td>1.0</td>\n",
       "      <td>1.0</td>\n",
       "      <td>...</td>\n",
       "      <td>1.0</td>\n",
       "      <td>0.0</td>\n",
       "      <td>2.0</td>\n",
       "      <td>0.0</td>\n",
       "      <td>0.0</td>\n",
       "      <td>0.0</td>\n",
       "      <td>0.0</td>\n",
       "      <td>11.0</td>\n",
       "      <td>5.0</td>\n",
       "      <td>8.0</td>\n",
       "    </tr>\n",
       "    <tr>\n",
       "      <th>88652</th>\n",
       "      <td>0.0</td>\n",
       "      <td>0.0</td>\n",
       "      <td>0.0</td>\n",
       "      <td>1.0</td>\n",
       "      <td>29.0</td>\n",
       "      <td>1.0</td>\n",
       "      <td>0.0</td>\n",
       "      <td>0.0</td>\n",
       "      <td>1.0</td>\n",
       "      <td>1.0</td>\n",
       "      <td>...</td>\n",
       "      <td>1.0</td>\n",
       "      <td>0.0</td>\n",
       "      <td>3.0</td>\n",
       "      <td>0.0</td>\n",
       "      <td>8.0</td>\n",
       "      <td>0.0</td>\n",
       "      <td>0.0</td>\n",
       "      <td>6.0</td>\n",
       "      <td>3.0</td>\n",
       "      <td>6.0</td>\n",
       "    </tr>\n",
       "    <tr>\n",
       "      <th>...</th>\n",
       "      <td>...</td>\n",
       "      <td>...</td>\n",
       "      <td>...</td>\n",
       "      <td>...</td>\n",
       "      <td>...</td>\n",
       "      <td>...</td>\n",
       "      <td>...</td>\n",
       "      <td>...</td>\n",
       "      <td>...</td>\n",
       "      <td>...</td>\n",
       "      <td>...</td>\n",
       "      <td>...</td>\n",
       "      <td>...</td>\n",
       "      <td>...</td>\n",
       "      <td>...</td>\n",
       "      <td>...</td>\n",
       "      <td>...</td>\n",
       "      <td>...</td>\n",
       "      <td>...</td>\n",
       "      <td>...</td>\n",
       "      <td>...</td>\n",
       "    </tr>\n",
       "    <tr>\n",
       "      <th>3351</th>\n",
       "      <td>0.0</td>\n",
       "      <td>0.0</td>\n",
       "      <td>0.0</td>\n",
       "      <td>1.0</td>\n",
       "      <td>46.0</td>\n",
       "      <td>0.0</td>\n",
       "      <td>0.0</td>\n",
       "      <td>0.0</td>\n",
       "      <td>1.0</td>\n",
       "      <td>1.0</td>\n",
       "      <td>...</td>\n",
       "      <td>1.0</td>\n",
       "      <td>0.0</td>\n",
       "      <td>2.0</td>\n",
       "      <td>25.0</td>\n",
       "      <td>0.0</td>\n",
       "      <td>0.0</td>\n",
       "      <td>0.0</td>\n",
       "      <td>4.0</td>\n",
       "      <td>6.0</td>\n",
       "      <td>6.0</td>\n",
       "    </tr>\n",
       "    <tr>\n",
       "      <th>211119</th>\n",
       "      <td>0.0</td>\n",
       "      <td>1.0</td>\n",
       "      <td>1.0</td>\n",
       "      <td>1.0</td>\n",
       "      <td>30.0</td>\n",
       "      <td>0.0</td>\n",
       "      <td>0.0</td>\n",
       "      <td>0.0</td>\n",
       "      <td>1.0</td>\n",
       "      <td>1.0</td>\n",
       "      <td>...</td>\n",
       "      <td>1.0</td>\n",
       "      <td>0.0</td>\n",
       "      <td>4.0</td>\n",
       "      <td>0.0</td>\n",
       "      <td>0.0</td>\n",
       "      <td>0.0</td>\n",
       "      <td>1.0</td>\n",
       "      <td>9.0</td>\n",
       "      <td>6.0</td>\n",
       "      <td>5.0</td>\n",
       "    </tr>\n",
       "    <tr>\n",
       "      <th>628</th>\n",
       "      <td>0.0</td>\n",
       "      <td>1.0</td>\n",
       "      <td>0.0</td>\n",
       "      <td>1.0</td>\n",
       "      <td>32.0</td>\n",
       "      <td>0.0</td>\n",
       "      <td>0.0</td>\n",
       "      <td>0.0</td>\n",
       "      <td>0.0</td>\n",
       "      <td>0.0</td>\n",
       "      <td>...</td>\n",
       "      <td>1.0</td>\n",
       "      <td>0.0</td>\n",
       "      <td>3.0</td>\n",
       "      <td>0.0</td>\n",
       "      <td>1.0</td>\n",
       "      <td>0.0</td>\n",
       "      <td>1.0</td>\n",
       "      <td>5.0</td>\n",
       "      <td>6.0</td>\n",
       "      <td>8.0</td>\n",
       "    </tr>\n",
       "    <tr>\n",
       "      <th>199882</th>\n",
       "      <td>0.0</td>\n",
       "      <td>0.0</td>\n",
       "      <td>0.0</td>\n",
       "      <td>1.0</td>\n",
       "      <td>23.0</td>\n",
       "      <td>0.0</td>\n",
       "      <td>0.0</td>\n",
       "      <td>0.0</td>\n",
       "      <td>1.0</td>\n",
       "      <td>1.0</td>\n",
       "      <td>...</td>\n",
       "      <td>1.0</td>\n",
       "      <td>0.0</td>\n",
       "      <td>2.0</td>\n",
       "      <td>0.0</td>\n",
       "      <td>10.0</td>\n",
       "      <td>0.0</td>\n",
       "      <td>0.0</td>\n",
       "      <td>7.0</td>\n",
       "      <td>6.0</td>\n",
       "      <td>6.0</td>\n",
       "    </tr>\n",
       "    <tr>\n",
       "      <th>107528</th>\n",
       "      <td>0.0</td>\n",
       "      <td>0.0</td>\n",
       "      <td>0.0</td>\n",
       "      <td>1.0</td>\n",
       "      <td>23.0</td>\n",
       "      <td>0.0</td>\n",
       "      <td>0.0</td>\n",
       "      <td>0.0</td>\n",
       "      <td>1.0</td>\n",
       "      <td>1.0</td>\n",
       "      <td>...</td>\n",
       "      <td>1.0</td>\n",
       "      <td>0.0</td>\n",
       "      <td>1.0</td>\n",
       "      <td>0.0</td>\n",
       "      <td>0.0</td>\n",
       "      <td>0.0</td>\n",
       "      <td>1.0</td>\n",
       "      <td>3.0</td>\n",
       "      <td>6.0</td>\n",
       "      <td>7.0</td>\n",
       "    </tr>\n",
       "  </tbody>\n",
       "</table>\n",
       "<p>253680 rows × 22 columns</p>\n",
       "</div>"
      ],
      "text/plain": [
       "        Diabetes_012  HighBP  HighChol  CholCheck   BMI  Smoker  Stroke  \\\n",
       "103380           0.0     0.0       0.0        1.0  22.0     1.0     0.0   \n",
       "76776            0.0     1.0       0.0        1.0  29.0     0.0     0.0   \n",
       "42585            2.0     1.0       0.0        1.0  28.0     0.0     0.0   \n",
       "248205           0.0     0.0       1.0        1.0  25.0     0.0     0.0   \n",
       "88652            0.0     0.0       0.0        1.0  29.0     1.0     0.0   \n",
       "...              ...     ...       ...        ...   ...     ...     ...   \n",
       "3351             0.0     0.0       0.0        1.0  46.0     0.0     0.0   \n",
       "211119           0.0     1.0       1.0        1.0  30.0     0.0     0.0   \n",
       "628              0.0     1.0       0.0        1.0  32.0     0.0     0.0   \n",
       "199882           0.0     0.0       0.0        1.0  23.0     0.0     0.0   \n",
       "107528           0.0     0.0       0.0        1.0  23.0     0.0     0.0   \n",
       "\n",
       "        HeartDiseaseorAttack  PhysActivity  Fruits  ...  AnyHealthcare  \\\n",
       "103380                   0.0           1.0     0.0  ...            1.0   \n",
       "76776                    0.0           1.0     0.0  ...            1.0   \n",
       "42585                    0.0           1.0     1.0  ...            1.0   \n",
       "248205                   0.0           1.0     1.0  ...            1.0   \n",
       "88652                    0.0           1.0     1.0  ...            1.0   \n",
       "...                      ...           ...     ...  ...            ...   \n",
       "3351                     0.0           1.0     1.0  ...            1.0   \n",
       "211119                   0.0           1.0     1.0  ...            1.0   \n",
       "628                      0.0           0.0     0.0  ...            1.0   \n",
       "199882                   0.0           1.0     1.0  ...            1.0   \n",
       "107528                   0.0           1.0     1.0  ...            1.0   \n",
       "\n",
       "        NoDocbcCost  GenHlth  MentHlth  PhysHlth  DiffWalk  Sex   Age  \\\n",
       "103380          0.0      3.0       0.0       0.0       0.0  0.0   9.0   \n",
       "76776           0.0      2.0       0.0       0.0       0.0  1.0   6.0   \n",
       "42585           0.0      1.0       0.0       0.0       0.0  0.0   9.0   \n",
       "248205          0.0      2.0       0.0       0.0       0.0  0.0  11.0   \n",
       "88652           0.0      3.0       0.0       8.0       0.0  0.0   6.0   \n",
       "...             ...      ...       ...       ...       ...  ...   ...   \n",
       "3351            0.0      2.0      25.0       0.0       0.0  0.0   4.0   \n",
       "211119          0.0      4.0       0.0       0.0       0.0  1.0   9.0   \n",
       "628             0.0      3.0       0.0       1.0       0.0  1.0   5.0   \n",
       "199882          0.0      2.0       0.0      10.0       0.0  0.0   7.0   \n",
       "107528          0.0      1.0       0.0       0.0       0.0  1.0   3.0   \n",
       "\n",
       "        Education  Income  \n",
       "103380        5.0     8.0  \n",
       "76776         5.0     8.0  \n",
       "42585         6.0     6.0  \n",
       "248205        5.0     8.0  \n",
       "88652         3.0     6.0  \n",
       "...           ...     ...  \n",
       "3351          6.0     6.0  \n",
       "211119        6.0     5.0  \n",
       "628           6.0     8.0  \n",
       "199882        6.0     6.0  \n",
       "107528        6.0     7.0  \n",
       "\n",
       "[253680 rows x 22 columns]"
      ]
     },
     "execution_count": 206,
     "metadata": {},
     "output_type": "execute_result"
    }
   ],
   "source": [
    "data = pd.read_csv('../datasets/raw/diabetes.csv')\n",
    "data = data.sample(frac=1)\n",
    "data"
   ]
  },
  {
   "cell_type": "code",
   "execution_count": 207,
   "id": "94a97a8b",
   "metadata": {},
   "outputs": [
    {
     "data": {
      "text/plain": [
       "False"
      ]
     },
     "execution_count": 207,
     "metadata": {},
     "output_type": "execute_result"
    }
   ],
   "source": [
    "data.isnull().values.any()"
   ]
  },
  {
   "cell_type": "code",
   "execution_count": 208,
   "id": "1fdc2e89",
   "metadata": {},
   "outputs": [],
   "source": [
    "# data = data[data['Diabetes_012'] != 1]"
   ]
  },
  {
   "cell_type": "markdown",
   "id": "44554fde",
   "metadata": {},
   "source": [
    "## Балансировка"
   ]
  },
  {
   "cell_type": "code",
   "execution_count": 209,
   "id": "2988d6c4",
   "metadata": {},
   "outputs": [],
   "source": [
    "from sklearn.utils import resample"
   ]
  },
  {
   "cell_type": "code",
   "execution_count": 210,
   "id": "6d86be0a",
   "metadata": {},
   "outputs": [
    {
     "name": "stdout",
     "output_type": "stream",
     "text": [
      "(213703, 22) (35346, 22)\n"
     ]
    }
   ],
   "source": [
    "data_0 = data[data['Diabetes_012'] == 0]\n",
    "data_1 = data[data['Diabetes_012'] == 1]\n",
    "data_2 = data[data['Diabetes_012'] == 2]\n",
    "\n",
    "print(data_0.shape, data_2.shape)"
   ]
  },
  {
   "cell_type": "code",
   "execution_count": 211,
   "id": "b0059b82",
   "metadata": {},
   "outputs": [
    {
     "name": "stdout",
     "output_type": "stream",
     "text": [
      "(7500, 22) (7500, 22)\n"
     ]
    }
   ],
   "source": [
    "data_0 = resample(data_0, replace=False, n_samples=7500)\n",
    "data_1 = resample(data_1, replace=True, n_samples=7500)\n",
    "data_2 = resample(data_2, replace=True, n_samples=7500)\n",
    "\n",
    "print(data_0.shape, data_2.shape)"
   ]
  },
  {
   "cell_type": "code",
   "execution_count": 212,
   "id": "447a3a7a",
   "metadata": {},
   "outputs": [
    {
     "data": {
      "text/plain": [
       "Diabetes_012\n",
       "0.0    7500\n",
       "1.0    7500\n",
       "2.0    7500\n",
       "Name: Diabetes_012, dtype: int64"
      ]
     },
     "execution_count": 212,
     "metadata": {},
     "output_type": "execute_result"
    }
   ],
   "source": [
    "data = pd.concat([data_0, data_1, data_2])\n",
    "data['Diabetes_012'].groupby(data['Diabetes_012']).count()\n"
   ]
  },
  {
   "cell_type": "code",
   "execution_count": 213,
   "id": "2656f3ed",
   "metadata": {},
   "outputs": [],
   "source": [
    "from sklearn.utils import shuffle\n",
    "data = shuffle(data)"
   ]
  },
  {
   "cell_type": "code",
   "execution_count": 214,
   "id": "e5cb8115",
   "metadata": {},
   "outputs": [
    {
     "data": {
      "text/plain": [
       "(22500,)"
      ]
     },
     "execution_count": 214,
     "metadata": {},
     "output_type": "execute_result"
    }
   ],
   "source": [
    "y = data['Diabetes_012']\n",
    "X = data.drop(columns=['Diabetes_012'])\n",
    "\n",
    "y.shape"
   ]
  },
  {
   "cell_type": "markdown",
   "id": "647b3c64",
   "metadata": {},
   "source": [
    "## Разбитие на выборки"
   ]
  },
  {
   "cell_type": "code",
   "execution_count": 12,
   "id": "4ec24ed4",
   "metadata": {},
   "outputs": [
    {
     "ename": "AttributeError",
     "evalue": "'list' object has no attribute 'shape'",
     "output_type": "error",
     "traceback": [
      "\u001b[1;31m---------------------------------------------------------------------------\u001b[0m",
      "\u001b[1;31mAttributeError\u001b[0m                            Traceback (most recent call last)",
      "Cell \u001b[1;32mIn[12], line 4\u001b[0m\n\u001b[0;32m      1\u001b[0m test_share \u001b[38;5;241m=\u001b[39m \u001b[38;5;241m0.8\u001b[39m\n\u001b[1;32m----> 4\u001b[0m test_count \u001b[38;5;241m=\u001b[39m \u001b[38;5;28mint\u001b[39m(\u001b[43mdata\u001b[49m\u001b[38;5;241;43m.\u001b[39;49m\u001b[43mshape\u001b[49m[\u001b[38;5;241m0\u001b[39m] \u001b[38;5;241m*\u001b[39m (\u001b[38;5;241m1\u001b[39m \u001b[38;5;241m-\u001b[39m test_share))\n",
      "\u001b[1;31mAttributeError\u001b[0m: 'list' object has no attribute 'shape'"
     ]
    }
   ],
   "source": [
    "test_share = 0.8\n",
    "\n",
    "\n",
    "test_count = int(data.shape[0] * (1 - test_share))"
   ]
  },
  {
   "cell_type": "code",
   "execution_count": 216,
   "id": "818fabab",
   "metadata": {},
   "outputs": [],
   "source": [
    "X_test = X.iloc[:test_count:]\n",
    "X_train = X.iloc[test_count:,:]\n",
    "\n",
    "y_test = y.iloc[:test_count]\n",
    "y_train = y.iloc[test_count:]\n"
   ]
  },
  {
   "cell_type": "markdown",
   "id": "8e191ead",
   "metadata": {},
   "source": [
    "## Масштабирование признаков"
   ]
  },
  {
   "cell_type": "code",
   "execution_count": 217,
   "id": "6f609e24",
   "metadata": {},
   "outputs": [],
   "source": [
    "from sklearn.preprocessing import StandardScaler"
   ]
  },
  {
   "cell_type": "code",
   "execution_count": 218,
   "id": "b1b39fca",
   "metadata": {},
   "outputs": [
    {
     "data": {
      "text/html": [
       "<div>\n",
       "<style scoped>\n",
       "    .dataframe tbody tr th:only-of-type {\n",
       "        vertical-align: middle;\n",
       "    }\n",
       "\n",
       "    .dataframe tbody tr th {\n",
       "        vertical-align: top;\n",
       "    }\n",
       "\n",
       "    .dataframe thead th {\n",
       "        text-align: right;\n",
       "    }\n",
       "</style>\n",
       "<table border=\"1\" class=\"dataframe\">\n",
       "  <thead>\n",
       "    <tr style=\"text-align: right;\">\n",
       "      <th></th>\n",
       "      <th>HighBP</th>\n",
       "      <th>HighChol</th>\n",
       "      <th>CholCheck</th>\n",
       "      <th>BMI</th>\n",
       "      <th>Smoker</th>\n",
       "      <th>Stroke</th>\n",
       "      <th>HeartDiseaseorAttack</th>\n",
       "      <th>PhysActivity</th>\n",
       "      <th>Fruits</th>\n",
       "      <th>Veggies</th>\n",
       "      <th>...</th>\n",
       "      <th>AnyHealthcare</th>\n",
       "      <th>NoDocbcCost</th>\n",
       "      <th>GenHlth</th>\n",
       "      <th>MentHlth</th>\n",
       "      <th>PhysHlth</th>\n",
       "      <th>DiffWalk</th>\n",
       "      <th>Sex</th>\n",
       "      <th>Age</th>\n",
       "      <th>Education</th>\n",
       "      <th>Income</th>\n",
       "    </tr>\n",
       "  </thead>\n",
       "  <tbody>\n",
       "    <tr>\n",
       "      <th>0</th>\n",
       "      <td>0.851504</td>\n",
       "      <td>0.899323</td>\n",
       "      <td>0.149591</td>\n",
       "      <td>0.259287</td>\n",
       "      <td>1.035805</td>\n",
       "      <td>-0.253632</td>\n",
       "      <td>2.410564</td>\n",
       "      <td>0.657053</td>\n",
       "      <td>0.798527</td>\n",
       "      <td>0.529604</td>\n",
       "      <td>...</td>\n",
       "      <td>0.228064</td>\n",
       "      <td>-0.34604</td>\n",
       "      <td>0.102017</td>\n",
       "      <td>-0.472637</td>\n",
       "      <td>-0.199818</td>\n",
       "      <td>1.684686</td>\n",
       "      <td>-0.904488</td>\n",
       "      <td>0.810944</td>\n",
       "      <td>0.115424</td>\n",
       "      <td>-0.268172</td>\n",
       "    </tr>\n",
       "    <tr>\n",
       "      <th>1</th>\n",
       "      <td>0.851504</td>\n",
       "      <td>-1.111947</td>\n",
       "      <td>0.149591</td>\n",
       "      <td>1.654254</td>\n",
       "      <td>1.035805</td>\n",
       "      <td>-0.253632</td>\n",
       "      <td>-0.414841</td>\n",
       "      <td>-1.521947</td>\n",
       "      <td>-1.252306</td>\n",
       "      <td>0.529604</td>\n",
       "      <td>...</td>\n",
       "      <td>0.228064</td>\n",
       "      <td>-0.34604</td>\n",
       "      <td>0.102017</td>\n",
       "      <td>0.001977</td>\n",
       "      <td>-0.493956</td>\n",
       "      <td>1.684686</td>\n",
       "      <td>-0.904488</td>\n",
       "      <td>1.172080</td>\n",
       "      <td>0.115424</td>\n",
       "      <td>-0.268172</td>\n",
       "    </tr>\n",
       "    <tr>\n",
       "      <th>2</th>\n",
       "      <td>0.851504</td>\n",
       "      <td>-1.111947</td>\n",
       "      <td>0.149591</td>\n",
       "      <td>0.259287</td>\n",
       "      <td>-0.965432</td>\n",
       "      <td>-0.253632</td>\n",
       "      <td>-0.414841</td>\n",
       "      <td>-1.521947</td>\n",
       "      <td>0.798527</td>\n",
       "      <td>0.529604</td>\n",
       "      <td>...</td>\n",
       "      <td>0.228064</td>\n",
       "      <td>-0.34604</td>\n",
       "      <td>-0.812532</td>\n",
       "      <td>-0.472637</td>\n",
       "      <td>-0.592002</td>\n",
       "      <td>-0.593582</td>\n",
       "      <td>1.105597</td>\n",
       "      <td>0.449809</td>\n",
       "      <td>0.115424</td>\n",
       "      <td>0.189008</td>\n",
       "    </tr>\n",
       "    <tr>\n",
       "      <th>3</th>\n",
       "      <td>0.851504</td>\n",
       "      <td>0.899323</td>\n",
       "      <td>0.149591</td>\n",
       "      <td>0.119790</td>\n",
       "      <td>-0.965432</td>\n",
       "      <td>-0.253632</td>\n",
       "      <td>2.410564</td>\n",
       "      <td>0.657053</td>\n",
       "      <td>0.798527</td>\n",
       "      <td>-1.888202</td>\n",
       "      <td>...</td>\n",
       "      <td>0.228064</td>\n",
       "      <td>-0.34604</td>\n",
       "      <td>1.016566</td>\n",
       "      <td>-0.472637</td>\n",
       "      <td>-0.592002</td>\n",
       "      <td>1.684686</td>\n",
       "      <td>1.105597</td>\n",
       "      <td>1.172080</td>\n",
       "      <td>1.073792</td>\n",
       "      <td>1.103370</td>\n",
       "    </tr>\n",
       "    <tr>\n",
       "      <th>4</th>\n",
       "      <td>0.851504</td>\n",
       "      <td>-1.111947</td>\n",
       "      <td>-6.684895</td>\n",
       "      <td>1.235763</td>\n",
       "      <td>1.035805</td>\n",
       "      <td>-0.253632</td>\n",
       "      <td>-0.414841</td>\n",
       "      <td>-1.521947</td>\n",
       "      <td>-1.252306</td>\n",
       "      <td>0.529604</td>\n",
       "      <td>...</td>\n",
       "      <td>0.228064</td>\n",
       "      <td>-0.34604</td>\n",
       "      <td>1.016566</td>\n",
       "      <td>-0.472637</td>\n",
       "      <td>-0.592002</td>\n",
       "      <td>1.684686</td>\n",
       "      <td>1.105597</td>\n",
       "      <td>1.172080</td>\n",
       "      <td>-0.842945</td>\n",
       "      <td>1.103370</td>\n",
       "    </tr>\n",
       "    <tr>\n",
       "      <th>...</th>\n",
       "      <td>...</td>\n",
       "      <td>...</td>\n",
       "      <td>...</td>\n",
       "      <td>...</td>\n",
       "      <td>...</td>\n",
       "      <td>...</td>\n",
       "      <td>...</td>\n",
       "      <td>...</td>\n",
       "      <td>...</td>\n",
       "      <td>...</td>\n",
       "      <td>...</td>\n",
       "      <td>...</td>\n",
       "      <td>...</td>\n",
       "      <td>...</td>\n",
       "      <td>...</td>\n",
       "      <td>...</td>\n",
       "      <td>...</td>\n",
       "      <td>...</td>\n",
       "      <td>...</td>\n",
       "      <td>...</td>\n",
       "      <td>...</td>\n",
       "    </tr>\n",
       "    <tr>\n",
       "      <th>17996</th>\n",
       "      <td>-1.174392</td>\n",
       "      <td>0.899323</td>\n",
       "      <td>0.149591</td>\n",
       "      <td>1.096267</td>\n",
       "      <td>1.035805</td>\n",
       "      <td>-0.253632</td>\n",
       "      <td>-0.414841</td>\n",
       "      <td>-1.521947</td>\n",
       "      <td>-1.252306</td>\n",
       "      <td>0.529604</td>\n",
       "      <td>...</td>\n",
       "      <td>0.228064</td>\n",
       "      <td>-0.34604</td>\n",
       "      <td>1.016566</td>\n",
       "      <td>3.086970</td>\n",
       "      <td>2.349380</td>\n",
       "      <td>-0.593582</td>\n",
       "      <td>-0.904488</td>\n",
       "      <td>-0.633597</td>\n",
       "      <td>0.115424</td>\n",
       "      <td>1.103370</td>\n",
       "    </tr>\n",
       "    <tr>\n",
       "      <th>17997</th>\n",
       "      <td>-1.174392</td>\n",
       "      <td>-1.111947</td>\n",
       "      <td>0.149591</td>\n",
       "      <td>-1.135680</td>\n",
       "      <td>-0.965432</td>\n",
       "      <td>-0.253632</td>\n",
       "      <td>-0.414841</td>\n",
       "      <td>0.657053</td>\n",
       "      <td>0.798527</td>\n",
       "      <td>0.529604</td>\n",
       "      <td>...</td>\n",
       "      <td>0.228064</td>\n",
       "      <td>-0.34604</td>\n",
       "      <td>-1.727080</td>\n",
       "      <td>-0.472637</td>\n",
       "      <td>-0.592002</td>\n",
       "      <td>-0.593582</td>\n",
       "      <td>1.105597</td>\n",
       "      <td>-2.800408</td>\n",
       "      <td>1.073792</td>\n",
       "      <td>0.646189</td>\n",
       "    </tr>\n",
       "    <tr>\n",
       "      <th>17998</th>\n",
       "      <td>0.851504</td>\n",
       "      <td>0.899323</td>\n",
       "      <td>0.149591</td>\n",
       "      <td>1.654254</td>\n",
       "      <td>-0.965432</td>\n",
       "      <td>-0.253632</td>\n",
       "      <td>-0.414841</td>\n",
       "      <td>0.657053</td>\n",
       "      <td>0.798527</td>\n",
       "      <td>-1.888202</td>\n",
       "      <td>...</td>\n",
       "      <td>0.228064</td>\n",
       "      <td>-0.34604</td>\n",
       "      <td>-0.812532</td>\n",
       "      <td>-0.472637</td>\n",
       "      <td>-0.592002</td>\n",
       "      <td>1.684686</td>\n",
       "      <td>-0.904488</td>\n",
       "      <td>0.449809</td>\n",
       "      <td>-0.842945</td>\n",
       "      <td>-0.725353</td>\n",
       "    </tr>\n",
       "    <tr>\n",
       "      <th>17999</th>\n",
       "      <td>0.851504</td>\n",
       "      <td>-1.111947</td>\n",
       "      <td>0.149591</td>\n",
       "      <td>-0.159203</td>\n",
       "      <td>-0.965432</td>\n",
       "      <td>-0.253632</td>\n",
       "      <td>-0.414841</td>\n",
       "      <td>0.657053</td>\n",
       "      <td>-1.252306</td>\n",
       "      <td>0.529604</td>\n",
       "      <td>...</td>\n",
       "      <td>0.228064</td>\n",
       "      <td>-0.34604</td>\n",
       "      <td>-0.812532</td>\n",
       "      <td>-0.472637</td>\n",
       "      <td>-0.592002</td>\n",
       "      <td>-0.593582</td>\n",
       "      <td>1.105597</td>\n",
       "      <td>0.088674</td>\n",
       "      <td>1.073792</td>\n",
       "      <td>0.646189</td>\n",
       "    </tr>\n",
       "    <tr>\n",
       "      <th>18000</th>\n",
       "      <td>0.851504</td>\n",
       "      <td>0.899323</td>\n",
       "      <td>0.149591</td>\n",
       "      <td>-0.438197</td>\n",
       "      <td>-0.965432</td>\n",
       "      <td>-0.253632</td>\n",
       "      <td>2.410564</td>\n",
       "      <td>-1.521947</td>\n",
       "      <td>-1.252306</td>\n",
       "      <td>0.529604</td>\n",
       "      <td>...</td>\n",
       "      <td>0.228064</td>\n",
       "      <td>-0.34604</td>\n",
       "      <td>0.102017</td>\n",
       "      <td>-0.472637</td>\n",
       "      <td>-0.592002</td>\n",
       "      <td>-0.593582</td>\n",
       "      <td>-0.904488</td>\n",
       "      <td>1.533215</td>\n",
       "      <td>0.115424</td>\n",
       "      <td>0.646189</td>\n",
       "    </tr>\n",
       "  </tbody>\n",
       "</table>\n",
       "<p>18001 rows × 21 columns</p>\n",
       "</div>"
      ],
      "text/plain": [
       "         HighBP  HighChol  CholCheck       BMI    Smoker    Stroke  \\\n",
       "0      0.851504  0.899323   0.149591  0.259287  1.035805 -0.253632   \n",
       "1      0.851504 -1.111947   0.149591  1.654254  1.035805 -0.253632   \n",
       "2      0.851504 -1.111947   0.149591  0.259287 -0.965432 -0.253632   \n",
       "3      0.851504  0.899323   0.149591  0.119790 -0.965432 -0.253632   \n",
       "4      0.851504 -1.111947  -6.684895  1.235763  1.035805 -0.253632   \n",
       "...         ...       ...        ...       ...       ...       ...   \n",
       "17996 -1.174392  0.899323   0.149591  1.096267  1.035805 -0.253632   \n",
       "17997 -1.174392 -1.111947   0.149591 -1.135680 -0.965432 -0.253632   \n",
       "17998  0.851504  0.899323   0.149591  1.654254 -0.965432 -0.253632   \n",
       "17999  0.851504 -1.111947   0.149591 -0.159203 -0.965432 -0.253632   \n",
       "18000  0.851504  0.899323   0.149591 -0.438197 -0.965432 -0.253632   \n",
       "\n",
       "       HeartDiseaseorAttack  PhysActivity    Fruits   Veggies  ...  \\\n",
       "0                  2.410564      0.657053  0.798527  0.529604  ...   \n",
       "1                 -0.414841     -1.521947 -1.252306  0.529604  ...   \n",
       "2                 -0.414841     -1.521947  0.798527  0.529604  ...   \n",
       "3                  2.410564      0.657053  0.798527 -1.888202  ...   \n",
       "4                 -0.414841     -1.521947 -1.252306  0.529604  ...   \n",
       "...                     ...           ...       ...       ...  ...   \n",
       "17996             -0.414841     -1.521947 -1.252306  0.529604  ...   \n",
       "17997             -0.414841      0.657053  0.798527  0.529604  ...   \n",
       "17998             -0.414841      0.657053  0.798527 -1.888202  ...   \n",
       "17999             -0.414841      0.657053 -1.252306  0.529604  ...   \n",
       "18000              2.410564     -1.521947 -1.252306  0.529604  ...   \n",
       "\n",
       "       AnyHealthcare  NoDocbcCost   GenHlth  MentHlth  PhysHlth  DiffWalk  \\\n",
       "0           0.228064     -0.34604  0.102017 -0.472637 -0.199818  1.684686   \n",
       "1           0.228064     -0.34604  0.102017  0.001977 -0.493956  1.684686   \n",
       "2           0.228064     -0.34604 -0.812532 -0.472637 -0.592002 -0.593582   \n",
       "3           0.228064     -0.34604  1.016566 -0.472637 -0.592002  1.684686   \n",
       "4           0.228064     -0.34604  1.016566 -0.472637 -0.592002  1.684686   \n",
       "...              ...          ...       ...       ...       ...       ...   \n",
       "17996       0.228064     -0.34604  1.016566  3.086970  2.349380 -0.593582   \n",
       "17997       0.228064     -0.34604 -1.727080 -0.472637 -0.592002 -0.593582   \n",
       "17998       0.228064     -0.34604 -0.812532 -0.472637 -0.592002  1.684686   \n",
       "17999       0.228064     -0.34604 -0.812532 -0.472637 -0.592002 -0.593582   \n",
       "18000       0.228064     -0.34604  0.102017 -0.472637 -0.592002 -0.593582   \n",
       "\n",
       "            Sex       Age  Education    Income  \n",
       "0     -0.904488  0.810944   0.115424 -0.268172  \n",
       "1     -0.904488  1.172080   0.115424 -0.268172  \n",
       "2      1.105597  0.449809   0.115424  0.189008  \n",
       "3      1.105597  1.172080   1.073792  1.103370  \n",
       "4      1.105597  1.172080  -0.842945  1.103370  \n",
       "...         ...       ...        ...       ...  \n",
       "17996 -0.904488 -0.633597   0.115424  1.103370  \n",
       "17997  1.105597 -2.800408   1.073792  0.646189  \n",
       "17998 -0.904488  0.449809  -0.842945 -0.725353  \n",
       "17999  1.105597  0.088674   1.073792  0.646189  \n",
       "18000 -0.904488  1.533215   0.115424  0.646189  \n",
       "\n",
       "[18001 rows x 21 columns]"
      ]
     },
     "execution_count": 218,
     "metadata": {},
     "output_type": "execute_result"
    }
   ],
   "source": [
    "scaler = StandardScaler()\n",
    "X_train = pd.DataFrame(scaler.fit_transform(X_train), columns=X_train.columns)\n",
    "X_train"
   ]
  },
  {
   "cell_type": "markdown",
   "id": "50b4775d",
   "metadata": {},
   "source": [
    "# sklearn kNN"
   ]
  },
  {
   "cell_type": "code",
   "execution_count": 322,
   "id": "2397af6f",
   "metadata": {},
   "outputs": [
    {
     "data": {
      "text/html": [
       "<style>#sk-container-id-23 {color: black;background-color: white;}#sk-container-id-23 pre{padding: 0;}#sk-container-id-23 div.sk-toggleable {background-color: white;}#sk-container-id-23 label.sk-toggleable__label {cursor: pointer;display: block;width: 100%;margin-bottom: 0;padding: 0.3em;box-sizing: border-box;text-align: center;}#sk-container-id-23 label.sk-toggleable__label-arrow:before {content: \"▸\";float: left;margin-right: 0.25em;color: #696969;}#sk-container-id-23 label.sk-toggleable__label-arrow:hover:before {color: black;}#sk-container-id-23 div.sk-estimator:hover label.sk-toggleable__label-arrow:before {color: black;}#sk-container-id-23 div.sk-toggleable__content {max-height: 0;max-width: 0;overflow: hidden;text-align: left;background-color: #f0f8ff;}#sk-container-id-23 div.sk-toggleable__content pre {margin: 0.2em;color: black;border-radius: 0.25em;background-color: #f0f8ff;}#sk-container-id-23 input.sk-toggleable__control:checked~div.sk-toggleable__content {max-height: 200px;max-width: 100%;overflow: auto;}#sk-container-id-23 input.sk-toggleable__control:checked~label.sk-toggleable__label-arrow:before {content: \"▾\";}#sk-container-id-23 div.sk-estimator input.sk-toggleable__control:checked~label.sk-toggleable__label {background-color: #d4ebff;}#sk-container-id-23 div.sk-label input.sk-toggleable__control:checked~label.sk-toggleable__label {background-color: #d4ebff;}#sk-container-id-23 input.sk-hidden--visually {border: 0;clip: rect(1px 1px 1px 1px);clip: rect(1px, 1px, 1px, 1px);height: 1px;margin: -1px;overflow: hidden;padding: 0;position: absolute;width: 1px;}#sk-container-id-23 div.sk-estimator {font-family: monospace;background-color: #f0f8ff;border: 1px dotted black;border-radius: 0.25em;box-sizing: border-box;margin-bottom: 0.5em;}#sk-container-id-23 div.sk-estimator:hover {background-color: #d4ebff;}#sk-container-id-23 div.sk-parallel-item::after {content: \"\";width: 100%;border-bottom: 1px solid gray;flex-grow: 1;}#sk-container-id-23 div.sk-label:hover label.sk-toggleable__label {background-color: #d4ebff;}#sk-container-id-23 div.sk-serial::before {content: \"\";position: absolute;border-left: 1px solid gray;box-sizing: border-box;top: 0;bottom: 0;left: 50%;z-index: 0;}#sk-container-id-23 div.sk-serial {display: flex;flex-direction: column;align-items: center;background-color: white;padding-right: 0.2em;padding-left: 0.2em;position: relative;}#sk-container-id-23 div.sk-item {position: relative;z-index: 1;}#sk-container-id-23 div.sk-parallel {display: flex;align-items: stretch;justify-content: center;background-color: white;position: relative;}#sk-container-id-23 div.sk-item::before, #sk-container-id-23 div.sk-parallel-item::before {content: \"\";position: absolute;border-left: 1px solid gray;box-sizing: border-box;top: 0;bottom: 0;left: 50%;z-index: -1;}#sk-container-id-23 div.sk-parallel-item {display: flex;flex-direction: column;z-index: 1;position: relative;background-color: white;}#sk-container-id-23 div.sk-parallel-item:first-child::after {align-self: flex-end;width: 50%;}#sk-container-id-23 div.sk-parallel-item:last-child::after {align-self: flex-start;width: 50%;}#sk-container-id-23 div.sk-parallel-item:only-child::after {width: 0;}#sk-container-id-23 div.sk-dashed-wrapped {border: 1px dashed gray;margin: 0 0.4em 0.5em 0.4em;box-sizing: border-box;padding-bottom: 0.4em;background-color: white;}#sk-container-id-23 div.sk-label label {font-family: monospace;font-weight: bold;display: inline-block;line-height: 1.2em;}#sk-container-id-23 div.sk-label-container {text-align: center;}#sk-container-id-23 div.sk-container {/* jupyter's `normalize.less` sets `[hidden] { display: none; }` but bootstrap.min.css set `[hidden] { display: none !important; }` so we also need the `!important` here to be able to override the default hidden behavior on the sphinx rendered scikit-learn.org. See: https://github.com/scikit-learn/scikit-learn/issues/21755 */display: inline-block !important;position: relative;}#sk-container-id-23 div.sk-text-repr-fallback {display: none;}</style><div id=\"sk-container-id-23\" class=\"sk-top-container\"><div class=\"sk-text-repr-fallback\"><pre>KNeighborsClassifier(n_neighbors=6)</pre><b>In a Jupyter environment, please rerun this cell to show the HTML representation or trust the notebook. <br />On GitHub, the HTML representation is unable to render, please try loading this page with nbviewer.org.</b></div><div class=\"sk-container\" hidden><div class=\"sk-item\"><div class=\"sk-estimator sk-toggleable\"><input class=\"sk-toggleable__control sk-hidden--visually\" id=\"sk-estimator-id-23\" type=\"checkbox\" checked><label for=\"sk-estimator-id-23\" class=\"sk-toggleable__label sk-toggleable__label-arrow\">KNeighborsClassifier</label><div class=\"sk-toggleable__content\"><pre>KNeighborsClassifier(n_neighbors=6)</pre></div></div></div></div></div>"
      ],
      "text/plain": [
       "KNeighborsClassifier(n_neighbors=6)"
      ]
     },
     "execution_count": 322,
     "metadata": {},
     "output_type": "execute_result"
    }
   ],
   "source": [
    "from sklearn.neighbors import KNeighborsClassifier\n",
    "\n",
    "knn = KNeighborsClassifier(n_neighbors=6, metric='minkowski', p=2)\n",
    "\n",
    "knn.fit(X_train, y_train)"
   ]
  },
  {
   "cell_type": "code",
   "execution_count": 323,
   "id": "75c21e04",
   "metadata": {},
   "outputs": [],
   "source": [
    "y_knn_pred = knn.predict(X_test)"
   ]
  },
  {
   "cell_type": "code",
   "execution_count": 324,
   "id": "c0bb850f",
   "metadata": {},
   "outputs": [
    {
     "data": {
      "text/plain": [
       "0.3731940431206935"
      ]
     },
     "execution_count": 324,
     "metadata": {},
     "output_type": "execute_result"
    }
   ],
   "source": [
    "from sklearn.metrics import accuracy_score\n",
    "\n",
    "accuracy_score(y_test, y_knn_pred)"
   ]
  },
  {
   "cell_type": "code",
   "execution_count": 245,
   "id": "1498225b",
   "metadata": {},
   "outputs": [
    {
     "data": {
      "text/plain": [
       "array([[1230,   38,  208],\n",
       "       [1136,   20,  369],\n",
       "       [1052,   17,  429]], dtype=int64)"
      ]
     },
     "execution_count": 245,
     "metadata": {},
     "output_type": "execute_result"
    }
   ],
   "source": [
    "from sklearn.metrics import confusion_matrix\n",
    "\n",
    "confusion_matrix(y_test, y_knn_pred)"
   ]
  },
  {
   "cell_type": "code",
   "execution_count": 246,
   "id": "7f2bdf45",
   "metadata": {},
   "outputs": [
    {
     "name": "stdout",
     "output_type": "stream",
     "text": [
      "              precision    recall  f1-score   support\n",
      "\n",
      "         0.0       0.36      0.83      0.50      1476\n",
      "         1.0       0.27      0.01      0.03      1525\n",
      "         2.0       0.43      0.29      0.34      1498\n",
      "\n",
      "    accuracy                           0.37      4499\n",
      "   macro avg       0.35      0.38      0.29      4499\n",
      "weighted avg       0.35      0.37      0.29      4499\n",
      "\n"
     ]
    }
   ],
   "source": [
    "from sklearn.metrics import classification_report\n",
    "\n",
    "\n",
    "print(classification_report(y_test, y_knn_pred))"
   ]
  },
  {
   "cell_type": "code",
   "execution_count": 11,
   "id": "d8fa1e3d",
   "metadata": {},
   "outputs": [
    {
     "ename": "NameError",
     "evalue": "name 'y_test' is not defined",
     "output_type": "error",
     "traceback": [
      "\u001b[1;31m---------------------------------------------------------------------------\u001b[0m",
      "\u001b[1;31mNameError\u001b[0m                                 Traceback (most recent call last)",
      "Cell \u001b[1;32mIn[11], line 4\u001b[0m\n\u001b[0;32m      1\u001b[0m \u001b[38;5;28;01mimport\u001b[39;00m \u001b[38;5;21;01mmatplotlib\u001b[39;00m\u001b[38;5;21;01m.\u001b[39;00m\u001b[38;5;21;01mpyplot\u001b[39;00m \u001b[38;5;28;01mas\u001b[39;00m \u001b[38;5;21;01mplt\u001b[39;00m\n\u001b[0;32m      2\u001b[0m \u001b[38;5;28;01mfrom\u001b[39;00m \u001b[38;5;21;01msklearn\u001b[39;00m\u001b[38;5;21;01m.\u001b[39;00m\u001b[38;5;21;01mmetrics\u001b[39;00m \u001b[38;5;28;01mimport\u001b[39;00m roc_auc_score\n\u001b[1;32m----> 4\u001b[0m roc_auc_score(\u001b[43my_test\u001b[49m, knn\u001b[38;5;241m.\u001b[39mpredict_proba(X_test), multi_class\u001b[38;5;241m=\u001b[39m\u001b[38;5;124m'\u001b[39m\u001b[38;5;124movo\u001b[39m\u001b[38;5;124m'\u001b[39m)\n",
      "\u001b[1;31mNameError\u001b[0m: name 'y_test' is not defined"
     ]
    }
   ],
   "source": [
    "import matplotlib.pyplot as plt\n",
    "from sklearn.metrics import roc_auc_score\n",
    "\n",
    "roc_auc_score(y_test, knn.predict_proba(X_test), multi_class='ovo')"
   ]
  },
  {
   "cell_type": "markdown",
   "id": "36e0ba7b",
   "metadata": {},
   "source": [
    "# sklearn NB"
   ]
  },
  {
   "cell_type": "code",
   "execution_count": 287,
   "id": "029f7fbf",
   "metadata": {},
   "outputs": [
    {
     "data": {
      "text/html": [
       "<style>#sk-container-id-22 {color: black;background-color: white;}#sk-container-id-22 pre{padding: 0;}#sk-container-id-22 div.sk-toggleable {background-color: white;}#sk-container-id-22 label.sk-toggleable__label {cursor: pointer;display: block;width: 100%;margin-bottom: 0;padding: 0.3em;box-sizing: border-box;text-align: center;}#sk-container-id-22 label.sk-toggleable__label-arrow:before {content: \"▸\";float: left;margin-right: 0.25em;color: #696969;}#sk-container-id-22 label.sk-toggleable__label-arrow:hover:before {color: black;}#sk-container-id-22 div.sk-estimator:hover label.sk-toggleable__label-arrow:before {color: black;}#sk-container-id-22 div.sk-toggleable__content {max-height: 0;max-width: 0;overflow: hidden;text-align: left;background-color: #f0f8ff;}#sk-container-id-22 div.sk-toggleable__content pre {margin: 0.2em;color: black;border-radius: 0.25em;background-color: #f0f8ff;}#sk-container-id-22 input.sk-toggleable__control:checked~div.sk-toggleable__content {max-height: 200px;max-width: 100%;overflow: auto;}#sk-container-id-22 input.sk-toggleable__control:checked~label.sk-toggleable__label-arrow:before {content: \"▾\";}#sk-container-id-22 div.sk-estimator input.sk-toggleable__control:checked~label.sk-toggleable__label {background-color: #d4ebff;}#sk-container-id-22 div.sk-label input.sk-toggleable__control:checked~label.sk-toggleable__label {background-color: #d4ebff;}#sk-container-id-22 input.sk-hidden--visually {border: 0;clip: rect(1px 1px 1px 1px);clip: rect(1px, 1px, 1px, 1px);height: 1px;margin: -1px;overflow: hidden;padding: 0;position: absolute;width: 1px;}#sk-container-id-22 div.sk-estimator {font-family: monospace;background-color: #f0f8ff;border: 1px dotted black;border-radius: 0.25em;box-sizing: border-box;margin-bottom: 0.5em;}#sk-container-id-22 div.sk-estimator:hover {background-color: #d4ebff;}#sk-container-id-22 div.sk-parallel-item::after {content: \"\";width: 100%;border-bottom: 1px solid gray;flex-grow: 1;}#sk-container-id-22 div.sk-label:hover label.sk-toggleable__label {background-color: #d4ebff;}#sk-container-id-22 div.sk-serial::before {content: \"\";position: absolute;border-left: 1px solid gray;box-sizing: border-box;top: 0;bottom: 0;left: 50%;z-index: 0;}#sk-container-id-22 div.sk-serial {display: flex;flex-direction: column;align-items: center;background-color: white;padding-right: 0.2em;padding-left: 0.2em;position: relative;}#sk-container-id-22 div.sk-item {position: relative;z-index: 1;}#sk-container-id-22 div.sk-parallel {display: flex;align-items: stretch;justify-content: center;background-color: white;position: relative;}#sk-container-id-22 div.sk-item::before, #sk-container-id-22 div.sk-parallel-item::before {content: \"\";position: absolute;border-left: 1px solid gray;box-sizing: border-box;top: 0;bottom: 0;left: 50%;z-index: -1;}#sk-container-id-22 div.sk-parallel-item {display: flex;flex-direction: column;z-index: 1;position: relative;background-color: white;}#sk-container-id-22 div.sk-parallel-item:first-child::after {align-self: flex-end;width: 50%;}#sk-container-id-22 div.sk-parallel-item:last-child::after {align-self: flex-start;width: 50%;}#sk-container-id-22 div.sk-parallel-item:only-child::after {width: 0;}#sk-container-id-22 div.sk-dashed-wrapped {border: 1px dashed gray;margin: 0 0.4em 0.5em 0.4em;box-sizing: border-box;padding-bottom: 0.4em;background-color: white;}#sk-container-id-22 div.sk-label label {font-family: monospace;font-weight: bold;display: inline-block;line-height: 1.2em;}#sk-container-id-22 div.sk-label-container {text-align: center;}#sk-container-id-22 div.sk-container {/* jupyter's `normalize.less` sets `[hidden] { display: none; }` but bootstrap.min.css set `[hidden] { display: none !important; }` so we also need the `!important` here to be able to override the default hidden behavior on the sphinx rendered scikit-learn.org. See: https://github.com/scikit-learn/scikit-learn/issues/21755 */display: inline-block !important;position: relative;}#sk-container-id-22 div.sk-text-repr-fallback {display: none;}</style><div id=\"sk-container-id-22\" class=\"sk-top-container\"><div class=\"sk-text-repr-fallback\"><pre>GaussianNB()</pre><b>In a Jupyter environment, please rerun this cell to show the HTML representation or trust the notebook. <br />On GitHub, the HTML representation is unable to render, please try loading this page with nbviewer.org.</b></div><div class=\"sk-container\" hidden><div class=\"sk-item\"><div class=\"sk-estimator sk-toggleable\"><input class=\"sk-toggleable__control sk-hidden--visually\" id=\"sk-estimator-id-22\" type=\"checkbox\" checked><label for=\"sk-estimator-id-22\" class=\"sk-toggleable__label sk-toggleable__label-arrow\">GaussianNB</label><div class=\"sk-toggleable__content\"><pre>GaussianNB()</pre></div></div></div></div></div>"
      ],
      "text/plain": [
       "GaussianNB()"
      ]
     },
     "execution_count": 287,
     "metadata": {},
     "output_type": "execute_result"
    }
   ],
   "source": [
    "from sklearn.naive_bayes import GaussianNB\n",
    "\n",
    "gnb = GaussianNB()\n",
    "gnb.fit(X_train, y_train)"
   ]
  },
  {
   "cell_type": "code",
   "execution_count": 288,
   "id": "ac09eff6",
   "metadata": {},
   "outputs": [],
   "source": [
    "y_gnb_pred = gnb.predict(X_test)"
   ]
  },
  {
   "cell_type": "code",
   "execution_count": 250,
   "id": "9e802c10",
   "metadata": {},
   "outputs": [
    {
     "data": {
      "text/plain": [
       "0.33251833740831294"
      ]
     },
     "execution_count": 250,
     "metadata": {},
     "output_type": "execute_result"
    }
   ],
   "source": [
    "accuracy_score(y_test, y_gnb_pred)"
   ]
  },
  {
   "cell_type": "code",
   "execution_count": 251,
   "id": "4141344a",
   "metadata": {},
   "outputs": [
    {
     "data": {
      "text/plain": [
       "array([[   0,    1, 1475],\n",
       "       [   0,    0, 1525],\n",
       "       [   0,    2, 1496]], dtype=int64)"
      ]
     },
     "execution_count": 251,
     "metadata": {},
     "output_type": "execute_result"
    }
   ],
   "source": [
    "confusion_matrix(y_test, y_gnb_pred)"
   ]
  },
  {
   "cell_type": "code",
   "execution_count": 252,
   "id": "a6e156a6",
   "metadata": {},
   "outputs": [
    {
     "name": "stdout",
     "output_type": "stream",
     "text": [
      "              precision    recall  f1-score   support\n",
      "\n",
      "         0.0       0.00      0.00      0.00      1476\n",
      "         1.0       0.00      0.00      0.00      1525\n",
      "         2.0       0.33      1.00      0.50      1498\n",
      "\n",
      "    accuracy                           0.33      4499\n",
      "   macro avg       0.11      0.33      0.17      4499\n",
      "weighted avg       0.11      0.33      0.17      4499\n",
      "\n"
     ]
    },
    {
     "name": "stderr",
     "output_type": "stream",
     "text": [
      "C:\\Users\\Егор\\Desktop\\programming\\ML\\lab1\\venv\\lib\\site-packages\\sklearn\\metrics\\_classification.py:1344: UndefinedMetricWarning: Precision and F-score are ill-defined and being set to 0.0 in labels with no predicted samples. Use `zero_division` parameter to control this behavior.\n",
      "  _warn_prf(average, modifier, msg_start, len(result))\n",
      "C:\\Users\\Егор\\Desktop\\programming\\ML\\lab1\\venv\\lib\\site-packages\\sklearn\\metrics\\_classification.py:1344: UndefinedMetricWarning: Precision and F-score are ill-defined and being set to 0.0 in labels with no predicted samples. Use `zero_division` parameter to control this behavior.\n",
      "  _warn_prf(average, modifier, msg_start, len(result))\n",
      "C:\\Users\\Егор\\Desktop\\programming\\ML\\lab1\\venv\\lib\\site-packages\\sklearn\\metrics\\_classification.py:1344: UndefinedMetricWarning: Precision and F-score are ill-defined and being set to 0.0 in labels with no predicted samples. Use `zero_division` parameter to control this behavior.\n",
      "  _warn_prf(average, modifier, msg_start, len(result))\n"
     ]
    }
   ],
   "source": [
    "print(classification_report(y_test, y_gnb_pred))"
   ]
  },
  {
   "cell_type": "code",
   "execution_count": 253,
   "id": "4e555a3a",
   "metadata": {},
   "outputs": [
    {
     "data": {
      "text/plain": [
       "0.5502072076771823"
      ]
     },
     "execution_count": 253,
     "metadata": {},
     "output_type": "execute_result"
    }
   ],
   "source": [
    "roc_auc_score(y_test, gnb.predict_proba(X_test), multi_class='ovo')"
   ]
  },
  {
   "cell_type": "markdown",
   "id": "a1b26ef4",
   "metadata": {},
   "source": [
    "# sklearn LR"
   ]
  },
  {
   "cell_type": "code",
   "execution_count": 192,
   "id": "884f3021",
   "metadata": {},
   "outputs": [
    {
     "data": {
      "text/html": [
       "<style>#sk-container-id-15 {color: black;background-color: white;}#sk-container-id-15 pre{padding: 0;}#sk-container-id-15 div.sk-toggleable {background-color: white;}#sk-container-id-15 label.sk-toggleable__label {cursor: pointer;display: block;width: 100%;margin-bottom: 0;padding: 0.3em;box-sizing: border-box;text-align: center;}#sk-container-id-15 label.sk-toggleable__label-arrow:before {content: \"▸\";float: left;margin-right: 0.25em;color: #696969;}#sk-container-id-15 label.sk-toggleable__label-arrow:hover:before {color: black;}#sk-container-id-15 div.sk-estimator:hover label.sk-toggleable__label-arrow:before {color: black;}#sk-container-id-15 div.sk-toggleable__content {max-height: 0;max-width: 0;overflow: hidden;text-align: left;background-color: #f0f8ff;}#sk-container-id-15 div.sk-toggleable__content pre {margin: 0.2em;color: black;border-radius: 0.25em;background-color: #f0f8ff;}#sk-container-id-15 input.sk-toggleable__control:checked~div.sk-toggleable__content {max-height: 200px;max-width: 100%;overflow: auto;}#sk-container-id-15 input.sk-toggleable__control:checked~label.sk-toggleable__label-arrow:before {content: \"▾\";}#sk-container-id-15 div.sk-estimator input.sk-toggleable__control:checked~label.sk-toggleable__label {background-color: #d4ebff;}#sk-container-id-15 div.sk-label input.sk-toggleable__control:checked~label.sk-toggleable__label {background-color: #d4ebff;}#sk-container-id-15 input.sk-hidden--visually {border: 0;clip: rect(1px 1px 1px 1px);clip: rect(1px, 1px, 1px, 1px);height: 1px;margin: -1px;overflow: hidden;padding: 0;position: absolute;width: 1px;}#sk-container-id-15 div.sk-estimator {font-family: monospace;background-color: #f0f8ff;border: 1px dotted black;border-radius: 0.25em;box-sizing: border-box;margin-bottom: 0.5em;}#sk-container-id-15 div.sk-estimator:hover {background-color: #d4ebff;}#sk-container-id-15 div.sk-parallel-item::after {content: \"\";width: 100%;border-bottom: 1px solid gray;flex-grow: 1;}#sk-container-id-15 div.sk-label:hover label.sk-toggleable__label {background-color: #d4ebff;}#sk-container-id-15 div.sk-serial::before {content: \"\";position: absolute;border-left: 1px solid gray;box-sizing: border-box;top: 0;bottom: 0;left: 50%;z-index: 0;}#sk-container-id-15 div.sk-serial {display: flex;flex-direction: column;align-items: center;background-color: white;padding-right: 0.2em;padding-left: 0.2em;position: relative;}#sk-container-id-15 div.sk-item {position: relative;z-index: 1;}#sk-container-id-15 div.sk-parallel {display: flex;align-items: stretch;justify-content: center;background-color: white;position: relative;}#sk-container-id-15 div.sk-item::before, #sk-container-id-15 div.sk-parallel-item::before {content: \"\";position: absolute;border-left: 1px solid gray;box-sizing: border-box;top: 0;bottom: 0;left: 50%;z-index: -1;}#sk-container-id-15 div.sk-parallel-item {display: flex;flex-direction: column;z-index: 1;position: relative;background-color: white;}#sk-container-id-15 div.sk-parallel-item:first-child::after {align-self: flex-end;width: 50%;}#sk-container-id-15 div.sk-parallel-item:last-child::after {align-self: flex-start;width: 50%;}#sk-container-id-15 div.sk-parallel-item:only-child::after {width: 0;}#sk-container-id-15 div.sk-dashed-wrapped {border: 1px dashed gray;margin: 0 0.4em 0.5em 0.4em;box-sizing: border-box;padding-bottom: 0.4em;background-color: white;}#sk-container-id-15 div.sk-label label {font-family: monospace;font-weight: bold;display: inline-block;line-height: 1.2em;}#sk-container-id-15 div.sk-label-container {text-align: center;}#sk-container-id-15 div.sk-container {/* jupyter's `normalize.less` sets `[hidden] { display: none; }` but bootstrap.min.css set `[hidden] { display: none !important; }` so we also need the `!important` here to be able to override the default hidden behavior on the sphinx rendered scikit-learn.org. See: https://github.com/scikit-learn/scikit-learn/issues/21755 */display: inline-block !important;position: relative;}#sk-container-id-15 div.sk-text-repr-fallback {display: none;}</style><div id=\"sk-container-id-15\" class=\"sk-top-container\"><div class=\"sk-text-repr-fallback\"><pre>LogisticRegression(solver=&#x27;liblinear&#x27;)</pre><b>In a Jupyter environment, please rerun this cell to show the HTML representation or trust the notebook. <br />On GitHub, the HTML representation is unable to render, please try loading this page with nbviewer.org.</b></div><div class=\"sk-container\" hidden><div class=\"sk-item\"><div class=\"sk-estimator sk-toggleable\"><input class=\"sk-toggleable__control sk-hidden--visually\" id=\"sk-estimator-id-15\" type=\"checkbox\" checked><label for=\"sk-estimator-id-15\" class=\"sk-toggleable__label sk-toggleable__label-arrow\">LogisticRegression</label><div class=\"sk-toggleable__content\"><pre>LogisticRegression(solver=&#x27;liblinear&#x27;)</pre></div></div></div></div></div>"
      ],
      "text/plain": [
       "LogisticRegression(solver='liblinear')"
      ]
     },
     "execution_count": 192,
     "metadata": {},
     "output_type": "execute_result"
    }
   ],
   "source": [
    "from sklearn.linear_model import LogisticRegression\n",
    "\n",
    "lr = LogisticRegression(solver='liblinear')\n",
    "lr.fit(X_train, y_train)"
   ]
  },
  {
   "cell_type": "code",
   "execution_count": 193,
   "id": "d630ab20",
   "metadata": {},
   "outputs": [],
   "source": [
    "y_lr_pred = lr.predict(X_test)"
   ]
  },
  {
   "cell_type": "code",
   "execution_count": 194,
   "id": "49216069",
   "metadata": {},
   "outputs": [
    {
     "data": {
      "text/plain": [
       "0.32888814802467076"
      ]
     },
     "execution_count": 194,
     "metadata": {},
     "output_type": "execute_result"
    }
   ],
   "source": [
    "accuracy_score(y_test, y_lr_pred)"
   ]
  },
  {
   "cell_type": "code",
   "execution_count": 195,
   "id": "c4ffbe68",
   "metadata": {},
   "outputs": [
    {
     "data": {
      "text/plain": [
       "array([[   0,    0, 2032],\n",
       "       [   0,    0, 1994],\n",
       "       [   0,    0, 1973]], dtype=int64)"
      ]
     },
     "execution_count": 195,
     "metadata": {},
     "output_type": "execute_result"
    }
   ],
   "source": [
    "confusion_matrix(y_test, y_lr_pred)"
   ]
  },
  {
   "cell_type": "code",
   "execution_count": 196,
   "id": "1a8db270",
   "metadata": {},
   "outputs": [
    {
     "name": "stdout",
     "output_type": "stream",
     "text": [
      "              precision    recall  f1-score   support\n",
      "\n",
      "         0.0       0.00      0.00      0.00      2032\n",
      "         1.0       0.00      0.00      0.00      1994\n",
      "         2.0       0.33      1.00      0.49      1973\n",
      "\n",
      "    accuracy                           0.33      5999\n",
      "   macro avg       0.11      0.33      0.16      5999\n",
      "weighted avg       0.11      0.33      0.16      5999\n",
      "\n"
     ]
    },
    {
     "name": "stderr",
     "output_type": "stream",
     "text": [
      "C:\\Users\\Егор\\Desktop\\programming\\ML\\lab1\\venv\\lib\\site-packages\\sklearn\\metrics\\_classification.py:1344: UndefinedMetricWarning: Precision and F-score are ill-defined and being set to 0.0 in labels with no predicted samples. Use `zero_division` parameter to control this behavior.\n",
      "  _warn_prf(average, modifier, msg_start, len(result))\n",
      "C:\\Users\\Егор\\Desktop\\programming\\ML\\lab1\\venv\\lib\\site-packages\\sklearn\\metrics\\_classification.py:1344: UndefinedMetricWarning: Precision and F-score are ill-defined and being set to 0.0 in labels with no predicted samples. Use `zero_division` parameter to control this behavior.\n",
      "  _warn_prf(average, modifier, msg_start, len(result))\n",
      "C:\\Users\\Егор\\Desktop\\programming\\ML\\lab1\\venv\\lib\\site-packages\\sklearn\\metrics\\_classification.py:1344: UndefinedMetricWarning: Precision and F-score are ill-defined and being set to 0.0 in labels with no predicted samples. Use `zero_division` parameter to control this behavior.\n",
      "  _warn_prf(average, modifier, msg_start, len(result))\n"
     ]
    }
   ],
   "source": [
    "print(classification_report(y_test, y_lr_pred))"
   ]
  },
  {
   "cell_type": "code",
   "execution_count": 197,
   "id": "c8a4f281",
   "metadata": {},
   "outputs": [
    {
     "data": {
      "text/plain": [
       "0.5602544696680752"
      ]
     },
     "execution_count": 197,
     "metadata": {},
     "output_type": "execute_result"
    }
   ],
   "source": [
    "roc_auc_score(y_test, lr.predict_proba(X_test), multi_class='ovo')"
   ]
  },
  {
   "cell_type": "markdown",
   "id": "e4098f35",
   "metadata": {},
   "source": [
    "# Задание 3"
   ]
  },
  {
   "cell_type": "markdown",
   "id": "c6deae6f",
   "metadata": {},
   "source": [
    "## Accuracy"
   ]
  },
  {
   "cell_type": "code",
   "execution_count": 198,
   "id": "474a5c04",
   "metadata": {},
   "outputs": [
    {
     "data": {
      "text/plain": [
       "0.3802300383397233"
      ]
     },
     "execution_count": 198,
     "metadata": {},
     "output_type": "execute_result"
    }
   ],
   "source": [
    "def accuracy(y_test, y_pred):\n",
    "    if y_test.shape != y_pred.shape:\n",
    "        return\n",
    "    y_test = list(y_test)\n",
    "    y_pred = list(y_pred)\n",
    "    return sum([ y_test[i] == y_pred[i] for i in range(len(y_test))]) / len(y_test)\n",
    "\n",
    "accuracy(y_test, y_knn_pred)"
   ]
  },
  {
   "cell_type": "markdown",
   "id": "d9242317",
   "metadata": {},
   "source": [
    "## Precision"
   ]
  },
  {
   "cell_type": "code",
   "execution_count": 199,
   "id": "f519a2ed",
   "metadata": {},
   "outputs": [
    {
     "data": {
      "text/plain": [
       "{0.0: 0, 1.0: 0.0, 2.0: 0.33}"
      ]
     },
     "execution_count": 199,
     "metadata": {},
     "output_type": "execute_result"
    }
   ],
   "source": [
    "def precision(y_test, y_pred):\n",
    "    if y_test.shape != y_pred.shape:\n",
    "        return\n",
    "    y_test = list(y_test)\n",
    "    y_pred = list(y_pred)\n",
    "    \n",
    "    preds = {\n",
    "        \n",
    "    }\n",
    "    \n",
    "    result = {\n",
    "        \n",
    "    }\n",
    "    \n",
    "    for i in set(y_test):\n",
    "        pred_right = sum([y_test[j] == y_pred[j] and y_test[j] == i for j in range(len(y_test))])\n",
    "        pred_total = sum([y_pred[j] == i for j in range(len(y_test))])\n",
    "        preds[i] = pred_right, pred_total\n",
    "        \n",
    "    for i in set(y_test):\n",
    "        result[i] = round(preds[i][0] / preds[i][1] if preds[i][1] else 0, 2)\n",
    "        \n",
    "    return result\n",
    "\n",
    "precision(y_test, y_gnb_pred)\n"
   ]
  },
  {
   "cell_type": "markdown",
   "id": "af9326cf",
   "metadata": {},
   "source": [
    "## Recall"
   ]
  },
  {
   "cell_type": "code",
   "execution_count": 200,
   "id": "b73bb4cd",
   "metadata": {},
   "outputs": [
    {
     "data": {
      "text/plain": [
       "{0.0: 0.76, 1.0: 0.2, 2.0: 0.17}"
      ]
     },
     "execution_count": 200,
     "metadata": {},
     "output_type": "execute_result"
    }
   ],
   "source": [
    "def recall(y_test, y_pred):\n",
    "    if y_test.shape != y_pred.shape:\n",
    "        return\n",
    "    y_test = list(y_test)\n",
    "    y_pred = list(y_pred)\n",
    "    \n",
    "    preds = {\n",
    "        \n",
    "    }\n",
    "    \n",
    "    actual = {\n",
    "        \n",
    "    }\n",
    "    \n",
    "    result = {\n",
    "        \n",
    "    }\n",
    "    \n",
    "    for i in set(y_test):\n",
    "        pred_right = sum([y_test[j] == y_pred[j] and y_test[j] == i for j in range(len(y_test))])\n",
    "        pred_total = sum([y_pred[j] == i for j in range(len(y_test))])\n",
    "        actual = sum([y_test[j] == i for j in range(len(y_test))])\n",
    "\n",
    "        preds[i] = pred_right, pred_total, actual\n",
    "    \n",
    "    for i in set(y_test):\n",
    "        result[i] = round(preds[i][0] / (preds[i][2]), 2)\n",
    "        \n",
    "    return result\n",
    "    \n",
    "recall(y_test, y_knn_pred)"
   ]
  },
  {
   "cell_type": "code",
   "execution_count": 223,
   "id": "20b1cd5a",
   "metadata": {},
   "outputs": [
    {
     "data": {
      "text/plain": [
       "{0.0: 0.52, 1.0: 0.19, 2.0: 0.36}"
      ]
     },
     "execution_count": 223,
     "metadata": {},
     "output_type": "execute_result"
    }
   ],
   "source": [
    "def F1(y_test, y_pred):\n",
    "    result = {}\n",
    "    for i in set(list(y_test)):\n",
    "        if precision(y_test, y_pred)[i] + recall(y_test, y_pred)[i] == 0:\n",
    "            result[i] = 0\n",
    "            continue\n",
    "        result[i] = round((2 * precision(y_test, y_pred)[i] * recall(y_test, y_pred)[i]) / (precision(y_test, y_pred)[i] + recall(y_test, y_pred)[i]), 2)\n",
    "        \n",
    "    return result\n",
    "        \n",
    "F1(y_test, y_knn_pred)"
   ]
  },
  {
   "cell_type": "markdown",
   "id": "d72b05ed",
   "metadata": {},
   "source": [
    "# kNN"
   ]
  },
  {
   "cell_type": "code",
   "execution_count": 284,
   "id": "312fa5f0",
   "metadata": {},
   "outputs": [],
   "source": [
    "def dist(point, points):\n",
    "    return np.sqrt(np.sum((point - points)**2, axis=1))\n",
    "\n",
    "class KNearNeighbors():\n",
    "    def __init__(self, k=5):\n",
    "        self.k = k\n",
    "        self.dist = dist\n",
    "        \n",
    "    def fit(self, X_train, y_train):\n",
    "        self.X_train = X_train\n",
    "        self.y_train = y_train\n",
    "        \n",
    "    def predict(self, X):\n",
    "        \n",
    "        neighbors = []\n",
    "        \n",
    "        for i in X.to_numpy():\n",
    "            distances = self.dist(i, self.X_train)\n",
    "            dists_sorted = [j[1] for j in sorted(zip(distances, self.y_train))]\n",
    "            neighbors.append(dists_sorted[:self.k])\n",
    "            \n",
    "        result = []\n",
    "        \n",
    "        for n in neighbors:\n",
    "            result.append(max([(i, n.count(i)) for i in n], key=lambda x: x[1])[0])\n",
    "            \n",
    "        return result\n",
    "            \n",
    "    def score(self, y_pred, y_test):\n",
    "        accuracy = sum([y_pred[i] == list(y_test)[i] for i in range(len(y_pred))]) / len(y_test)\n",
    "        return accuracy"
   ]
  },
  {
   "cell_type": "code",
   "execution_count": 285,
   "id": "60198ca1",
   "metadata": {},
   "outputs": [],
   "source": [
    "knn1 = KNearNeighbors()\n",
    "knn1.fit(X_train, y_train)\n",
    "\n",
    "y_knn1_pred = knn1.predict(X_test)"
   ]
  },
  {
   "cell_type": "code",
   "execution_count": 286,
   "id": "a36a4fff",
   "metadata": {},
   "outputs": [
    {
     "data": {
      "text/plain": [
       "0.3769726605912425"
      ]
     },
     "execution_count": 286,
     "metadata": {},
     "output_type": "execute_result"
    }
   ],
   "source": [
    "score(y_knn1_pred, y_test)"
   ]
  },
  {
   "cell_type": "markdown",
   "id": "56c1ccba",
   "metadata": {},
   "source": [
    "# NB"
   ]
  },
  {
   "cell_type": "code",
   "execution_count": 546,
   "id": "62d82aaa",
   "metadata": {},
   "outputs": [],
   "source": [
    "class Bayes():\n",
    "#     def __init__(self):\n",
    "#         pass\n",
    "    \n",
    "    def fit(self, X_train, y_train):\n",
    "        self.X_train = X_train\n",
    "        self.y_train = y_train\n",
    "        \n",
    "        self.features = list(X_train.columns)\n",
    "        self.classes = set(y_train.unique())\n",
    "        \n",
    "        self.Py = {}\n",
    "    \n",
    "        for cl in self.classes:\n",
    "            self.Py[cl] = sum(y_train.to_numpy()[i] == cl for i in range(len(y_train))) / len(y_train)\n",
    "        \n",
    "        \n",
    "    def predict(self, X_test):\n",
    "        \n",
    "        print(list(y_test)[:25])\n",
    "        \n",
    "        result = []\n",
    "        \n",
    "        for el in X_test.to_numpy():\n",
    "            probs = []\n",
    "            for cl in self.classes:\n",
    "                Pxy = self.Py[cl]\n",
    "                \n",
    "                for feature in self.features:\n",
    "                    Pxy *= sum(y_train.to_numpy()[i] == float(cl) and (X_train.iloc[i][feature] - el[self.features.index(feature)])**2 < 1 for i in range(len(y_train)))\n",
    "                Px = sum((X_train.iloc[i][feature] - el[self.features.index(feature)])**2 < 1 for i in range(len(X_train)))\n",
    "                \n",
    "#                 print([(y_train.to_numpy()[i] == float(cl), ((X_train.iloc[i][feature] - el[self.features.index(feature)]))**2 < 4) for i in range(100)])\n",
    "                \n",
    "#                 print([(X_train.iloc[i][feature] - el[self.features.index(feature)])**2  for i in range(100)])\n",
    "                \n",
    "                probs.append((cl, (Pxy / Px) if Px else 0))\n",
    "                print((cl, (Pxy / Px) if Px else 0))\n",
    "                \n",
    "            result.append(max(probs, key=lambda x: x[1])[0])\n",
    "            print(probs)\n",
    "            \n",
    "                \n",
    "        return result\n",
    "            \n",
    "                \n",
    "            \n",
    "    \n",
    "    def score(self):\n",
    "        pass\n",
    "    \n"
   ]
  },
  {
   "cell_type": "code",
   "execution_count": 547,
   "id": "cec34097",
   "metadata": {},
   "outputs": [],
   "source": [
    "NB = Bayes()"
   ]
  },
  {
   "cell_type": "code",
   "execution_count": 548,
   "id": "42ba3075",
   "metadata": {},
   "outputs": [],
   "source": [
    "NB.fit(X_train, y_train)"
   ]
  },
  {
   "cell_type": "code",
   "execution_count": 549,
   "id": "97c9bc5a",
   "metadata": {},
   "outputs": [
    {
     "name": "stdout",
     "output_type": "stream",
     "text": [
      "[2.0, 0.0, 0.0, 2.0, 2.0, 1.0, 1.0, 2.0, 1.0, 0.0, 1.0, 1.0, 1.0, 2.0, 2.0, 0.0, 2.0, 2.0, 1.0, 0.0, 0.0, 0.0, 2.0, 0.0, 0.0]\n",
      "(0.0, 0)\n",
      "(1.0, 0)\n",
      "(2.0, 0)\n",
      "[(0.0, 0), (1.0, 0), (2.0, 0)]\n",
      "(0.0, 0)\n",
      "(1.0, 0)\n",
      "(2.0, 0)\n",
      "[(0.0, 0), (1.0, 0), (2.0, 0)]\n",
      "(0.0, 0)\n",
      "(1.0, 0)\n",
      "(2.0, 0)\n",
      "[(0.0, 0), (1.0, 0), (2.0, 0)]\n",
      "(0.0, 0)\n",
      "(1.0, 0)\n",
      "(2.0, 0)\n",
      "[(0.0, 0), (1.0, 0), (2.0, 0)]\n",
      "(0.0, 0)\n",
      "(1.0, 0)\n",
      "(2.0, 0)\n",
      "[(0.0, 0), (1.0, 0), (2.0, 0)]\n",
      "(0.0, 0)\n",
      "(1.0, 0)\n",
      "(2.0, 0)\n",
      "[(0.0, 0), (1.0, 0), (2.0, 0)]\n",
      "(0.0, 0)\n",
      "(1.0, 0)\n",
      "(2.0, 0)\n",
      "[(0.0, 0), (1.0, 0), (2.0, 0)]\n",
      "(0.0, 0)\n",
      "(1.0, 0)\n",
      "(2.0, 0)\n",
      "[(0.0, 0), (1.0, 0), (2.0, 0)]\n"
     ]
    },
    {
     "ename": "KeyboardInterrupt",
     "evalue": "",
     "output_type": "error",
     "traceback": [
      "\u001b[1;31m---------------------------------------------------------------------------\u001b[0m",
      "\u001b[1;31mKeyboardInterrupt\u001b[0m                         Traceback (most recent call last)",
      "Cell \u001b[1;32mIn[549], line 1\u001b[0m\n\u001b[1;32m----> 1\u001b[0m \u001b[43mNB\u001b[49m\u001b[38;5;241;43m.\u001b[39;49m\u001b[43mpredict\u001b[49m\u001b[43m(\u001b[49m\u001b[43mX_test\u001b[49m\u001b[43m)\u001b[49m\n",
      "Cell \u001b[1;32mIn[546], line 30\u001b[0m, in \u001b[0;36mBayes.predict\u001b[1;34m(self, X_test)\u001b[0m\n\u001b[0;32m     27\u001b[0m                 Pxy \u001b[38;5;241m=\u001b[39m \u001b[38;5;28mself\u001b[39m\u001b[38;5;241m.\u001b[39mPy[cl]\n\u001b[0;32m     29\u001b[0m                 \u001b[38;5;28;01mfor\u001b[39;00m feature \u001b[38;5;129;01min\u001b[39;00m \u001b[38;5;28mself\u001b[39m\u001b[38;5;241m.\u001b[39mfeatures:\n\u001b[1;32m---> 30\u001b[0m                     Pxy \u001b[38;5;241m*\u001b[39m\u001b[38;5;241m=\u001b[39m \u001b[38;5;28;43msum\u001b[39;49m\u001b[43m(\u001b[49m\u001b[43my_train\u001b[49m\u001b[38;5;241;43m.\u001b[39;49m\u001b[43mto_numpy\u001b[49m\u001b[43m(\u001b[49m\u001b[43m)\u001b[49m\u001b[43m[\u001b[49m\u001b[43mi\u001b[49m\u001b[43m]\u001b[49m\u001b[43m \u001b[49m\u001b[38;5;241;43m==\u001b[39;49m\u001b[43m \u001b[49m\u001b[38;5;28;43mfloat\u001b[39;49m\u001b[43m(\u001b[49m\u001b[43mcl\u001b[49m\u001b[43m)\u001b[49m\u001b[43m \u001b[49m\u001b[38;5;129;43;01mand\u001b[39;49;00m\u001b[43m \u001b[49m\u001b[43m(\u001b[49m\u001b[43mX_train\u001b[49m\u001b[38;5;241;43m.\u001b[39;49m\u001b[43miloc\u001b[49m\u001b[43m[\u001b[49m\u001b[43mi\u001b[49m\u001b[43m]\u001b[49m\u001b[43m[\u001b[49m\u001b[43mfeature\u001b[49m\u001b[43m]\u001b[49m\u001b[43m \u001b[49m\u001b[38;5;241;43m-\u001b[39;49m\u001b[43m \u001b[49m\u001b[43mel\u001b[49m\u001b[43m[\u001b[49m\u001b[38;5;28;43mself\u001b[39;49m\u001b[38;5;241;43m.\u001b[39;49m\u001b[43mfeatures\u001b[49m\u001b[38;5;241;43m.\u001b[39;49m\u001b[43mindex\u001b[49m\u001b[43m(\u001b[49m\u001b[43mfeature\u001b[49m\u001b[43m)\u001b[49m\u001b[43m]\u001b[49m\u001b[43m)\u001b[49m\u001b[38;5;241;43m*\u001b[39;49m\u001b[38;5;241;43m*\u001b[39;49m\u001b[38;5;241;43m2\u001b[39;49m\u001b[43m \u001b[49m\u001b[38;5;241;43m<\u001b[39;49m\u001b[43m \u001b[49m\u001b[38;5;241;43m1\u001b[39;49m\u001b[43m \u001b[49m\u001b[38;5;28;43;01mfor\u001b[39;49;00m\u001b[43m \u001b[49m\u001b[43mi\u001b[49m\u001b[43m \u001b[49m\u001b[38;5;129;43;01min\u001b[39;49;00m\u001b[43m \u001b[49m\u001b[38;5;28;43mrange\u001b[39;49m\u001b[43m(\u001b[49m\u001b[38;5;28;43mlen\u001b[39;49m\u001b[43m(\u001b[49m\u001b[43my_train\u001b[49m\u001b[43m)\u001b[49m\u001b[43m)\u001b[49m\u001b[43m)\u001b[49m\n\u001b[0;32m     31\u001b[0m                 Px \u001b[38;5;241m=\u001b[39m \u001b[38;5;28msum\u001b[39m((X_train\u001b[38;5;241m.\u001b[39miloc[i][feature] \u001b[38;5;241m-\u001b[39m el[\u001b[38;5;28mself\u001b[39m\u001b[38;5;241m.\u001b[39mfeatures\u001b[38;5;241m.\u001b[39mindex(feature)])\u001b[38;5;241m*\u001b[39m\u001b[38;5;241m*\u001b[39m\u001b[38;5;241m2\u001b[39m \u001b[38;5;241m<\u001b[39m \u001b[38;5;241m1\u001b[39m \u001b[38;5;28;01mfor\u001b[39;00m i \u001b[38;5;129;01min\u001b[39;00m \u001b[38;5;28mrange\u001b[39m(\u001b[38;5;28mlen\u001b[39m(X_train)))\n\u001b[0;32m     33\u001b[0m \u001b[38;5;66;03m#                 print([(y_train.to_numpy()[i] == float(cl), ((X_train.iloc[i][feature] - el[self.features.index(feature)]))**2 < 4) for i in range(100)])\u001b[39;00m\n\u001b[0;32m     34\u001b[0m                 \n\u001b[0;32m     35\u001b[0m \u001b[38;5;66;03m#                 print([(X_train.iloc[i][feature] - el[self.features.index(feature)])**2  for i in range(100)])\u001b[39;00m\n",
      "Cell \u001b[1;32mIn[546], line 30\u001b[0m, in \u001b[0;36m<genexpr>\u001b[1;34m(.0)\u001b[0m\n\u001b[0;32m     27\u001b[0m                 Pxy \u001b[38;5;241m=\u001b[39m \u001b[38;5;28mself\u001b[39m\u001b[38;5;241m.\u001b[39mPy[cl]\n\u001b[0;32m     29\u001b[0m                 \u001b[38;5;28;01mfor\u001b[39;00m feature \u001b[38;5;129;01min\u001b[39;00m \u001b[38;5;28mself\u001b[39m\u001b[38;5;241m.\u001b[39mfeatures:\n\u001b[1;32m---> 30\u001b[0m                     Pxy \u001b[38;5;241m*\u001b[39m\u001b[38;5;241m=\u001b[39m \u001b[38;5;28msum\u001b[39m(y_train\u001b[38;5;241m.\u001b[39mto_numpy()[i] \u001b[38;5;241m==\u001b[39m \u001b[38;5;28mfloat\u001b[39m(cl) \u001b[38;5;129;01mand\u001b[39;00m (\u001b[43mX_train\u001b[49m\u001b[38;5;241;43m.\u001b[39;49m\u001b[43miloc\u001b[49m\u001b[43m[\u001b[49m\u001b[43mi\u001b[49m\u001b[43m]\u001b[49m[feature] \u001b[38;5;241m-\u001b[39m el[\u001b[38;5;28mself\u001b[39m\u001b[38;5;241m.\u001b[39mfeatures\u001b[38;5;241m.\u001b[39mindex(feature)])\u001b[38;5;241m*\u001b[39m\u001b[38;5;241m*\u001b[39m\u001b[38;5;241m2\u001b[39m \u001b[38;5;241m<\u001b[39m \u001b[38;5;241m1\u001b[39m \u001b[38;5;28;01mfor\u001b[39;00m i \u001b[38;5;129;01min\u001b[39;00m \u001b[38;5;28mrange\u001b[39m(\u001b[38;5;28mlen\u001b[39m(y_train)))\n\u001b[0;32m     31\u001b[0m                 Px \u001b[38;5;241m=\u001b[39m \u001b[38;5;28msum\u001b[39m((X_train\u001b[38;5;241m.\u001b[39miloc[i][feature] \u001b[38;5;241m-\u001b[39m el[\u001b[38;5;28mself\u001b[39m\u001b[38;5;241m.\u001b[39mfeatures\u001b[38;5;241m.\u001b[39mindex(feature)])\u001b[38;5;241m*\u001b[39m\u001b[38;5;241m*\u001b[39m\u001b[38;5;241m2\u001b[39m \u001b[38;5;241m<\u001b[39m \u001b[38;5;241m1\u001b[39m \u001b[38;5;28;01mfor\u001b[39;00m i \u001b[38;5;129;01min\u001b[39;00m \u001b[38;5;28mrange\u001b[39m(\u001b[38;5;28mlen\u001b[39m(X_train)))\n\u001b[0;32m     33\u001b[0m \u001b[38;5;66;03m#                 print([(y_train.to_numpy()[i] == float(cl), ((X_train.iloc[i][feature] - el[self.features.index(feature)]))**2 < 4) for i in range(100)])\u001b[39;00m\n\u001b[0;32m     34\u001b[0m                 \n\u001b[0;32m     35\u001b[0m \u001b[38;5;66;03m#                 print([(X_train.iloc[i][feature] - el[self.features.index(feature)])**2  for i in range(100)])\u001b[39;00m\n",
      "File \u001b[1;32m~\\Desktop\\programming\\ML\\lab1\\venv\\lib\\site-packages\\pandas\\core\\indexing.py:1073\u001b[0m, in \u001b[0;36m_LocationIndexer.__getitem__\u001b[1;34m(self, key)\u001b[0m\n\u001b[0;32m   1070\u001b[0m axis \u001b[38;5;241m=\u001b[39m \u001b[38;5;28mself\u001b[39m\u001b[38;5;241m.\u001b[39maxis \u001b[38;5;129;01mor\u001b[39;00m \u001b[38;5;241m0\u001b[39m\n\u001b[0;32m   1072\u001b[0m maybe_callable \u001b[38;5;241m=\u001b[39m com\u001b[38;5;241m.\u001b[39mapply_if_callable(key, \u001b[38;5;28mself\u001b[39m\u001b[38;5;241m.\u001b[39mobj)\n\u001b[1;32m-> 1073\u001b[0m \u001b[38;5;28;01mreturn\u001b[39;00m \u001b[38;5;28;43mself\u001b[39;49m\u001b[38;5;241;43m.\u001b[39;49m\u001b[43m_getitem_axis\u001b[49m\u001b[43m(\u001b[49m\u001b[43mmaybe_callable\u001b[49m\u001b[43m,\u001b[49m\u001b[43m \u001b[49m\u001b[43maxis\u001b[49m\u001b[38;5;241;43m=\u001b[39;49m\u001b[43maxis\u001b[49m\u001b[43m)\u001b[49m\n",
      "File \u001b[1;32m~\\Desktop\\programming\\ML\\lab1\\venv\\lib\\site-packages\\pandas\\core\\indexing.py:1593\u001b[0m, in \u001b[0;36m_iLocIndexer._getitem_axis\u001b[1;34m(self, key, axis)\u001b[0m\n\u001b[0;32m   1592\u001b[0m \u001b[38;5;28;01mdef\u001b[39;00m \u001b[38;5;21m_getitem_axis\u001b[39m(\u001b[38;5;28mself\u001b[39m, key, axis: \u001b[38;5;28mint\u001b[39m):\n\u001b[1;32m-> 1593\u001b[0m     \u001b[38;5;28;01mif\u001b[39;00m key \u001b[38;5;129;01mis\u001b[39;00m \u001b[38;5;28;43mEllipsis\u001b[39;49m:\n\u001b[0;32m   1594\u001b[0m         key \u001b[38;5;241m=\u001b[39m \u001b[38;5;28mslice\u001b[39m(\u001b[38;5;28;01mNone\u001b[39;00m)\n\u001b[0;32m   1595\u001b[0m     \u001b[38;5;28;01melif\u001b[39;00m \u001b[38;5;28misinstance\u001b[39m(key, ABCDataFrame):\n",
      "\u001b[1;31mKeyboardInterrupt\u001b[0m: "
     ]
    }
   ],
   "source": [
    "NB.predict(X_test)"
   ]
  },
  {
   "cell_type": "code",
   "execution_count": null,
   "id": "44aa321f",
   "metadata": {},
   "outputs": [],
   "source": []
  }
 ],
 "metadata": {
  "kernelspec": {
   "display_name": "Python 3 (ipykernel)",
   "language": "python",
   "name": "python3"
  },
  "language_info": {
   "codemirror_mode": {
    "name": "ipython",
    "version": 3
   },
   "file_extension": ".py",
   "mimetype": "text/x-python",
   "name": "python",
   "nbconvert_exporter": "python",
   "pygments_lexer": "ipython3",
   "version": "3.9.10"
  }
 },
 "nbformat": 4,
 "nbformat_minor": 5
}
