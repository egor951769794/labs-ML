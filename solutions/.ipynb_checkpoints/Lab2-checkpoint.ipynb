{
 "cells": [
  {
   "cell_type": "code",
   "execution_count": 1,
   "id": "ede1f8b0",
   "metadata": {},
   "outputs": [],
   "source": [
    "import numpy as np\n",
    "import pandas as pd\n",
    "\n",
    "# predict: diabetes_012"
   ]
  },
  {
   "cell_type": "markdown",
   "id": "1b8d4c37",
   "metadata": {},
   "source": [
    "# Задание 1"
   ]
  },
  {
   "cell_type": "markdown",
   "id": "0d24f307",
   "metadata": {},
   "source": [
    "Какова вероятность отправиться на прогулку если идёт дождь, при наличии следующих наблюдений?\n",
    "\n",
    "## Формула Байеса\n",
    "\n",
    "Формула Байеса позволяет «переставить причину и следствие»: по известному факту события вычислить вероятность того, что оно было вызвано данной причиной. События, отражающие действие «причин», в данном случае называют гипотезами, так как они — предполагаемые события, повлекшие данное.\n",
    "\n",
    "$P(A|B) =\\frac{P(A) \\cdot P(B | A)}{P(B)}$ (1)\n",
    "\n",
    "* $P(A)$  -- априорная вероятность гипотезы A;\n",
    "* $P(A|B)$ --  вероятность гипотезы A при наступлении события B (апостериорная вероятность);\n",
    "* $P(B|A)$ --  вероятность наступления события B при истинности гипотезы A;\n",
    "* $P(B)$ -- полная вероятность наступления события B."
   ]
  },
  {
   "cell_type": "code",
   "execution_count": 2,
   "id": "d14f77c9",
   "metadata": {},
   "outputs": [],
   "source": [
    "data = [\n",
    "        ('солнечно', True),\n",
    "        ('снег', False),\n",
    "        ('облачно', False),\n",
    "        ('дождь', False),\n",
    "        ('солнечно', True),\n",
    "        ('снег', False),\n",
    "        ('облачно', True),\n",
    "        ('снег', False),\n",
    "        ('солнечно', False),\n",
    "        ('облачно', True),\n",
    "        ('снег', True),\n",
    "        ('солнечно', True),\n",
    "        ('дождь', False),\n",
    "        ('дождь', True),\n",
    "        ('облачно', True),\n",
    "]"
   ]
  },
  {
   "cell_type": "markdown",
   "id": "aa8a9dbc",
   "metadata": {},
   "source": [
    "* A -- мужик отправился на прогулку\n",
    "* B -- идёт дождь"
   ]
  },
  {
   "cell_type": "code",
   "execution_count": 3,
   "id": "e30d6f10",
   "metadata": {},
   "outputs": [],
   "source": [
    "P_A = sum(i[1] for i in data) / len(data)\n",
    "P_B = sum(i[0] == 'дождь' for i in data) / len(data)\n",
    "P_BA = sum(i[0] == 'дождь' and i[1] for i in data) / len(data)"
   ]
  },
  {
   "cell_type": "code",
   "execution_count": 4,
   "id": "ceed6fe7",
   "metadata": {},
   "outputs": [
    {
     "name": "stdout",
     "output_type": "stream",
     "text": [
      "0.17777777777777776\n"
     ]
    }
   ],
   "source": [
    "result = P_A * P_BA / P_B\n",
    "print(result)"
   ]
  },
  {
   "cell_type": "markdown",
   "id": "d7d0bf98",
   "metadata": {},
   "source": [
    "# Задание 2\n",
    "\n",
    "- загрузите датасет для классификации, проведите предобработку, выделите целевой признак и предикторы, разбейте данные на обучающую и тестовую выборку;\n",
    "- Масштабируйте числовые признаки\n",
    "- В случае дисбаланса проведите балансировку\n",
    "- решите задачу классификации на ваших данных с использованием рассмотренных моделей sklearn: knn, NB, Logistic Regression, SVM. Не забудьте подобрать гиперпараметры.\n",
    "- вычислите значения метрик Accuracy, Precision, Recall, F1, ROC AUC score\n"
   ]
  },
  {
   "cell_type": "markdown",
   "id": "1fc992bb",
   "metadata": {},
   "source": [
    "## Загрузка датасета"
   ]
  },
  {
   "cell_type": "code",
   "execution_count": 87,
   "id": "06afb986",
   "metadata": {},
   "outputs": [
    {
     "data": {
      "text/html": [
       "<div>\n",
       "<style scoped>\n",
       "    .dataframe tbody tr th:only-of-type {\n",
       "        vertical-align: middle;\n",
       "    }\n",
       "\n",
       "    .dataframe tbody tr th {\n",
       "        vertical-align: top;\n",
       "    }\n",
       "\n",
       "    .dataframe thead th {\n",
       "        text-align: right;\n",
       "    }\n",
       "</style>\n",
       "<table border=\"1\" class=\"dataframe\">\n",
       "  <thead>\n",
       "    <tr style=\"text-align: right;\">\n",
       "      <th></th>\n",
       "      <th>Diabetes_012</th>\n",
       "      <th>HighBP</th>\n",
       "      <th>HighChol</th>\n",
       "      <th>CholCheck</th>\n",
       "      <th>BMI</th>\n",
       "      <th>Smoker</th>\n",
       "      <th>Stroke</th>\n",
       "      <th>HeartDiseaseorAttack</th>\n",
       "      <th>PhysActivity</th>\n",
       "      <th>Fruits</th>\n",
       "      <th>...</th>\n",
       "      <th>AnyHealthcare</th>\n",
       "      <th>NoDocbcCost</th>\n",
       "      <th>GenHlth</th>\n",
       "      <th>MentHlth</th>\n",
       "      <th>PhysHlth</th>\n",
       "      <th>DiffWalk</th>\n",
       "      <th>Sex</th>\n",
       "      <th>Age</th>\n",
       "      <th>Education</th>\n",
       "      <th>Income</th>\n",
       "    </tr>\n",
       "  </thead>\n",
       "  <tbody>\n",
       "    <tr>\n",
       "      <th>176439</th>\n",
       "      <td>2.0</td>\n",
       "      <td>1.0</td>\n",
       "      <td>1.0</td>\n",
       "      <td>1.0</td>\n",
       "      <td>22.0</td>\n",
       "      <td>0.0</td>\n",
       "      <td>0.0</td>\n",
       "      <td>1.0</td>\n",
       "      <td>0.0</td>\n",
       "      <td>1.0</td>\n",
       "      <td>...</td>\n",
       "      <td>1.0</td>\n",
       "      <td>0.0</td>\n",
       "      <td>3.0</td>\n",
       "      <td>0.0</td>\n",
       "      <td>7.0</td>\n",
       "      <td>1.0</td>\n",
       "      <td>0.0</td>\n",
       "      <td>13.0</td>\n",
       "      <td>6.0</td>\n",
       "      <td>5.0</td>\n",
       "    </tr>\n",
       "    <tr>\n",
       "      <th>229140</th>\n",
       "      <td>0.0</td>\n",
       "      <td>1.0</td>\n",
       "      <td>0.0</td>\n",
       "      <td>1.0</td>\n",
       "      <td>26.0</td>\n",
       "      <td>1.0</td>\n",
       "      <td>0.0</td>\n",
       "      <td>0.0</td>\n",
       "      <td>1.0</td>\n",
       "      <td>0.0</td>\n",
       "      <td>...</td>\n",
       "      <td>1.0</td>\n",
       "      <td>0.0</td>\n",
       "      <td>2.0</td>\n",
       "      <td>0.0</td>\n",
       "      <td>0.0</td>\n",
       "      <td>0.0</td>\n",
       "      <td>0.0</td>\n",
       "      <td>5.0</td>\n",
       "      <td>6.0</td>\n",
       "      <td>8.0</td>\n",
       "    </tr>\n",
       "    <tr>\n",
       "      <th>6</th>\n",
       "      <td>0.0</td>\n",
       "      <td>1.0</td>\n",
       "      <td>0.0</td>\n",
       "      <td>1.0</td>\n",
       "      <td>30.0</td>\n",
       "      <td>1.0</td>\n",
       "      <td>0.0</td>\n",
       "      <td>0.0</td>\n",
       "      <td>0.0</td>\n",
       "      <td>0.0</td>\n",
       "      <td>...</td>\n",
       "      <td>1.0</td>\n",
       "      <td>0.0</td>\n",
       "      <td>3.0</td>\n",
       "      <td>0.0</td>\n",
       "      <td>14.0</td>\n",
       "      <td>0.0</td>\n",
       "      <td>0.0</td>\n",
       "      <td>9.0</td>\n",
       "      <td>6.0</td>\n",
       "      <td>7.0</td>\n",
       "    </tr>\n",
       "    <tr>\n",
       "      <th>238317</th>\n",
       "      <td>0.0</td>\n",
       "      <td>0.0</td>\n",
       "      <td>0.0</td>\n",
       "      <td>1.0</td>\n",
       "      <td>20.0</td>\n",
       "      <td>0.0</td>\n",
       "      <td>0.0</td>\n",
       "      <td>0.0</td>\n",
       "      <td>1.0</td>\n",
       "      <td>1.0</td>\n",
       "      <td>...</td>\n",
       "      <td>1.0</td>\n",
       "      <td>0.0</td>\n",
       "      <td>1.0</td>\n",
       "      <td>0.0</td>\n",
       "      <td>0.0</td>\n",
       "      <td>0.0</td>\n",
       "      <td>0.0</td>\n",
       "      <td>3.0</td>\n",
       "      <td>4.0</td>\n",
       "      <td>8.0</td>\n",
       "    </tr>\n",
       "    <tr>\n",
       "      <th>197758</th>\n",
       "      <td>2.0</td>\n",
       "      <td>1.0</td>\n",
       "      <td>1.0</td>\n",
       "      <td>1.0</td>\n",
       "      <td>31.0</td>\n",
       "      <td>1.0</td>\n",
       "      <td>0.0</td>\n",
       "      <td>1.0</td>\n",
       "      <td>1.0</td>\n",
       "      <td>1.0</td>\n",
       "      <td>...</td>\n",
       "      <td>1.0</td>\n",
       "      <td>0.0</td>\n",
       "      <td>4.0</td>\n",
       "      <td>15.0</td>\n",
       "      <td>10.0</td>\n",
       "      <td>1.0</td>\n",
       "      <td>1.0</td>\n",
       "      <td>8.0</td>\n",
       "      <td>4.0</td>\n",
       "      <td>7.0</td>\n",
       "    </tr>\n",
       "    <tr>\n",
       "      <th>...</th>\n",
       "      <td>...</td>\n",
       "      <td>...</td>\n",
       "      <td>...</td>\n",
       "      <td>...</td>\n",
       "      <td>...</td>\n",
       "      <td>...</td>\n",
       "      <td>...</td>\n",
       "      <td>...</td>\n",
       "      <td>...</td>\n",
       "      <td>...</td>\n",
       "      <td>...</td>\n",
       "      <td>...</td>\n",
       "      <td>...</td>\n",
       "      <td>...</td>\n",
       "      <td>...</td>\n",
       "      <td>...</td>\n",
       "      <td>...</td>\n",
       "      <td>...</td>\n",
       "      <td>...</td>\n",
       "      <td>...</td>\n",
       "      <td>...</td>\n",
       "    </tr>\n",
       "    <tr>\n",
       "      <th>53671</th>\n",
       "      <td>2.0</td>\n",
       "      <td>1.0</td>\n",
       "      <td>1.0</td>\n",
       "      <td>1.0</td>\n",
       "      <td>31.0</td>\n",
       "      <td>1.0</td>\n",
       "      <td>0.0</td>\n",
       "      <td>0.0</td>\n",
       "      <td>0.0</td>\n",
       "      <td>0.0</td>\n",
       "      <td>...</td>\n",
       "      <td>1.0</td>\n",
       "      <td>0.0</td>\n",
       "      <td>2.0</td>\n",
       "      <td>0.0</td>\n",
       "      <td>10.0</td>\n",
       "      <td>0.0</td>\n",
       "      <td>1.0</td>\n",
       "      <td>10.0</td>\n",
       "      <td>6.0</td>\n",
       "      <td>8.0</td>\n",
       "    </tr>\n",
       "    <tr>\n",
       "      <th>150983</th>\n",
       "      <td>0.0</td>\n",
       "      <td>0.0</td>\n",
       "      <td>1.0</td>\n",
       "      <td>1.0</td>\n",
       "      <td>31.0</td>\n",
       "      <td>1.0</td>\n",
       "      <td>0.0</td>\n",
       "      <td>0.0</td>\n",
       "      <td>1.0</td>\n",
       "      <td>0.0</td>\n",
       "      <td>...</td>\n",
       "      <td>1.0</td>\n",
       "      <td>1.0</td>\n",
       "      <td>3.0</td>\n",
       "      <td>2.0</td>\n",
       "      <td>2.0</td>\n",
       "      <td>0.0</td>\n",
       "      <td>0.0</td>\n",
       "      <td>7.0</td>\n",
       "      <td>4.0</td>\n",
       "      <td>5.0</td>\n",
       "    </tr>\n",
       "    <tr>\n",
       "      <th>94356</th>\n",
       "      <td>0.0</td>\n",
       "      <td>1.0</td>\n",
       "      <td>1.0</td>\n",
       "      <td>1.0</td>\n",
       "      <td>31.0</td>\n",
       "      <td>0.0</td>\n",
       "      <td>0.0</td>\n",
       "      <td>0.0</td>\n",
       "      <td>1.0</td>\n",
       "      <td>1.0</td>\n",
       "      <td>...</td>\n",
       "      <td>1.0</td>\n",
       "      <td>0.0</td>\n",
       "      <td>3.0</td>\n",
       "      <td>15.0</td>\n",
       "      <td>30.0</td>\n",
       "      <td>0.0</td>\n",
       "      <td>0.0</td>\n",
       "      <td>10.0</td>\n",
       "      <td>6.0</td>\n",
       "      <td>6.0</td>\n",
       "    </tr>\n",
       "    <tr>\n",
       "      <th>169832</th>\n",
       "      <td>0.0</td>\n",
       "      <td>0.0</td>\n",
       "      <td>0.0</td>\n",
       "      <td>1.0</td>\n",
       "      <td>26.0</td>\n",
       "      <td>0.0</td>\n",
       "      <td>0.0</td>\n",
       "      <td>0.0</td>\n",
       "      <td>0.0</td>\n",
       "      <td>1.0</td>\n",
       "      <td>...</td>\n",
       "      <td>1.0</td>\n",
       "      <td>0.0</td>\n",
       "      <td>3.0</td>\n",
       "      <td>0.0</td>\n",
       "      <td>0.0</td>\n",
       "      <td>0.0</td>\n",
       "      <td>1.0</td>\n",
       "      <td>13.0</td>\n",
       "      <td>6.0</td>\n",
       "      <td>8.0</td>\n",
       "    </tr>\n",
       "    <tr>\n",
       "      <th>204308</th>\n",
       "      <td>0.0</td>\n",
       "      <td>0.0</td>\n",
       "      <td>0.0</td>\n",
       "      <td>1.0</td>\n",
       "      <td>24.0</td>\n",
       "      <td>0.0</td>\n",
       "      <td>0.0</td>\n",
       "      <td>0.0</td>\n",
       "      <td>1.0</td>\n",
       "      <td>0.0</td>\n",
       "      <td>...</td>\n",
       "      <td>1.0</td>\n",
       "      <td>0.0</td>\n",
       "      <td>3.0</td>\n",
       "      <td>0.0</td>\n",
       "      <td>5.0</td>\n",
       "      <td>0.0</td>\n",
       "      <td>0.0</td>\n",
       "      <td>10.0</td>\n",
       "      <td>6.0</td>\n",
       "      <td>7.0</td>\n",
       "    </tr>\n",
       "  </tbody>\n",
       "</table>\n",
       "<p>253680 rows × 22 columns</p>\n",
       "</div>"
      ],
      "text/plain": [
       "        Diabetes_012  HighBP  HighChol  CholCheck   BMI  Smoker  Stroke  \\\n",
       "176439           2.0     1.0       1.0        1.0  22.0     0.0     0.0   \n",
       "229140           0.0     1.0       0.0        1.0  26.0     1.0     0.0   \n",
       "6                0.0     1.0       0.0        1.0  30.0     1.0     0.0   \n",
       "238317           0.0     0.0       0.0        1.0  20.0     0.0     0.0   \n",
       "197758           2.0     1.0       1.0        1.0  31.0     1.0     0.0   \n",
       "...              ...     ...       ...        ...   ...     ...     ...   \n",
       "53671            2.0     1.0       1.0        1.0  31.0     1.0     0.0   \n",
       "150983           0.0     0.0       1.0        1.0  31.0     1.0     0.0   \n",
       "94356            0.0     1.0       1.0        1.0  31.0     0.0     0.0   \n",
       "169832           0.0     0.0       0.0        1.0  26.0     0.0     0.0   \n",
       "204308           0.0     0.0       0.0        1.0  24.0     0.0     0.0   \n",
       "\n",
       "        HeartDiseaseorAttack  PhysActivity  Fruits  ...  AnyHealthcare  \\\n",
       "176439                   1.0           0.0     1.0  ...            1.0   \n",
       "229140                   0.0           1.0     0.0  ...            1.0   \n",
       "6                        0.0           0.0     0.0  ...            1.0   \n",
       "238317                   0.0           1.0     1.0  ...            1.0   \n",
       "197758                   1.0           1.0     1.0  ...            1.0   \n",
       "...                      ...           ...     ...  ...            ...   \n",
       "53671                    0.0           0.0     0.0  ...            1.0   \n",
       "150983                   0.0           1.0     0.0  ...            1.0   \n",
       "94356                    0.0           1.0     1.0  ...            1.0   \n",
       "169832                   0.0           0.0     1.0  ...            1.0   \n",
       "204308                   0.0           1.0     0.0  ...            1.0   \n",
       "\n",
       "        NoDocbcCost  GenHlth  MentHlth  PhysHlth  DiffWalk  Sex   Age  \\\n",
       "176439          0.0      3.0       0.0       7.0       1.0  0.0  13.0   \n",
       "229140          0.0      2.0       0.0       0.0       0.0  0.0   5.0   \n",
       "6               0.0      3.0       0.0      14.0       0.0  0.0   9.0   \n",
       "238317          0.0      1.0       0.0       0.0       0.0  0.0   3.0   \n",
       "197758          0.0      4.0      15.0      10.0       1.0  1.0   8.0   \n",
       "...             ...      ...       ...       ...       ...  ...   ...   \n",
       "53671           0.0      2.0       0.0      10.0       0.0  1.0  10.0   \n",
       "150983          1.0      3.0       2.0       2.0       0.0  0.0   7.0   \n",
       "94356           0.0      3.0      15.0      30.0       0.0  0.0  10.0   \n",
       "169832          0.0      3.0       0.0       0.0       0.0  1.0  13.0   \n",
       "204308          0.0      3.0       0.0       5.0       0.0  0.0  10.0   \n",
       "\n",
       "        Education  Income  \n",
       "176439        6.0     5.0  \n",
       "229140        6.0     8.0  \n",
       "6             6.0     7.0  \n",
       "238317        4.0     8.0  \n",
       "197758        4.0     7.0  \n",
       "...           ...     ...  \n",
       "53671         6.0     8.0  \n",
       "150983        4.0     5.0  \n",
       "94356         6.0     6.0  \n",
       "169832        6.0     8.0  \n",
       "204308        6.0     7.0  \n",
       "\n",
       "[253680 rows x 22 columns]"
      ]
     },
     "execution_count": 87,
     "metadata": {},
     "output_type": "execute_result"
    }
   ],
   "source": [
    "data = pd.read_csv('../datasets/raw/diabetes.csv')\n",
    "data = data.sample(frac=1)\n",
    "data"
   ]
  },
  {
   "cell_type": "code",
   "execution_count": 3,
   "id": "94a97a8b",
   "metadata": {},
   "outputs": [
    {
     "data": {
      "text/plain": [
       "False"
      ]
     },
     "execution_count": 3,
     "metadata": {},
     "output_type": "execute_result"
    }
   ],
   "source": [
    "data.isnull().values.any()"
   ]
  },
  {
   "cell_type": "code",
   "execution_count": 7,
   "id": "1fdc2e89",
   "metadata": {},
   "outputs": [],
   "source": [
    "# data = data[data['Diabetes_012'] != 1]"
   ]
  },
  {
   "cell_type": "markdown",
   "id": "44554fde",
   "metadata": {},
   "source": [
    "## Балансировка"
   ]
  },
  {
   "cell_type": "code",
   "execution_count": 88,
   "id": "2988d6c4",
   "metadata": {},
   "outputs": [],
   "source": [
    "from sklearn.utils import resample"
   ]
  },
  {
   "cell_type": "code",
   "execution_count": 89,
   "id": "6d86be0a",
   "metadata": {},
   "outputs": [
    {
     "name": "stdout",
     "output_type": "stream",
     "text": [
      "(213703, 22) (35346, 22)\n"
     ]
    }
   ],
   "source": [
    "data_0 = data[data['Diabetes_012'] == 0]\n",
    "data_1 = data[data['Diabetes_012'] == 1]\n",
    "data_2 = data[data['Diabetes_012'] == 2]\n",
    "\n",
    "print(data_0.shape, data_2.shape)"
   ]
  },
  {
   "cell_type": "code",
   "execution_count": 91,
   "id": "b0059b82",
   "metadata": {},
   "outputs": [
    {
     "name": "stdout",
     "output_type": "stream",
     "text": [
      "(10000, 22) (10000, 22)\n"
     ]
    }
   ],
   "source": [
    "data_0 = resample(data_0, replace=False, n_samples=10000)\n",
    "data_1 = resample(data_1, replace=True, n_samples=10000)\n",
    "data_2 = resample(data_2, replace=True, n_samples=10000)\n",
    "\n",
    "print(data_0.shape, data_2.shape)"
   ]
  },
  {
   "cell_type": "code",
   "execution_count": 93,
   "id": "447a3a7a",
   "metadata": {},
   "outputs": [
    {
     "data": {
      "text/plain": [
       "Diabetes_012\n",
       "0.0    10000\n",
       "1.0    10000\n",
       "2.0    10000\n",
       "Name: Diabetes_012, dtype: int64"
      ]
     },
     "execution_count": 93,
     "metadata": {},
     "output_type": "execute_result"
    }
   ],
   "source": [
    "data = pd.concat([data_0, data_1, data_2])\n",
    "data['Diabetes_012'].groupby(data['Diabetes_012']).count()"
   ]
  },
  {
   "cell_type": "markdown",
   "id": "647b3c64",
   "metadata": {},
   "source": [
    "## Разбитие на выборки"
   ]
  },
  {
   "cell_type": "code",
   "execution_count": 94,
   "id": "4ec24ed4",
   "metadata": {},
   "outputs": [],
   "source": [
    "test_share = 0.8\n",
    "\n",
    "test_count = int(data.shape[0] * (1 - test_share))"
   ]
  },
  {
   "cell_type": "code",
   "execution_count": 95,
   "id": "a5cc02d9",
   "metadata": {},
   "outputs": [],
   "source": [
    "from sklearn.utils import shuffle\n",
    "data = shuffle(data)\n",
    "\n",
    "y = data['Diabetes_012']\n",
    "X = data.drop(columns=['Diabetes_012'])"
   ]
  },
  {
   "cell_type": "code",
   "execution_count": 96,
   "id": "818fabab",
   "metadata": {},
   "outputs": [],
   "source": [
    "X_test = X.iloc[:test_count:]\n",
    "X_train = X.iloc[test_count:,:]\n",
    "\n",
    "y_test = y.iloc[:test_count]\n",
    "y_train = y.iloc[test_count:]"
   ]
  },
  {
   "cell_type": "markdown",
   "id": "8e191ead",
   "metadata": {},
   "source": [
    "## Масштабирование признаков"
   ]
  },
  {
   "cell_type": "code",
   "execution_count": 97,
   "id": "6f609e24",
   "metadata": {},
   "outputs": [],
   "source": [
    "from sklearn.preprocessing import StandardScaler"
   ]
  },
  {
   "cell_type": "code",
   "execution_count": 98,
   "id": "b1b39fca",
   "metadata": {},
   "outputs": [
    {
     "data": {
      "text/html": [
       "<div>\n",
       "<style scoped>\n",
       "    .dataframe tbody tr th:only-of-type {\n",
       "        vertical-align: middle;\n",
       "    }\n",
       "\n",
       "    .dataframe tbody tr th {\n",
       "        vertical-align: top;\n",
       "    }\n",
       "\n",
       "    .dataframe thead th {\n",
       "        text-align: right;\n",
       "    }\n",
       "</style>\n",
       "<table border=\"1\" class=\"dataframe\">\n",
       "  <thead>\n",
       "    <tr style=\"text-align: right;\">\n",
       "      <th></th>\n",
       "      <th>HighBP</th>\n",
       "      <th>HighChol</th>\n",
       "      <th>CholCheck</th>\n",
       "      <th>BMI</th>\n",
       "      <th>Smoker</th>\n",
       "      <th>Stroke</th>\n",
       "      <th>HeartDiseaseorAttack</th>\n",
       "      <th>PhysActivity</th>\n",
       "      <th>Fruits</th>\n",
       "      <th>Veggies</th>\n",
       "      <th>...</th>\n",
       "      <th>AnyHealthcare</th>\n",
       "      <th>NoDocbcCost</th>\n",
       "      <th>GenHlth</th>\n",
       "      <th>MentHlth</th>\n",
       "      <th>PhysHlth</th>\n",
       "      <th>DiffWalk</th>\n",
       "      <th>Sex</th>\n",
       "      <th>Age</th>\n",
       "      <th>Education</th>\n",
       "      <th>Income</th>\n",
       "    </tr>\n",
       "  </thead>\n",
       "  <tbody>\n",
       "    <tr>\n",
       "      <th>0</th>\n",
       "      <td>-1.175182</td>\n",
       "      <td>0.885848</td>\n",
       "      <td>0.149252</td>\n",
       "      <td>-0.153653</td>\n",
       "      <td>-0.949643</td>\n",
       "      <td>-0.254965</td>\n",
       "      <td>-0.411181</td>\n",
       "      <td>0.656453</td>\n",
       "      <td>-1.255296</td>\n",
       "      <td>0.522681</td>\n",
       "      <td>...</td>\n",
       "      <td>0.224027</td>\n",
       "      <td>-0.344935</td>\n",
       "      <td>-0.812885</td>\n",
       "      <td>1.304735</td>\n",
       "      <td>-0.587930</td>\n",
       "      <td>-0.593438</td>\n",
       "      <td>1.099277</td>\n",
       "      <td>-1.691683</td>\n",
       "      <td>0.113653</td>\n",
       "      <td>0.640835</td>\n",
       "    </tr>\n",
       "    <tr>\n",
       "      <th>1</th>\n",
       "      <td>0.850932</td>\n",
       "      <td>0.885848</td>\n",
       "      <td>0.149252</td>\n",
       "      <td>0.415369</td>\n",
       "      <td>1.053027</td>\n",
       "      <td>-0.254965</td>\n",
       "      <td>2.432020</td>\n",
       "      <td>0.656453</td>\n",
       "      <td>-1.255296</td>\n",
       "      <td>0.522681</td>\n",
       "      <td>...</td>\n",
       "      <td>0.224027</td>\n",
       "      <td>-0.344935</td>\n",
       "      <td>1.031862</td>\n",
       "      <td>-0.236792</td>\n",
       "      <td>2.375965</td>\n",
       "      <td>1.685095</td>\n",
       "      <td>1.099277</td>\n",
       "      <td>-1.334327</td>\n",
       "      <td>0.113653</td>\n",
       "      <td>0.186511</td>\n",
       "    </tr>\n",
       "    <tr>\n",
       "      <th>2</th>\n",
       "      <td>0.850932</td>\n",
       "      <td>-1.128862</td>\n",
       "      <td>0.149252</td>\n",
       "      <td>-0.011398</td>\n",
       "      <td>1.053027</td>\n",
       "      <td>3.922109</td>\n",
       "      <td>2.432020</td>\n",
       "      <td>0.656453</td>\n",
       "      <td>0.796625</td>\n",
       "      <td>-1.913214</td>\n",
       "      <td>...</td>\n",
       "      <td>0.224027</td>\n",
       "      <td>-0.344935</td>\n",
       "      <td>1.954236</td>\n",
       "      <td>-0.473950</td>\n",
       "      <td>2.375965</td>\n",
       "      <td>1.685095</td>\n",
       "      <td>1.099277</td>\n",
       "      <td>1.524522</td>\n",
       "      <td>-2.761726</td>\n",
       "      <td>1.095159</td>\n",
       "    </tr>\n",
       "    <tr>\n",
       "      <th>3</th>\n",
       "      <td>0.850932</td>\n",
       "      <td>-1.128862</td>\n",
       "      <td>0.149252</td>\n",
       "      <td>-0.580419</td>\n",
       "      <td>-0.949643</td>\n",
       "      <td>-0.254965</td>\n",
       "      <td>-0.411181</td>\n",
       "      <td>0.656453</td>\n",
       "      <td>0.796625</td>\n",
       "      <td>0.522681</td>\n",
       "      <td>...</td>\n",
       "      <td>0.224027</td>\n",
       "      <td>-0.344935</td>\n",
       "      <td>-0.812885</td>\n",
       "      <td>-0.473950</td>\n",
       "      <td>-0.587930</td>\n",
       "      <td>-0.593438</td>\n",
       "      <td>-0.909689</td>\n",
       "      <td>0.452454</td>\n",
       "      <td>1.072112</td>\n",
       "      <td>0.640835</td>\n",
       "    </tr>\n",
       "    <tr>\n",
       "      <th>4</th>\n",
       "      <td>0.850932</td>\n",
       "      <td>0.885848</td>\n",
       "      <td>0.149252</td>\n",
       "      <td>0.273113</td>\n",
       "      <td>-0.949643</td>\n",
       "      <td>-0.254965</td>\n",
       "      <td>-0.411181</td>\n",
       "      <td>0.656453</td>\n",
       "      <td>0.796625</td>\n",
       "      <td>-1.913214</td>\n",
       "      <td>...</td>\n",
       "      <td>0.224027</td>\n",
       "      <td>-0.344935</td>\n",
       "      <td>1.031862</td>\n",
       "      <td>2.016209</td>\n",
       "      <td>1.486797</td>\n",
       "      <td>1.685095</td>\n",
       "      <td>1.099277</td>\n",
       "      <td>0.095097</td>\n",
       "      <td>-1.803267</td>\n",
       "      <td>-0.267813</td>\n",
       "    </tr>\n",
       "    <tr>\n",
       "      <th>...</th>\n",
       "      <td>...</td>\n",
       "      <td>...</td>\n",
       "      <td>...</td>\n",
       "      <td>...</td>\n",
       "      <td>...</td>\n",
       "      <td>...</td>\n",
       "      <td>...</td>\n",
       "      <td>...</td>\n",
       "      <td>...</td>\n",
       "      <td>...</td>\n",
       "      <td>...</td>\n",
       "      <td>...</td>\n",
       "      <td>...</td>\n",
       "      <td>...</td>\n",
       "      <td>...</td>\n",
       "      <td>...</td>\n",
       "      <td>...</td>\n",
       "      <td>...</td>\n",
       "      <td>...</td>\n",
       "      <td>...</td>\n",
       "      <td>...</td>\n",
       "    </tr>\n",
       "    <tr>\n",
       "      <th>23996</th>\n",
       "      <td>-1.175182</td>\n",
       "      <td>-1.128862</td>\n",
       "      <td>0.149252</td>\n",
       "      <td>-0.864930</td>\n",
       "      <td>1.053027</td>\n",
       "      <td>-0.254965</td>\n",
       "      <td>-0.411181</td>\n",
       "      <td>0.656453</td>\n",
       "      <td>-1.255296</td>\n",
       "      <td>0.522681</td>\n",
       "      <td>...</td>\n",
       "      <td>-4.463745</td>\n",
       "      <td>-0.344935</td>\n",
       "      <td>-0.812885</td>\n",
       "      <td>-0.473950</td>\n",
       "      <td>-0.587930</td>\n",
       "      <td>-0.593438</td>\n",
       "      <td>-0.909689</td>\n",
       "      <td>0.095097</td>\n",
       "      <td>0.113653</td>\n",
       "      <td>-0.722137</td>\n",
       "    </tr>\n",
       "    <tr>\n",
       "      <th>23997</th>\n",
       "      <td>0.850932</td>\n",
       "      <td>0.885848</td>\n",
       "      <td>0.149252</td>\n",
       "      <td>-0.153653</td>\n",
       "      <td>-0.949643</td>\n",
       "      <td>-0.254965</td>\n",
       "      <td>-0.411181</td>\n",
       "      <td>0.656453</td>\n",
       "      <td>0.796625</td>\n",
       "      <td>0.522681</td>\n",
       "      <td>...</td>\n",
       "      <td>0.224027</td>\n",
       "      <td>-0.344935</td>\n",
       "      <td>1.031862</td>\n",
       "      <td>-0.473950</td>\n",
       "      <td>-0.587930</td>\n",
       "      <td>-0.593438</td>\n",
       "      <td>1.099277</td>\n",
       "      <td>1.167166</td>\n",
       "      <td>1.072112</td>\n",
       "      <td>1.095159</td>\n",
       "    </tr>\n",
       "    <tr>\n",
       "      <th>23998</th>\n",
       "      <td>0.850932</td>\n",
       "      <td>0.885848</td>\n",
       "      <td>0.149252</td>\n",
       "      <td>-1.149441</td>\n",
       "      <td>1.053027</td>\n",
       "      <td>3.922109</td>\n",
       "      <td>-0.411181</td>\n",
       "      <td>-1.523338</td>\n",
       "      <td>-1.255296</td>\n",
       "      <td>-1.913214</td>\n",
       "      <td>...</td>\n",
       "      <td>0.224027</td>\n",
       "      <td>-0.344935</td>\n",
       "      <td>1.031862</td>\n",
       "      <td>0.711840</td>\n",
       "      <td>-0.587930</td>\n",
       "      <td>1.685095</td>\n",
       "      <td>-0.909689</td>\n",
       "      <td>0.095097</td>\n",
       "      <td>-0.844807</td>\n",
       "      <td>-1.176461</td>\n",
       "    </tr>\n",
       "    <tr>\n",
       "      <th>23999</th>\n",
       "      <td>0.850932</td>\n",
       "      <td>-1.128862</td>\n",
       "      <td>0.149252</td>\n",
       "      <td>-0.580419</td>\n",
       "      <td>-0.949643</td>\n",
       "      <td>-0.254965</td>\n",
       "      <td>-0.411181</td>\n",
       "      <td>0.656453</td>\n",
       "      <td>0.796625</td>\n",
       "      <td>0.522681</td>\n",
       "      <td>...</td>\n",
       "      <td>0.224027</td>\n",
       "      <td>-0.344935</td>\n",
       "      <td>0.109489</td>\n",
       "      <td>-0.473950</td>\n",
       "      <td>-0.291540</td>\n",
       "      <td>-0.593438</td>\n",
       "      <td>1.099277</td>\n",
       "      <td>-0.262259</td>\n",
       "      <td>1.072112</td>\n",
       "      <td>1.095159</td>\n",
       "    </tr>\n",
       "    <tr>\n",
       "      <th>24000</th>\n",
       "      <td>-1.175182</td>\n",
       "      <td>-1.128862</td>\n",
       "      <td>0.149252</td>\n",
       "      <td>2.122434</td>\n",
       "      <td>-0.949643</td>\n",
       "      <td>-0.254965</td>\n",
       "      <td>-0.411181</td>\n",
       "      <td>-1.523338</td>\n",
       "      <td>0.796625</td>\n",
       "      <td>0.522681</td>\n",
       "      <td>...</td>\n",
       "      <td>0.224027</td>\n",
       "      <td>-0.344935</td>\n",
       "      <td>1.031862</td>\n",
       "      <td>1.304735</td>\n",
       "      <td>2.375965</td>\n",
       "      <td>1.685095</td>\n",
       "      <td>-0.909689</td>\n",
       "      <td>0.452454</td>\n",
       "      <td>1.072112</td>\n",
       "      <td>-0.267813</td>\n",
       "    </tr>\n",
       "  </tbody>\n",
       "</table>\n",
       "<p>24001 rows × 21 columns</p>\n",
       "</div>"
      ],
      "text/plain": [
       "         HighBP  HighChol  CholCheck       BMI    Smoker    Stroke  \\\n",
       "0     -1.175182  0.885848   0.149252 -0.153653 -0.949643 -0.254965   \n",
       "1      0.850932  0.885848   0.149252  0.415369  1.053027 -0.254965   \n",
       "2      0.850932 -1.128862   0.149252 -0.011398  1.053027  3.922109   \n",
       "3      0.850932 -1.128862   0.149252 -0.580419 -0.949643 -0.254965   \n",
       "4      0.850932  0.885848   0.149252  0.273113 -0.949643 -0.254965   \n",
       "...         ...       ...        ...       ...       ...       ...   \n",
       "23996 -1.175182 -1.128862   0.149252 -0.864930  1.053027 -0.254965   \n",
       "23997  0.850932  0.885848   0.149252 -0.153653 -0.949643 -0.254965   \n",
       "23998  0.850932  0.885848   0.149252 -1.149441  1.053027  3.922109   \n",
       "23999  0.850932 -1.128862   0.149252 -0.580419 -0.949643 -0.254965   \n",
       "24000 -1.175182 -1.128862   0.149252  2.122434 -0.949643 -0.254965   \n",
       "\n",
       "       HeartDiseaseorAttack  PhysActivity    Fruits   Veggies  ...  \\\n",
       "0                 -0.411181      0.656453 -1.255296  0.522681  ...   \n",
       "1                  2.432020      0.656453 -1.255296  0.522681  ...   \n",
       "2                  2.432020      0.656453  0.796625 -1.913214  ...   \n",
       "3                 -0.411181      0.656453  0.796625  0.522681  ...   \n",
       "4                 -0.411181      0.656453  0.796625 -1.913214  ...   \n",
       "...                     ...           ...       ...       ...  ...   \n",
       "23996             -0.411181      0.656453 -1.255296  0.522681  ...   \n",
       "23997             -0.411181      0.656453  0.796625  0.522681  ...   \n",
       "23998             -0.411181     -1.523338 -1.255296 -1.913214  ...   \n",
       "23999             -0.411181      0.656453  0.796625  0.522681  ...   \n",
       "24000             -0.411181     -1.523338  0.796625  0.522681  ...   \n",
       "\n",
       "       AnyHealthcare  NoDocbcCost   GenHlth  MentHlth  PhysHlth  DiffWalk  \\\n",
       "0           0.224027    -0.344935 -0.812885  1.304735 -0.587930 -0.593438   \n",
       "1           0.224027    -0.344935  1.031862 -0.236792  2.375965  1.685095   \n",
       "2           0.224027    -0.344935  1.954236 -0.473950  2.375965  1.685095   \n",
       "3           0.224027    -0.344935 -0.812885 -0.473950 -0.587930 -0.593438   \n",
       "4           0.224027    -0.344935  1.031862  2.016209  1.486797  1.685095   \n",
       "...              ...          ...       ...       ...       ...       ...   \n",
       "23996      -4.463745    -0.344935 -0.812885 -0.473950 -0.587930 -0.593438   \n",
       "23997       0.224027    -0.344935  1.031862 -0.473950 -0.587930 -0.593438   \n",
       "23998       0.224027    -0.344935  1.031862  0.711840 -0.587930  1.685095   \n",
       "23999       0.224027    -0.344935  0.109489 -0.473950 -0.291540 -0.593438   \n",
       "24000       0.224027    -0.344935  1.031862  1.304735  2.375965  1.685095   \n",
       "\n",
       "            Sex       Age  Education    Income  \n",
       "0      1.099277 -1.691683   0.113653  0.640835  \n",
       "1      1.099277 -1.334327   0.113653  0.186511  \n",
       "2      1.099277  1.524522  -2.761726  1.095159  \n",
       "3     -0.909689  0.452454   1.072112  0.640835  \n",
       "4      1.099277  0.095097  -1.803267 -0.267813  \n",
       "...         ...       ...        ...       ...  \n",
       "23996 -0.909689  0.095097   0.113653 -0.722137  \n",
       "23997  1.099277  1.167166   1.072112  1.095159  \n",
       "23998 -0.909689  0.095097  -0.844807 -1.176461  \n",
       "23999  1.099277 -0.262259   1.072112  1.095159  \n",
       "24000 -0.909689  0.452454   1.072112 -0.267813  \n",
       "\n",
       "[24001 rows x 21 columns]"
      ]
     },
     "execution_count": 98,
     "metadata": {},
     "output_type": "execute_result"
    }
   ],
   "source": [
    "scaler = StandardScaler()\n",
    "X_train = pd.DataFrame(scaler.fit_transform(X_train), columns=X_train.columns)\n",
    "X_train"
   ]
  },
  {
   "cell_type": "markdown",
   "id": "50b4775d",
   "metadata": {},
   "source": [
    "# sklearn kNN"
   ]
  },
  {
   "cell_type": "code",
   "execution_count": 137,
   "id": "2397af6f",
   "metadata": {},
   "outputs": [
    {
     "data": {
      "text/html": [
       "<style>#sk-container-id-8 {color: black;background-color: white;}#sk-container-id-8 pre{padding: 0;}#sk-container-id-8 div.sk-toggleable {background-color: white;}#sk-container-id-8 label.sk-toggleable__label {cursor: pointer;display: block;width: 100%;margin-bottom: 0;padding: 0.3em;box-sizing: border-box;text-align: center;}#sk-container-id-8 label.sk-toggleable__label-arrow:before {content: \"▸\";float: left;margin-right: 0.25em;color: #696969;}#sk-container-id-8 label.sk-toggleable__label-arrow:hover:before {color: black;}#sk-container-id-8 div.sk-estimator:hover label.sk-toggleable__label-arrow:before {color: black;}#sk-container-id-8 div.sk-toggleable__content {max-height: 0;max-width: 0;overflow: hidden;text-align: left;background-color: #f0f8ff;}#sk-container-id-8 div.sk-toggleable__content pre {margin: 0.2em;color: black;border-radius: 0.25em;background-color: #f0f8ff;}#sk-container-id-8 input.sk-toggleable__control:checked~div.sk-toggleable__content {max-height: 200px;max-width: 100%;overflow: auto;}#sk-container-id-8 input.sk-toggleable__control:checked~label.sk-toggleable__label-arrow:before {content: \"▾\";}#sk-container-id-8 div.sk-estimator input.sk-toggleable__control:checked~label.sk-toggleable__label {background-color: #d4ebff;}#sk-container-id-8 div.sk-label input.sk-toggleable__control:checked~label.sk-toggleable__label {background-color: #d4ebff;}#sk-container-id-8 input.sk-hidden--visually {border: 0;clip: rect(1px 1px 1px 1px);clip: rect(1px, 1px, 1px, 1px);height: 1px;margin: -1px;overflow: hidden;padding: 0;position: absolute;width: 1px;}#sk-container-id-8 div.sk-estimator {font-family: monospace;background-color: #f0f8ff;border: 1px dotted black;border-radius: 0.25em;box-sizing: border-box;margin-bottom: 0.5em;}#sk-container-id-8 div.sk-estimator:hover {background-color: #d4ebff;}#sk-container-id-8 div.sk-parallel-item::after {content: \"\";width: 100%;border-bottom: 1px solid gray;flex-grow: 1;}#sk-container-id-8 div.sk-label:hover label.sk-toggleable__label {background-color: #d4ebff;}#sk-container-id-8 div.sk-serial::before {content: \"\";position: absolute;border-left: 1px solid gray;box-sizing: border-box;top: 0;bottom: 0;left: 50%;z-index: 0;}#sk-container-id-8 div.sk-serial {display: flex;flex-direction: column;align-items: center;background-color: white;padding-right: 0.2em;padding-left: 0.2em;position: relative;}#sk-container-id-8 div.sk-item {position: relative;z-index: 1;}#sk-container-id-8 div.sk-parallel {display: flex;align-items: stretch;justify-content: center;background-color: white;position: relative;}#sk-container-id-8 div.sk-item::before, #sk-container-id-8 div.sk-parallel-item::before {content: \"\";position: absolute;border-left: 1px solid gray;box-sizing: border-box;top: 0;bottom: 0;left: 50%;z-index: -1;}#sk-container-id-8 div.sk-parallel-item {display: flex;flex-direction: column;z-index: 1;position: relative;background-color: white;}#sk-container-id-8 div.sk-parallel-item:first-child::after {align-self: flex-end;width: 50%;}#sk-container-id-8 div.sk-parallel-item:last-child::after {align-self: flex-start;width: 50%;}#sk-container-id-8 div.sk-parallel-item:only-child::after {width: 0;}#sk-container-id-8 div.sk-dashed-wrapped {border: 1px dashed gray;margin: 0 0.4em 0.5em 0.4em;box-sizing: border-box;padding-bottom: 0.4em;background-color: white;}#sk-container-id-8 div.sk-label label {font-family: monospace;font-weight: bold;display: inline-block;line-height: 1.2em;}#sk-container-id-8 div.sk-label-container {text-align: center;}#sk-container-id-8 div.sk-container {/* jupyter's `normalize.less` sets `[hidden] { display: none; }` but bootstrap.min.css set `[hidden] { display: none !important; }` so we also need the `!important` here to be able to override the default hidden behavior on the sphinx rendered scikit-learn.org. See: https://github.com/scikit-learn/scikit-learn/issues/21755 */display: inline-block !important;position: relative;}#sk-container-id-8 div.sk-text-repr-fallback {display: none;}</style><div id=\"sk-container-id-8\" class=\"sk-top-container\"><div class=\"sk-text-repr-fallback\"><pre>KNeighborsClassifier()</pre><b>In a Jupyter environment, please rerun this cell to show the HTML representation or trust the notebook. <br />On GitHub, the HTML representation is unable to render, please try loading this page with nbviewer.org.</b></div><div class=\"sk-container\" hidden><div class=\"sk-item\"><div class=\"sk-estimator sk-toggleable\"><input class=\"sk-toggleable__control sk-hidden--visually\" id=\"sk-estimator-id-8\" type=\"checkbox\" checked><label for=\"sk-estimator-id-8\" class=\"sk-toggleable__label sk-toggleable__label-arrow\">KNeighborsClassifier</label><div class=\"sk-toggleable__content\"><pre>KNeighborsClassifier()</pre></div></div></div></div></div>"
      ],
      "text/plain": [
       "KNeighborsClassifier()"
      ]
     },
     "execution_count": 137,
     "metadata": {},
     "output_type": "execute_result"
    }
   ],
   "source": [
    "from sklearn.neighbors import KNeighborsClassifier\n",
    "\n",
    "knn = KNeighborsClassifier(n_neighbors=5, metric='minkowski', p=2)\n",
    "\n",
    "knn.fit(X_train, y_train)"
   ]
  },
  {
   "cell_type": "code",
   "execution_count": 138,
   "id": "75c21e04",
   "metadata": {},
   "outputs": [],
   "source": [
    "y_knn_pred = knn.predict(X_test)"
   ]
  },
  {
   "cell_type": "code",
   "execution_count": 139,
   "id": "c0bb850f",
   "metadata": {},
   "outputs": [
    {
     "data": {
      "text/plain": [
       "0.4039006501083514"
      ]
     },
     "execution_count": 139,
     "metadata": {},
     "output_type": "execute_result"
    }
   ],
   "source": [
    "from sklearn.metrics import accuracy_score\n",
    "\n",
    "accuracy_score(y_test, y_knn_pred)"
   ]
  },
  {
   "cell_type": "code",
   "execution_count": 140,
   "id": "1498225b",
   "metadata": {},
   "outputs": [
    {
     "data": {
      "text/plain": [
       "array([[1613,  122,  261],\n",
       "       [1379,  235,  414],\n",
       "       [1229,  171,  575]], dtype=int64)"
      ]
     },
     "execution_count": 140,
     "metadata": {},
     "output_type": "execute_result"
    }
   ],
   "source": [
    "from sklearn.metrics import confusion_matrix\n",
    "\n",
    "confusion_matrix(y_test, y_knn_pred)"
   ]
  },
  {
   "cell_type": "code",
   "execution_count": 141,
   "id": "7f2bdf45",
   "metadata": {},
   "outputs": [
    {
     "name": "stdout",
     "output_type": "stream",
     "text": [
      "              precision    recall  f1-score   support\n",
      "\n",
      "         0.0       0.38      0.81      0.52      1996\n",
      "         1.0       0.45      0.12      0.18      2028\n",
      "         2.0       0.46      0.29      0.36      1975\n",
      "\n",
      "    accuracy                           0.40      5999\n",
      "   macro avg       0.43      0.41      0.35      5999\n",
      "weighted avg       0.43      0.40      0.35      5999\n",
      "\n"
     ]
    }
   ],
   "source": [
    "from sklearn.metrics import classification_report\n",
    "\n",
    "\n",
    "print(classification_report(y_test, y_knn_pred))"
   ]
  },
  {
   "cell_type": "code",
   "execution_count": 142,
   "id": "d8fa1e3d",
   "metadata": {},
   "outputs": [
    {
     "data": {
      "text/plain": [
       "0.5542536223734514"
      ]
     },
     "execution_count": 142,
     "metadata": {},
     "output_type": "execute_result"
    }
   ],
   "source": [
    "import matplotlib.pyplot as plt\n",
    "from sklearn.metrics import roc_auc_score\n",
    "\n",
    "roc_auc_score(y_test, knn.predict_proba(X_test), multi_class='ovo')"
   ]
  },
  {
   "cell_type": "markdown",
   "id": "36e0ba7b",
   "metadata": {},
   "source": [
    "# sklearn NB"
   ]
  },
  {
   "cell_type": "code",
   "execution_count": 112,
   "id": "029f7fbf",
   "metadata": {},
   "outputs": [
    {
     "data": {
      "text/html": [
       "<style>#sk-container-id-6 {color: black;background-color: white;}#sk-container-id-6 pre{padding: 0;}#sk-container-id-6 div.sk-toggleable {background-color: white;}#sk-container-id-6 label.sk-toggleable__label {cursor: pointer;display: block;width: 100%;margin-bottom: 0;padding: 0.3em;box-sizing: border-box;text-align: center;}#sk-container-id-6 label.sk-toggleable__label-arrow:before {content: \"▸\";float: left;margin-right: 0.25em;color: #696969;}#sk-container-id-6 label.sk-toggleable__label-arrow:hover:before {color: black;}#sk-container-id-6 div.sk-estimator:hover label.sk-toggleable__label-arrow:before {color: black;}#sk-container-id-6 div.sk-toggleable__content {max-height: 0;max-width: 0;overflow: hidden;text-align: left;background-color: #f0f8ff;}#sk-container-id-6 div.sk-toggleable__content pre {margin: 0.2em;color: black;border-radius: 0.25em;background-color: #f0f8ff;}#sk-container-id-6 input.sk-toggleable__control:checked~div.sk-toggleable__content {max-height: 200px;max-width: 100%;overflow: auto;}#sk-container-id-6 input.sk-toggleable__control:checked~label.sk-toggleable__label-arrow:before {content: \"▾\";}#sk-container-id-6 div.sk-estimator input.sk-toggleable__control:checked~label.sk-toggleable__label {background-color: #d4ebff;}#sk-container-id-6 div.sk-label input.sk-toggleable__control:checked~label.sk-toggleable__label {background-color: #d4ebff;}#sk-container-id-6 input.sk-hidden--visually {border: 0;clip: rect(1px 1px 1px 1px);clip: rect(1px, 1px, 1px, 1px);height: 1px;margin: -1px;overflow: hidden;padding: 0;position: absolute;width: 1px;}#sk-container-id-6 div.sk-estimator {font-family: monospace;background-color: #f0f8ff;border: 1px dotted black;border-radius: 0.25em;box-sizing: border-box;margin-bottom: 0.5em;}#sk-container-id-6 div.sk-estimator:hover {background-color: #d4ebff;}#sk-container-id-6 div.sk-parallel-item::after {content: \"\";width: 100%;border-bottom: 1px solid gray;flex-grow: 1;}#sk-container-id-6 div.sk-label:hover label.sk-toggleable__label {background-color: #d4ebff;}#sk-container-id-6 div.sk-serial::before {content: \"\";position: absolute;border-left: 1px solid gray;box-sizing: border-box;top: 0;bottom: 0;left: 50%;z-index: 0;}#sk-container-id-6 div.sk-serial {display: flex;flex-direction: column;align-items: center;background-color: white;padding-right: 0.2em;padding-left: 0.2em;position: relative;}#sk-container-id-6 div.sk-item {position: relative;z-index: 1;}#sk-container-id-6 div.sk-parallel {display: flex;align-items: stretch;justify-content: center;background-color: white;position: relative;}#sk-container-id-6 div.sk-item::before, #sk-container-id-6 div.sk-parallel-item::before {content: \"\";position: absolute;border-left: 1px solid gray;box-sizing: border-box;top: 0;bottom: 0;left: 50%;z-index: -1;}#sk-container-id-6 div.sk-parallel-item {display: flex;flex-direction: column;z-index: 1;position: relative;background-color: white;}#sk-container-id-6 div.sk-parallel-item:first-child::after {align-self: flex-end;width: 50%;}#sk-container-id-6 div.sk-parallel-item:last-child::after {align-self: flex-start;width: 50%;}#sk-container-id-6 div.sk-parallel-item:only-child::after {width: 0;}#sk-container-id-6 div.sk-dashed-wrapped {border: 1px dashed gray;margin: 0 0.4em 0.5em 0.4em;box-sizing: border-box;padding-bottom: 0.4em;background-color: white;}#sk-container-id-6 div.sk-label label {font-family: monospace;font-weight: bold;display: inline-block;line-height: 1.2em;}#sk-container-id-6 div.sk-label-container {text-align: center;}#sk-container-id-6 div.sk-container {/* jupyter's `normalize.less` sets `[hidden] { display: none; }` but bootstrap.min.css set `[hidden] { display: none !important; }` so we also need the `!important` here to be able to override the default hidden behavior on the sphinx rendered scikit-learn.org. See: https://github.com/scikit-learn/scikit-learn/issues/21755 */display: inline-block !important;position: relative;}#sk-container-id-6 div.sk-text-repr-fallback {display: none;}</style><div id=\"sk-container-id-6\" class=\"sk-top-container\"><div class=\"sk-text-repr-fallback\"><pre>GaussianNB()</pre><b>In a Jupyter environment, please rerun this cell to show the HTML representation or trust the notebook. <br />On GitHub, the HTML representation is unable to render, please try loading this page with nbviewer.org.</b></div><div class=\"sk-container\" hidden><div class=\"sk-item\"><div class=\"sk-estimator sk-toggleable\"><input class=\"sk-toggleable__control sk-hidden--visually\" id=\"sk-estimator-id-6\" type=\"checkbox\" checked><label for=\"sk-estimator-id-6\" class=\"sk-toggleable__label sk-toggleable__label-arrow\">GaussianNB</label><div class=\"sk-toggleable__content\"><pre>GaussianNB()</pre></div></div></div></div></div>"
      ],
      "text/plain": [
       "GaussianNB()"
      ]
     },
     "execution_count": 112,
     "metadata": {},
     "output_type": "execute_result"
    }
   ],
   "source": [
    "from sklearn.naive_bayes import GaussianNB\n",
    "\n",
    "gnb = GaussianNB()\n",
    "gnb.fit(X_train, y_train)"
   ]
  },
  {
   "cell_type": "code",
   "execution_count": 128,
   "id": "ac09eff6",
   "metadata": {},
   "outputs": [],
   "source": [
    "y_gnb_pred = gnb.predict(X_test)"
   ]
  },
  {
   "cell_type": "code",
   "execution_count": 129,
   "id": "9e802c10",
   "metadata": {},
   "outputs": [
    {
     "data": {
      "text/plain": [
       "0.32838806467744625"
      ]
     },
     "execution_count": 129,
     "metadata": {},
     "output_type": "execute_result"
    }
   ],
   "source": [
    "accuracy_score(y_test, y_gnb_pred)"
   ]
  },
  {
   "cell_type": "code",
   "execution_count": 130,
   "id": "4141344a",
   "metadata": {},
   "outputs": [
    {
     "data": {
      "text/plain": [
       "array([[   0,   32, 1964],\n",
       "       [   0,   17, 2011],\n",
       "       [   0,   22, 1953]], dtype=int64)"
      ]
     },
     "execution_count": 130,
     "metadata": {},
     "output_type": "execute_result"
    }
   ],
   "source": [
    "confusion_matrix(y_test, y_gnb_pred)"
   ]
  },
  {
   "cell_type": "code",
   "execution_count": 131,
   "id": "a6e156a6",
   "metadata": {},
   "outputs": [
    {
     "name": "stdout",
     "output_type": "stream",
     "text": [
      "              precision    recall  f1-score   support\n",
      "\n",
      "         0.0       0.00      0.00      0.00      1996\n",
      "         1.0       0.24      0.01      0.02      2028\n",
      "         2.0       0.33      0.99      0.49      1975\n",
      "\n",
      "    accuracy                           0.33      5999\n",
      "   macro avg       0.19      0.33      0.17      5999\n",
      "weighted avg       0.19      0.33      0.17      5999\n",
      "\n"
     ]
    },
    {
     "name": "stderr",
     "output_type": "stream",
     "text": [
      "C:\\Users\\Егор\\Desktop\\programming\\ML\\lab1\\venv\\lib\\site-packages\\sklearn\\metrics\\_classification.py:1344: UndefinedMetricWarning: Precision and F-score are ill-defined and being set to 0.0 in labels with no predicted samples. Use `zero_division` parameter to control this behavior.\n",
      "  _warn_prf(average, modifier, msg_start, len(result))\n",
      "C:\\Users\\Егор\\Desktop\\programming\\ML\\lab1\\venv\\lib\\site-packages\\sklearn\\metrics\\_classification.py:1344: UndefinedMetricWarning: Precision and F-score are ill-defined and being set to 0.0 in labels with no predicted samples. Use `zero_division` parameter to control this behavior.\n",
      "  _warn_prf(average, modifier, msg_start, len(result))\n",
      "C:\\Users\\Егор\\Desktop\\programming\\ML\\lab1\\venv\\lib\\site-packages\\sklearn\\metrics\\_classification.py:1344: UndefinedMetricWarning: Precision and F-score are ill-defined and being set to 0.0 in labels with no predicted samples. Use `zero_division` parameter to control this behavior.\n",
      "  _warn_prf(average, modifier, msg_start, len(result))\n"
     ]
    }
   ],
   "source": [
    "print(classification_report(y_test, y_gnb_pred))"
   ]
  },
  {
   "cell_type": "code",
   "execution_count": 132,
   "id": "4e555a3a",
   "metadata": {},
   "outputs": [
    {
     "data": {
      "text/plain": [
       "0.5799201170965173"
      ]
     },
     "execution_count": 132,
     "metadata": {},
     "output_type": "execute_result"
    }
   ],
   "source": [
    "roc_auc_score(y_test, gnb.predict_proba(X_test), multi_class='ovo')"
   ]
  },
  {
   "cell_type": "markdown",
   "id": "a1b26ef4",
   "metadata": {},
   "source": [
    "# sklearn LR"
   ]
  },
  {
   "cell_type": "code",
   "execution_count": 133,
   "id": "884f3021",
   "metadata": {},
   "outputs": [
    {
     "data": {
      "text/html": [
       "<style>#sk-container-id-7 {color: black;background-color: white;}#sk-container-id-7 pre{padding: 0;}#sk-container-id-7 div.sk-toggleable {background-color: white;}#sk-container-id-7 label.sk-toggleable__label {cursor: pointer;display: block;width: 100%;margin-bottom: 0;padding: 0.3em;box-sizing: border-box;text-align: center;}#sk-container-id-7 label.sk-toggleable__label-arrow:before {content: \"▸\";float: left;margin-right: 0.25em;color: #696969;}#sk-container-id-7 label.sk-toggleable__label-arrow:hover:before {color: black;}#sk-container-id-7 div.sk-estimator:hover label.sk-toggleable__label-arrow:before {color: black;}#sk-container-id-7 div.sk-toggleable__content {max-height: 0;max-width: 0;overflow: hidden;text-align: left;background-color: #f0f8ff;}#sk-container-id-7 div.sk-toggleable__content pre {margin: 0.2em;color: black;border-radius: 0.25em;background-color: #f0f8ff;}#sk-container-id-7 input.sk-toggleable__control:checked~div.sk-toggleable__content {max-height: 200px;max-width: 100%;overflow: auto;}#sk-container-id-7 input.sk-toggleable__control:checked~label.sk-toggleable__label-arrow:before {content: \"▾\";}#sk-container-id-7 div.sk-estimator input.sk-toggleable__control:checked~label.sk-toggleable__label {background-color: #d4ebff;}#sk-container-id-7 div.sk-label input.sk-toggleable__control:checked~label.sk-toggleable__label {background-color: #d4ebff;}#sk-container-id-7 input.sk-hidden--visually {border: 0;clip: rect(1px 1px 1px 1px);clip: rect(1px, 1px, 1px, 1px);height: 1px;margin: -1px;overflow: hidden;padding: 0;position: absolute;width: 1px;}#sk-container-id-7 div.sk-estimator {font-family: monospace;background-color: #f0f8ff;border: 1px dotted black;border-radius: 0.25em;box-sizing: border-box;margin-bottom: 0.5em;}#sk-container-id-7 div.sk-estimator:hover {background-color: #d4ebff;}#sk-container-id-7 div.sk-parallel-item::after {content: \"\";width: 100%;border-bottom: 1px solid gray;flex-grow: 1;}#sk-container-id-7 div.sk-label:hover label.sk-toggleable__label {background-color: #d4ebff;}#sk-container-id-7 div.sk-serial::before {content: \"\";position: absolute;border-left: 1px solid gray;box-sizing: border-box;top: 0;bottom: 0;left: 50%;z-index: 0;}#sk-container-id-7 div.sk-serial {display: flex;flex-direction: column;align-items: center;background-color: white;padding-right: 0.2em;padding-left: 0.2em;position: relative;}#sk-container-id-7 div.sk-item {position: relative;z-index: 1;}#sk-container-id-7 div.sk-parallel {display: flex;align-items: stretch;justify-content: center;background-color: white;position: relative;}#sk-container-id-7 div.sk-item::before, #sk-container-id-7 div.sk-parallel-item::before {content: \"\";position: absolute;border-left: 1px solid gray;box-sizing: border-box;top: 0;bottom: 0;left: 50%;z-index: -1;}#sk-container-id-7 div.sk-parallel-item {display: flex;flex-direction: column;z-index: 1;position: relative;background-color: white;}#sk-container-id-7 div.sk-parallel-item:first-child::after {align-self: flex-end;width: 50%;}#sk-container-id-7 div.sk-parallel-item:last-child::after {align-self: flex-start;width: 50%;}#sk-container-id-7 div.sk-parallel-item:only-child::after {width: 0;}#sk-container-id-7 div.sk-dashed-wrapped {border: 1px dashed gray;margin: 0 0.4em 0.5em 0.4em;box-sizing: border-box;padding-bottom: 0.4em;background-color: white;}#sk-container-id-7 div.sk-label label {font-family: monospace;font-weight: bold;display: inline-block;line-height: 1.2em;}#sk-container-id-7 div.sk-label-container {text-align: center;}#sk-container-id-7 div.sk-container {/* jupyter's `normalize.less` sets `[hidden] { display: none; }` but bootstrap.min.css set `[hidden] { display: none !important; }` so we also need the `!important` here to be able to override the default hidden behavior on the sphinx rendered scikit-learn.org. See: https://github.com/scikit-learn/scikit-learn/issues/21755 */display: inline-block !important;position: relative;}#sk-container-id-7 div.sk-text-repr-fallback {display: none;}</style><div id=\"sk-container-id-7\" class=\"sk-top-container\"><div class=\"sk-text-repr-fallback\"><pre>LogisticRegression(solver=&#x27;liblinear&#x27;)</pre><b>In a Jupyter environment, please rerun this cell to show the HTML representation or trust the notebook. <br />On GitHub, the HTML representation is unable to render, please try loading this page with nbviewer.org.</b></div><div class=\"sk-container\" hidden><div class=\"sk-item\"><div class=\"sk-estimator sk-toggleable\"><input class=\"sk-toggleable__control sk-hidden--visually\" id=\"sk-estimator-id-7\" type=\"checkbox\" checked><label for=\"sk-estimator-id-7\" class=\"sk-toggleable__label sk-toggleable__label-arrow\">LogisticRegression</label><div class=\"sk-toggleable__content\"><pre>LogisticRegression(solver=&#x27;liblinear&#x27;)</pre></div></div></div></div></div>"
      ],
      "text/plain": [
       "LogisticRegression(solver='liblinear')"
      ]
     },
     "execution_count": 133,
     "metadata": {},
     "output_type": "execute_result"
    }
   ],
   "source": [
    "from sklearn.linear_model import LogisticRegression\n",
    "\n",
    "lr = LogisticRegression(solver='liblinear')\n",
    "lr.fit(X_train, y_train)"
   ]
  },
  {
   "cell_type": "code",
   "execution_count": 134,
   "id": "d630ab20",
   "metadata": {},
   "outputs": [],
   "source": [
    "y_lr_pred = lr.predict(X_test)"
   ]
  },
  {
   "cell_type": "code",
   "execution_count": 143,
   "id": "49216069",
   "metadata": {},
   "outputs": [
    {
     "data": {
      "text/plain": [
       "0.32922153692282047"
      ]
     },
     "execution_count": 143,
     "metadata": {},
     "output_type": "execute_result"
    }
   ],
   "source": [
    "accuracy_score(y_test, y_lr_pred)"
   ]
  },
  {
   "cell_type": "code",
   "execution_count": 144,
   "id": "c4ffbe68",
   "metadata": {},
   "outputs": [
    {
     "data": {
      "text/plain": [
       "array([[   0,    5, 1991],\n",
       "       [   0,    0, 2028],\n",
       "       [   0,    0, 1975]], dtype=int64)"
      ]
     },
     "execution_count": 144,
     "metadata": {},
     "output_type": "execute_result"
    }
   ],
   "source": [
    "confusion_matrix(y_test, y_lr_pred)"
   ]
  },
  {
   "cell_type": "code",
   "execution_count": 145,
   "id": "1a8db270",
   "metadata": {},
   "outputs": [
    {
     "name": "stdout",
     "output_type": "stream",
     "text": [
      "              precision    recall  f1-score   support\n",
      "\n",
      "         0.0       0.00      0.00      0.00      1996\n",
      "         1.0       0.00      0.00      0.00      2028\n",
      "         2.0       0.33      1.00      0.50      1975\n",
      "\n",
      "    accuracy                           0.33      5999\n",
      "   macro avg       0.11      0.33      0.17      5999\n",
      "weighted avg       0.11      0.33      0.16      5999\n",
      "\n"
     ]
    },
    {
     "name": "stderr",
     "output_type": "stream",
     "text": [
      "C:\\Users\\Егор\\Desktop\\programming\\ML\\lab1\\venv\\lib\\site-packages\\sklearn\\metrics\\_classification.py:1344: UndefinedMetricWarning: Precision and F-score are ill-defined and being set to 0.0 in labels with no predicted samples. Use `zero_division` parameter to control this behavior.\n",
      "  _warn_prf(average, modifier, msg_start, len(result))\n",
      "C:\\Users\\Егор\\Desktop\\programming\\ML\\lab1\\venv\\lib\\site-packages\\sklearn\\metrics\\_classification.py:1344: UndefinedMetricWarning: Precision and F-score are ill-defined and being set to 0.0 in labels with no predicted samples. Use `zero_division` parameter to control this behavior.\n",
      "  _warn_prf(average, modifier, msg_start, len(result))\n",
      "C:\\Users\\Егор\\Desktop\\programming\\ML\\lab1\\venv\\lib\\site-packages\\sklearn\\metrics\\_classification.py:1344: UndefinedMetricWarning: Precision and F-score are ill-defined and being set to 0.0 in labels with no predicted samples. Use `zero_division` parameter to control this behavior.\n",
      "  _warn_prf(average, modifier, msg_start, len(result))\n"
     ]
    }
   ],
   "source": [
    "print(classification_report(y_test, y_lr_pred))"
   ]
  },
  {
   "cell_type": "code",
   "execution_count": 146,
   "id": "c8a4f281",
   "metadata": {},
   "outputs": [
    {
     "data": {
      "text/plain": [
       "0.5666540742584212"
      ]
     },
     "execution_count": 146,
     "metadata": {},
     "output_type": "execute_result"
    }
   ],
   "source": [
    "roc_auc_score(y_test, lr.predict_proba(X_test), multi_class='ovo')"
   ]
  },
  {
   "cell_type": "markdown",
   "id": "e4098f35",
   "metadata": {},
   "source": [
    "# Задание 3"
   ]
  },
  {
   "cell_type": "markdown",
   "id": "c6deae6f",
   "metadata": {},
   "source": [
    "## Accuracy"
   ]
  },
  {
   "cell_type": "code",
   "execution_count": 148,
   "id": "474a5c04",
   "metadata": {},
   "outputs": [
    {
     "data": {
      "text/plain": [
       "0.4039006501083514"
      ]
     },
     "execution_count": 148,
     "metadata": {},
     "output_type": "execute_result"
    }
   ],
   "source": [
    "def accuracy(y_test, y_pred):\n",
    "    if y_test.shape != y_pred.shape:\n",
    "        return\n",
    "    y_test = list(y_test)\n",
    "    y_pred = list(y_pred)\n",
    "    return sum([ y_test[i] == y_pred[i] for i in range(len(y_test))]) / len(y_test)\n",
    "\n",
    "accuracy(y_test, y_knn_pred)"
   ]
  },
  {
   "cell_type": "markdown",
   "id": "d9242317",
   "metadata": {},
   "source": [
    "## Precision"
   ]
  },
  {
   "cell_type": "code",
   "execution_count": 210,
   "id": "f519a2ed",
   "metadata": {},
   "outputs": [
    {
     "data": {
      "text/plain": [
       "{0.0: 0, 1.0: 0.24, 2.0: 0.33}"
      ]
     },
     "execution_count": 210,
     "metadata": {},
     "output_type": "execute_result"
    }
   ],
   "source": [
    "def precision(y_test, y_pred):\n",
    "    if y_test.shape != y_pred.shape:\n",
    "        return\n",
    "    y_test = list(y_test)\n",
    "    y_pred = list(y_pred)\n",
    "    \n",
    "    preds = {\n",
    "        \n",
    "    }\n",
    "    \n",
    "    result = {\n",
    "        \n",
    "    }\n",
    "    \n",
    "    for i in set(y_test):\n",
    "        pred_right = sum([y_test[j] == y_pred[j] and y_test[j] == i for j in range(len(y_test))])\n",
    "        pred_total = sum([y_pred[j] == i for j in range(len(y_test))])\n",
    "        preds[i] = pred_right, pred_total\n",
    "        \n",
    "    for i in set(y_test):\n",
    "        result[i] = round(preds[i][0] / preds[i][1] if preds[i][1] else 0, 2)\n",
    "        \n",
    "    return result\n",
    "\n",
    "precision(y_test, y_gnb_pred)\n"
   ]
  },
  {
   "cell_type": "markdown",
   "id": "af9326cf",
   "metadata": {},
   "source": [
    "## Recall"
   ]
  },
  {
   "cell_type": "code",
   "execution_count": 219,
   "id": "b73bb4cd",
   "metadata": {},
   "outputs": [
    {
     "data": {
      "text/plain": [
       "{0.0: 0.81, 1.0: 0.12, 2.0: 0.29}"
      ]
     },
     "execution_count": 219,
     "metadata": {},
     "output_type": "execute_result"
    }
   ],
   "source": [
    "def recall(y_test, y_pred):\n",
    "    if y_test.shape != y_pred.shape:\n",
    "        return\n",
    "    y_test = list(y_test)\n",
    "    y_pred = list(y_pred)\n",
    "    \n",
    "    preds = {\n",
    "        \n",
    "    }\n",
    "    \n",
    "    actual = {\n",
    "        \n",
    "    }\n",
    "    \n",
    "    result = {\n",
    "        \n",
    "    }\n",
    "    \n",
    "    for i in set(y_test):\n",
    "        pred_right = sum([y_test[j] == y_pred[j] and y_test[j] == i for j in range(len(y_test))])\n",
    "        pred_total = sum([y_pred[j] == i for j in range(len(y_test))])\n",
    "        actual = sum([y_test[j] == i for j in range(len(y_test))])\n",
    "\n",
    "        preds[i] = pred_right, pred_total, actual\n",
    "    \n",
    "    for i in set(y_test):\n",
    "        result[i] = round(preds[i][0] / (preds[i][2]), 2)\n",
    "        \n",
    "    return result\n",
    "    \n",
    "recall(y_test, y_knn_pred)"
   ]
  },
  {
   "cell_type": "code",
   "execution_count": 223,
   "id": "20b1cd5a",
   "metadata": {},
   "outputs": [
    {
     "data": {
      "text/plain": [
       "{0.0: 0.52, 1.0: 0.19, 2.0: 0.36}"
      ]
     },
     "execution_count": 223,
     "metadata": {},
     "output_type": "execute_result"
    }
   ],
   "source": [
    "def F1(y_test, y_pred):\n",
    "    result = {}\n",
    "    for i in set(list(y_test)):\n",
    "        if precision(y_test, y_pred)[i] + recall(y_test, y_pred)[i] == 0:\n",
    "            result[i] = 0\n",
    "            continue\n",
    "        result[i] = round((2 * precision(y_test, y_pred)[i] * recall(y_test, y_pred)[i]) / (precision(y_test, y_pred)[i] + recall(y_test, y_pred)[i]), 2)\n",
    "        \n",
    "    return result\n",
    "        \n",
    "F1(y_test, y_knn_pred)"
   ]
  },
  {
   "cell_type": "markdown",
   "id": "d72b05ed",
   "metadata": {},
   "source": [
    "# kNN"
   ]
  },
  {
   "cell_type": "code",
   "execution_count": 272,
   "id": "312fa5f0",
   "metadata": {},
   "outputs": [],
   "source": [
    "def dist(point, points):\n",
    "    return np.sqrt(np.sum((point - points)**2, axis=1))\n",
    "\n",
    "class KNearNeighbors():\n",
    "    def __init__(self, k=5):\n",
    "        self.k = k\n",
    "        self.dist = dist\n",
    "        \n",
    "    def fit(self, X_train, y_train):\n",
    "        self.X_train = X_train\n",
    "        self.y_train = y_train\n",
    "        \n",
    "    def predict(self, X):\n",
    "        \n",
    "        neighbors = []\n",
    "        \n",
    "        for i in X.to_numpy():\n",
    "            distances = self.dist(i, self.X_train)\n",
    "            dists_sorted = [j[0] for j in sorted(zip(distances, self.y_train))]\n",
    "            neighbors.append(dists_sorted[:self.k])\n",
    "            \n",
    "        result = []\n",
    "        \n",
    "        for n in neighbors:\n",
    "            result.append(max([(i, n.count(i)) for i in n], key=lambda x: x[1])[0])\n",
    "            \n",
    "        return result\n",
    "            \n",
    "    def score(self, X_test, y_test):\n",
    "        print(y_train[0] == y_test[0])\n",
    "#         y_pred = self.predict(X_test)\n",
    "#         accuracy = sum([y_pred[i] == y_test for  in y_pred]) / len(y_test)\n",
    "#         return accuracy\n",
    "\n",
    "    def print1(self):\n",
    "        print(1)\n"
   ]
  },
  {
   "cell_type": "code",
   "execution_count": 273,
   "id": "a36a4fff",
   "metadata": {},
   "outputs": [
    {
     "ename": "AttributeError",
     "evalue": "'KNearNeighbors' object has no attribute 'print1'",
     "output_type": "error",
     "traceback": [
      "\u001b[1;31m---------------------------------------------------------------------------\u001b[0m",
      "\u001b[1;31mAttributeError\u001b[0m                            Traceback (most recent call last)",
      "Cell \u001b[1;32mIn[273], line 2\u001b[0m\n\u001b[0;32m      1\u001b[0m \u001b[38;5;66;03m# knn1.score(X_test, y_knn1_pred)\u001b[39;00m\n\u001b[1;32m----> 2\u001b[0m \u001b[43mknn1\u001b[49m\u001b[38;5;241;43m.\u001b[39;49m\u001b[43mprint1\u001b[49m()\n",
      "\u001b[1;31mAttributeError\u001b[0m: 'KNearNeighbors' object has no attribute 'print1'"
     ]
    }
   ],
   "source": [
    "# knn1.score(X_test, y_knn1_pred)\n",
    "knn1.print1()"
   ]
  },
  {
   "cell_type": "code",
   "execution_count": 263,
   "id": "60198ca1",
   "metadata": {},
   "outputs": [],
   "source": [
    "# knn = KNeighborsClassifier(n_neighbors=5, metric='minkowski', p=2)\n",
    "\n",
    "# knn.fit(X_train, y_train)\n",
    "\n",
    "# y_knn_pred = knn.predict(X_test)\n",
    "\n",
    "knn1 = KNearNeighbors()\n",
    "knn1.fit(X_train, y_train)\n",
    "\n",
    "y_knn1_pred = knn1.predict(X_test)"
   ]
  },
  {
   "cell_type": "code",
   "execution_count": null,
   "id": "48230e29",
   "metadata": {},
   "outputs": [],
   "source": []
  }
 ],
 "metadata": {
  "kernelspec": {
   "display_name": "Python 3 (ipykernel)",
   "language": "python",
   "name": "python3"
  },
  "language_info": {
   "codemirror_mode": {
    "name": "ipython",
    "version": 3
   },
   "file_extension": ".py",
   "mimetype": "text/x-python",
   "name": "python",
   "nbconvert_exporter": "python",
   "pygments_lexer": "ipython3",
   "version": "3.9.10"
  }
 },
 "nbformat": 4,
 "nbformat_minor": 5
}
